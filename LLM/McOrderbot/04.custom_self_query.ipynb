{
 "cells": [
  {
   "cell_type": "markdown",
   "metadata": {},
   "source": [
    "based on  \n",
    "https://github.com/langchain-ai/langchain/blob/master/cookbook/self_query_hotel_search.ipynb"
   ]
  },
  {
   "cell_type": "markdown",
   "metadata": {},
   "source": [
    "## 데이터전처리"
   ]
  },
  {
   "cell_type": "code",
   "execution_count": 2,
   "metadata": {},
   "outputs": [],
   "source": [
    "import pandas as pd"
   ]
  },
  {
   "cell_type": "code",
   "execution_count": null,
   "metadata": {},
   "outputs": [],
   "source": [
    "data = pd.read_csv('/home/yoojin/ML/aiffel/HackaThon/modu_hackaton/LLM/files_yj/MD_menu.csv')"
   ]
  },
  {
   "cell_type": "code",
   "execution_count": null,
   "metadata": {},
   "outputs": [
    {
     "data": {
      "text/html": [
       "<div>\n",
       "<style scoped>\n",
       "    .dataframe tbody tr th:only-of-type {\n",
       "        vertical-align: middle;\n",
       "    }\n",
       "\n",
       "    .dataframe tbody tr th {\n",
       "        vertical-align: top;\n",
       "    }\n",
       "\n",
       "    .dataframe thead th {\n",
       "        text-align: right;\n",
       "    }\n",
       "</style>\n",
       "<table border=\"1\" class=\"dataframe\">\n",
       "  <thead>\n",
       "    <tr style=\"text-align: right;\">\n",
       "      <th></th>\n",
       "      <th>메뉴 이름</th>\n",
       "      <th>카테고리</th>\n",
       "      <th>신메뉴</th>\n",
       "      <th>메뉴 설명</th>\n",
       "      <th>식재료</th>\n",
       "      <th>중량</th>\n",
       "      <th>열량</th>\n",
       "      <th>가격</th>\n",
       "      <th>세트메뉴 가능여부</th>\n",
       "      <th>세트가격</th>\n",
       "    </tr>\n",
       "  </thead>\n",
       "  <tbody>\n",
       "    <tr>\n",
       "      <th>0</th>\n",
       "      <td>맥크리스피 스리라차 마요</td>\n",
       "      <td>버거</td>\n",
       "      <td>True</td>\n",
       "      <td>빠삭한 100% 통닭다리살 케이준 패티에 스리라차 마요 소스를 더해 매콤 고소한 맛</td>\n",
       "      <td>난류,우유,대두,밀,토마토,닭고기,쇠고기</td>\n",
       "      <td>289.0</td>\n",
       "      <td>663.0</td>\n",
       "      <td>8600</td>\n",
       "      <td>True</td>\n",
       "      <td>10500.0</td>\n",
       "    </tr>\n",
       "    <tr>\n",
       "      <th>1</th>\n",
       "      <td>베토디 스리라차 마요</td>\n",
       "      <td>버거</td>\n",
       "      <td>True</td>\n",
       "      <td>베이컨 토마토 디럭스에 스리라차 마요 소스를 더해 색다른 매콤함!</td>\n",
       "      <td>난류,우유,대두,밀,돼지고기,토마토,쇠고기</td>\n",
       "      <td>251.0</td>\n",
       "      <td>621.0</td>\n",
       "      <td>7600</td>\n",
       "      <td>True</td>\n",
       "      <td>9500.0</td>\n",
       "    </tr>\n",
       "    <tr>\n",
       "      <th>2</th>\n",
       "      <td>맥스파이시 상하이 버거</td>\n",
       "      <td>버거</td>\n",
       "      <td>False</td>\n",
       "      <td>쌀가루가 더해져 더 바삭해진 100% 닭가슴살 패티에 아삭아삭한 양상추와 신선한 토...</td>\n",
       "      <td>난류,대두,밀,토마토,닭고기</td>\n",
       "      <td>246.0</td>\n",
       "      <td>501.0</td>\n",
       "      <td>6300</td>\n",
       "      <td>True</td>\n",
       "      <td>8400.0</td>\n",
       "    </tr>\n",
       "    <tr>\n",
       "      <th>3</th>\n",
       "      <td>토마토 치즈 비프 버거</td>\n",
       "      <td>버거</td>\n",
       "      <td>True</td>\n",
       "      <td>신선한 토마토와 고소한 치즈버거의 조화</td>\n",
       "      <td>난류,우유,대두,밀,토마토,쇠고기</td>\n",
       "      <td>200.0</td>\n",
       "      <td>403.0</td>\n",
       "      <td>4600</td>\n",
       "      <td>True</td>\n",
       "      <td>6900.0</td>\n",
       "    </tr>\n",
       "    <tr>\n",
       "      <th>4</th>\n",
       "      <td>더블 쿼터파운더 치즈</td>\n",
       "      <td>버거</td>\n",
       "      <td>False</td>\n",
       "      <td>좋아하는건 더 많이 즐기시라고, 두 배 이상 커진 1/4 파운드 비프 패티가 두 장...</td>\n",
       "      <td>우유,대두,밀,토마토,쇠고기</td>\n",
       "      <td>275.0</td>\n",
       "      <td>770.0</td>\n",
       "      <td>8200</td>\n",
       "      <td>True</td>\n",
       "      <td>10400.0</td>\n",
       "    </tr>\n",
       "  </tbody>\n",
       "</table>\n",
       "</div>"
      ],
      "text/plain": [
       "          메뉴 이름  카테고리    신메뉴  \\\n",
       "0  맥크리스피 스리라차 마요  버거    True   \n",
       "1    베토디 스리라차 마요  버거    True   \n",
       "2   맥스파이시 상하이 버거  버거   False   \n",
       "3   토마토 치즈 비프 버거  버거    True   \n",
       "4    더블 쿼터파운더 치즈  버거   False   \n",
       "\n",
       "                                              메뉴 설명                       식재료  \\\n",
       "0    빠삭한 100% 통닭다리살 케이준 패티에 스리라차 마요 소스를 더해 매콤 고소한 맛    난류,우유,대두,밀,토마토,닭고기,쇠고기   \n",
       "1               베이컨 토마토 디럭스에 스리라차 마요 소스를 더해 색다른 매콤함!  난류,우유,대두,밀,돼지고기,토마토,쇠고기   \n",
       "2  쌀가루가 더해져 더 바삭해진 100% 닭가슴살 패티에 아삭아삭한 양상추와 신선한 토...          난류,대두,밀,토마토,닭고기   \n",
       "3                              신선한 토마토와 고소한 치즈버거의 조화       난류,우유,대두,밀,토마토,쇠고기   \n",
       "4  좋아하는건 더 많이 즐기시라고, 두 배 이상 커진 1/4 파운드 비프 패티가 두 장...          우유,대두,밀,토마토,쇠고기   \n",
       "\n",
       "      중량     열량   가격  세트메뉴 가능여부    세트가격   \n",
       "0  289.0  663.0  8600      True  10500.0  \n",
       "1  251.0  621.0  7600      True   9500.0  \n",
       "2  246.0  501.0  6300      True   8400.0  \n",
       "3  200.0  403.0  4600      True   6900.0  \n",
       "4  275.0  770.0  8200      True  10400.0  "
      ]
     },
     "execution_count": 35,
     "metadata": {},
     "output_type": "execute_result"
    }
   ],
   "source": [
    "# 결과 확인\n",
    "data.head()"
   ]
  },
  {
   "cell_type": "code",
   "execution_count": null,
   "metadata": {},
   "outputs": [
    {
     "name": "stdout",
     "output_type": "stream",
     "text": [
      "<class 'pandas.core.frame.DataFrame'>\n",
      "RangeIndex: 27 entries, 0 to 26\n",
      "Data columns (total 10 columns):\n",
      " #   Column     Non-Null Count  Dtype  \n",
      "---  ------     --------------  -----  \n",
      " 0   메뉴 이름      27 non-null     object \n",
      " 1   카테고리       27 non-null     object \n",
      " 2   신메뉴        27 non-null     bool   \n",
      " 3   메뉴 설명      27 non-null     object \n",
      " 4   식재료        22 non-null     object \n",
      " 5   중량         22 non-null     float64\n",
      " 6   열량         22 non-null     float64\n",
      " 7   가격         27 non-null     int64  \n",
      " 8   세트메뉴 가능여부  22 non-null     object \n",
      " 9   세트가격       21 non-null     float64\n",
      "dtypes: bool(1), float64(3), int64(1), object(5)\n",
      "memory usage: 2.0+ KB\n"
     ]
    }
   ],
   "source": [
    "data.info()"
   ]
  },
  {
   "cell_type": "code",
   "execution_count": null,
   "metadata": {},
   "outputs": [
    {
     "name": "stdout",
     "output_type": "stream",
     "text": [
      "데이터프레임의 열 이름:\n",
      "Index(['메뉴 이름 ', '카테고리', '신메뉴', '메뉴 설명 ', '식재료', '중량', '열량', '가격 ',\n",
      "       '세트메뉴 가능여부', '세트가격 '],\n",
      "      dtype='object')\n",
      "\n",
      "각 열의 데이터 타입:\n",
      "메뉴 이름         object\n",
      "카테고리          object\n",
      "신메뉴             bool\n",
      "메뉴 설명         object\n",
      "식재료           object\n",
      "중량           float64\n",
      "열량           float64\n",
      "가격             int64\n",
      "세트메뉴 가능여부     object\n",
      "세트가격         float64\n",
      "dtype: object\n"
     ]
    }
   ],
   "source": [
    "# 데이터프레임의 열 이름 확인\n",
    "print(\"데이터프레임의 열 이름:\")\n",
    "print(data.columns)\n",
    "\n",
    "# 각 열의 데이터 타입 확인\n",
    "print(\"\\n각 열의 데이터 타입:\")\n",
    "print(data.dtypes)\n"
   ]
  },
  {
   "cell_type": "code",
   "execution_count": null,
   "metadata": {},
   "outputs": [],
   "source": [
    "data.columns = ['menuname', 'category', 'newmenu', 'description', 'ingredients', 'grams', 'kcals', 'burgerprice ','setmenu', 'setprice ']"
   ]
  },
  {
   "cell_type": "code",
   "execution_count": null,
   "metadata": {},
   "outputs": [
    {
     "data": {
      "text/html": [
       "<div>\n",
       "<style scoped>\n",
       "    .dataframe tbody tr th:only-of-type {\n",
       "        vertical-align: middle;\n",
       "    }\n",
       "\n",
       "    .dataframe tbody tr th {\n",
       "        vertical-align: top;\n",
       "    }\n",
       "\n",
       "    .dataframe thead th {\n",
       "        text-align: right;\n",
       "    }\n",
       "</style>\n",
       "<table border=\"1\" class=\"dataframe\">\n",
       "  <thead>\n",
       "    <tr style=\"text-align: right;\">\n",
       "      <th></th>\n",
       "      <th>menuname</th>\n",
       "      <th>category</th>\n",
       "      <th>newmenu</th>\n",
       "      <th>description</th>\n",
       "      <th>ingredients</th>\n",
       "      <th>grams</th>\n",
       "      <th>kcals</th>\n",
       "      <th>burgerprice</th>\n",
       "      <th>setmenu</th>\n",
       "      <th>setprice</th>\n",
       "    </tr>\n",
       "  </thead>\n",
       "  <tbody>\n",
       "    <tr>\n",
       "      <th>0</th>\n",
       "      <td>맥크리스피 스리라차 마요</td>\n",
       "      <td>버거</td>\n",
       "      <td>True</td>\n",
       "      <td>빠삭한 100% 통닭다리살 케이준 패티에 스리라차 마요 소스를 더해 매콤 고소한 맛</td>\n",
       "      <td>난류,우유,대두,밀,토마토,닭고기,쇠고기</td>\n",
       "      <td>289.0</td>\n",
       "      <td>663.0</td>\n",
       "      <td>8600</td>\n",
       "      <td>True</td>\n",
       "      <td>10500.0</td>\n",
       "    </tr>\n",
       "    <tr>\n",
       "      <th>1</th>\n",
       "      <td>베토디 스리라차 마요</td>\n",
       "      <td>버거</td>\n",
       "      <td>True</td>\n",
       "      <td>베이컨 토마토 디럭스에 스리라차 마요 소스를 더해 색다른 매콤함!</td>\n",
       "      <td>난류,우유,대두,밀,돼지고기,토마토,쇠고기</td>\n",
       "      <td>251.0</td>\n",
       "      <td>621.0</td>\n",
       "      <td>7600</td>\n",
       "      <td>True</td>\n",
       "      <td>9500.0</td>\n",
       "    </tr>\n",
       "    <tr>\n",
       "      <th>2</th>\n",
       "      <td>맥스파이시 상하이 버거</td>\n",
       "      <td>버거</td>\n",
       "      <td>False</td>\n",
       "      <td>쌀가루가 더해져 더 바삭해진 100% 닭가슴살 패티에 아삭아삭한 양상추와 신선한 토...</td>\n",
       "      <td>난류,대두,밀,토마토,닭고기</td>\n",
       "      <td>246.0</td>\n",
       "      <td>501.0</td>\n",
       "      <td>6300</td>\n",
       "      <td>True</td>\n",
       "      <td>8400.0</td>\n",
       "    </tr>\n",
       "    <tr>\n",
       "      <th>3</th>\n",
       "      <td>토마토 치즈 비프 버거</td>\n",
       "      <td>버거</td>\n",
       "      <td>True</td>\n",
       "      <td>신선한 토마토와 고소한 치즈버거의 조화</td>\n",
       "      <td>난류,우유,대두,밀,토마토,쇠고기</td>\n",
       "      <td>200.0</td>\n",
       "      <td>403.0</td>\n",
       "      <td>4600</td>\n",
       "      <td>True</td>\n",
       "      <td>6900.0</td>\n",
       "    </tr>\n",
       "    <tr>\n",
       "      <th>4</th>\n",
       "      <td>더블 쿼터파운더 치즈</td>\n",
       "      <td>버거</td>\n",
       "      <td>False</td>\n",
       "      <td>좋아하는건 더 많이 즐기시라고, 두 배 이상 커진 1/4 파운드 비프 패티가 두 장...</td>\n",
       "      <td>우유,대두,밀,토마토,쇠고기</td>\n",
       "      <td>275.0</td>\n",
       "      <td>770.0</td>\n",
       "      <td>8200</td>\n",
       "      <td>True</td>\n",
       "      <td>10400.0</td>\n",
       "    </tr>\n",
       "  </tbody>\n",
       "</table>\n",
       "</div>"
      ],
      "text/plain": [
       "        menuname category  newmenu  \\\n",
       "0  맥크리스피 스리라차 마요      버거      True   \n",
       "1    베토디 스리라차 마요      버거      True   \n",
       "2   맥스파이시 상하이 버거      버거     False   \n",
       "3   토마토 치즈 비프 버거      버거      True   \n",
       "4    더블 쿼터파운더 치즈      버거     False   \n",
       "\n",
       "                                         description              ingredients  \\\n",
       "0    빠삭한 100% 통닭다리살 케이준 패티에 스리라차 마요 소스를 더해 매콤 고소한 맛    난류,우유,대두,밀,토마토,닭고기,쇠고기   \n",
       "1               베이컨 토마토 디럭스에 스리라차 마요 소스를 더해 색다른 매콤함!  난류,우유,대두,밀,돼지고기,토마토,쇠고기   \n",
       "2  쌀가루가 더해져 더 바삭해진 100% 닭가슴살 패티에 아삭아삭한 양상추와 신선한 토...          난류,대두,밀,토마토,닭고기   \n",
       "3                              신선한 토마토와 고소한 치즈버거의 조화       난류,우유,대두,밀,토마토,쇠고기   \n",
       "4  좋아하는건 더 많이 즐기시라고, 두 배 이상 커진 1/4 파운드 비프 패티가 두 장...          우유,대두,밀,토마토,쇠고기   \n",
       "\n",
       "   grams  kcals  burgerprice  setmenu  setprice   \n",
       "0  289.0  663.0          8600    True    10500.0  \n",
       "1  251.0  621.0          7600    True     9500.0  \n",
       "2  246.0  501.0          6300    True     8400.0  \n",
       "3  200.0  403.0          4600    True     6900.0  \n",
       "4  275.0  770.0          8200    True    10400.0  "
      ]
     },
     "execution_count": 39,
     "metadata": {},
     "output_type": "execute_result"
    }
   ],
   "source": [
    "data.head()"
   ]
  },
  {
   "cell_type": "code",
   "execution_count": null,
   "metadata": {},
   "outputs": [],
   "source": [
    "# 한글과 영어만 남기고 나머지 문자 제거하는 함수 정의\n",
    "def clean_text(text):\n",
    "    import re\n",
    "    return re.sub(r'[^가-힣a-zA-Z\\s]', '', str(text))\n",
    "\n",
    "def clean_text_num(text):\n",
    "    import re\n",
    "    return re.sub(r'[^가-힣a-zA-Z0-9\\s]', '', str(text))\n",
    "\n",
    "# 데이터프레임의 특정열에 clean_text 함수 적용\n",
    "data[['category', 'newmenu', 'description']] = data[['category', 'newmenu', 'description']].map(clean_text)\n",
    "data['menuname'] = data['menuname'].map(clean_text_num)\n"
   ]
  },
  {
   "cell_type": "code",
   "execution_count": null,
   "metadata": {},
   "outputs": [],
   "source": [
    "# xao remove\n",
    "def clean_xao(text):\n",
    "    return text.replace(u'\\xa0', u' ')\n",
    "\n",
    "# 데이터프레임의 특정열에 clean_text 함수 적용\n",
    "data[['menuname', 'category', 'newmenu', 'description']] = data[['menuname', 'category', 'newmenu', 'description']].map(clean_xao)"
   ]
  },
  {
   "cell_type": "code",
   "execution_count": null,
   "metadata": {},
   "outputs": [
    {
     "data": {
      "text/html": [
       "<div>\n",
       "<style scoped>\n",
       "    .dataframe tbody tr th:only-of-type {\n",
       "        vertical-align: middle;\n",
       "    }\n",
       "\n",
       "    .dataframe tbody tr th {\n",
       "        vertical-align: top;\n",
       "    }\n",
       "\n",
       "    .dataframe thead th {\n",
       "        text-align: right;\n",
       "    }\n",
       "</style>\n",
       "<table border=\"1\" class=\"dataframe\">\n",
       "  <thead>\n",
       "    <tr style=\"text-align: right;\">\n",
       "      <th></th>\n",
       "      <th>menuname</th>\n",
       "      <th>category</th>\n",
       "      <th>newmenu</th>\n",
       "      <th>description</th>\n",
       "      <th>ingredients</th>\n",
       "      <th>grams</th>\n",
       "      <th>kcals</th>\n",
       "      <th>burgerprice</th>\n",
       "      <th>setmenu</th>\n",
       "      <th>setprice</th>\n",
       "    </tr>\n",
       "  </thead>\n",
       "  <tbody>\n",
       "    <tr>\n",
       "      <th>0</th>\n",
       "      <td>맥크리스피 스리라차 마요</td>\n",
       "      <td>버거</td>\n",
       "      <td>True</td>\n",
       "      <td>빠삭한  통닭다리살 케이준 패티에 스리라차 마요 소스를 더해 매콤 고소한 맛</td>\n",
       "      <td>난류,우유,대두,밀,토마토,닭고기,쇠고기</td>\n",
       "      <td>289.0</td>\n",
       "      <td>663.0</td>\n",
       "      <td>8600</td>\n",
       "      <td>True</td>\n",
       "      <td>10500.0</td>\n",
       "    </tr>\n",
       "    <tr>\n",
       "      <th>1</th>\n",
       "      <td>베토디 스리라차 마요</td>\n",
       "      <td>버거</td>\n",
       "      <td>True</td>\n",
       "      <td>베이컨 토마토 디럭스에 스리라차 마요 소스를 더해 색다른 매콤함</td>\n",
       "      <td>난류,우유,대두,밀,돼지고기,토마토,쇠고기</td>\n",
       "      <td>251.0</td>\n",
       "      <td>621.0</td>\n",
       "      <td>7600</td>\n",
       "      <td>True</td>\n",
       "      <td>9500.0</td>\n",
       "    </tr>\n",
       "    <tr>\n",
       "      <th>2</th>\n",
       "      <td>맥스파이시 상하이 버거</td>\n",
       "      <td>버거</td>\n",
       "      <td>False</td>\n",
       "      <td>쌀가루가 더해져 더 바삭해진  닭가슴살 패티에 아삭아삭한 양상추와 신선한 토마토까지...</td>\n",
       "      <td>난류,대두,밀,토마토,닭고기</td>\n",
       "      <td>246.0</td>\n",
       "      <td>501.0</td>\n",
       "      <td>6300</td>\n",
       "      <td>True</td>\n",
       "      <td>8400.0</td>\n",
       "    </tr>\n",
       "    <tr>\n",
       "      <th>3</th>\n",
       "      <td>토마토 치즈 비프 버거</td>\n",
       "      <td>버거</td>\n",
       "      <td>True</td>\n",
       "      <td>신선한 토마토와 고소한 치즈버거의 조화</td>\n",
       "      <td>난류,우유,대두,밀,토마토,쇠고기</td>\n",
       "      <td>200.0</td>\n",
       "      <td>403.0</td>\n",
       "      <td>4600</td>\n",
       "      <td>True</td>\n",
       "      <td>6900.0</td>\n",
       "    </tr>\n",
       "    <tr>\n",
       "      <th>4</th>\n",
       "      <td>더블 쿼터파운더 치즈</td>\n",
       "      <td>버거</td>\n",
       "      <td>False</td>\n",
       "      <td>좋아하는건 더 많이 즐기시라고 두 배 이상 커진  파운드 비프 패티가 두 장 그램육...</td>\n",
       "      <td>우유,대두,밀,토마토,쇠고기</td>\n",
       "      <td>275.0</td>\n",
       "      <td>770.0</td>\n",
       "      <td>8200</td>\n",
       "      <td>True</td>\n",
       "      <td>10400.0</td>\n",
       "    </tr>\n",
       "  </tbody>\n",
       "</table>\n",
       "</div>"
      ],
      "text/plain": [
       "        menuname category newmenu  \\\n",
       "0  맥크리스피 스리라차 마요      버거     True   \n",
       "1    베토디 스리라차 마요      버거     True   \n",
       "2   맥스파이시 상하이 버거      버거    False   \n",
       "3   토마토 치즈 비프 버거      버거     True   \n",
       "4    더블 쿼터파운더 치즈      버거    False   \n",
       "\n",
       "                                         description              ingredients  \\\n",
       "0        빠삭한  통닭다리살 케이준 패티에 스리라차 마요 소스를 더해 매콤 고소한 맛    난류,우유,대두,밀,토마토,닭고기,쇠고기   \n",
       "1                베이컨 토마토 디럭스에 스리라차 마요 소스를 더해 색다른 매콤함  난류,우유,대두,밀,돼지고기,토마토,쇠고기   \n",
       "2  쌀가루가 더해져 더 바삭해진  닭가슴살 패티에 아삭아삭한 양상추와 신선한 토마토까지...          난류,대두,밀,토마토,닭고기   \n",
       "3                              신선한 토마토와 고소한 치즈버거의 조화       난류,우유,대두,밀,토마토,쇠고기   \n",
       "4  좋아하는건 더 많이 즐기시라고 두 배 이상 커진  파운드 비프 패티가 두 장 그램육...          우유,대두,밀,토마토,쇠고기   \n",
       "\n",
       "   grams  kcals  burgerprice  setmenu  setprice   \n",
       "0  289.0  663.0          8600    True    10500.0  \n",
       "1  251.0  621.0          7600    True     9500.0  \n",
       "2  246.0  501.0          6300    True     8400.0  \n",
       "3  200.0  403.0          4600    True     6900.0  \n",
       "4  275.0  770.0          8200    True    10400.0  "
      ]
     },
     "execution_count": 50,
     "metadata": {},
     "output_type": "execute_result"
    }
   ],
   "source": [
    "data.head()"
   ]
  },
  {
   "cell_type": "code",
   "execution_count": null,
   "metadata": {},
   "outputs": [],
   "source": [
    "# '버거' 단어가 없는 메뉴 이름에 '버거' 추가 (category가 '버거'인 경우에만)\n",
    "def add_burger(row):\n",
    "    if '버거' in row['category'] and '버거' not in row['menuname']:\n",
    "        return row['menuname'] + ' 버거'\n",
    "    return row['menuname']\n",
    "\n",
    "# 'map' 대신 'apply' 사용\n",
    "data['menuname'] = data.apply(add_burger, axis=1)"
   ]
  },
  {
   "cell_type": "code",
   "execution_count": null,
   "metadata": {},
   "outputs": [
    {
     "data": {
      "text/plain": [
       "['맥크리스피 스리라차 마요 버거',\n",
       " '불고기 버거',\n",
       " '후렌치후라이 미디움',\n",
       " '후렌치후라이 스몰',\n",
       " '탄산 라지',\n",
       " '탄산 미디움',\n",
       " '햄버거',\n",
       " '트리플 치즈버거',\n",
       " '더블 치즈버거',\n",
       " '치즈버거',\n",
       " '베이컨 토마토 디럭스 버거',\n",
       " '슈비 버거',\n",
       " '슈슈 버거',\n",
       " '에그 불고기 버거',\n",
       " '베토디 스리라차 마요 버거',\n",
       " '더블 불고기 버거',\n",
       " '맥치킨 버거',\n",
       " '맥치킨 모짜렐라 버거',\n",
       " '1955 버거',\n",
       " '맥크리스피 클래식 버거',\n",
       " '맥크리스피 디럭스 버거',\n",
       " '빅맥 버거',\n",
       " '쿼터파운더 치즈 버거',\n",
       " '더블 쿼터파운더 치즈 버거',\n",
       " '토마토 치즈 비프 버거',\n",
       " '맥스파이시 상하이 버거',\n",
       " '후렌치후라이 라지']"
      ]
     },
     "execution_count": 52,
     "metadata": {},
     "output_type": "execute_result"
    }
   ],
   "source": [
    "data['menuname'].value_counts().index.tolist()"
   ]
  },
  {
   "cell_type": "code",
   "execution_count": null,
   "metadata": {},
   "outputs": [],
   "source": [
    "# data.to_csv('MD_menu_cleaned.csv', index=False)"
   ]
  },
  {
   "cell_type": "markdown",
   "metadata": {},
   "source": [
    "### 결측치 확인"
   ]
  },
  {
   "cell_type": "code",
   "execution_count": null,
   "metadata": {},
   "outputs": [
    {
     "name": "stdout",
     "output_type": "stream",
     "text": [
      "<class 'pandas.core.frame.DataFrame'>\n",
      "RangeIndex: 27 entries, 0 to 26\n",
      "Data columns (total 10 columns):\n",
      " #   Column        Non-Null Count  Dtype  \n",
      "---  ------        --------------  -----  \n",
      " 0   menuname      27 non-null     object \n",
      " 1   category      27 non-null     object \n",
      " 2   newmenu       27 non-null     bool   \n",
      " 3   description   27 non-null     object \n",
      " 4   ingredients   22 non-null     object \n",
      " 5   grams         22 non-null     float64\n",
      " 6   kcals         22 non-null     float64\n",
      " 7   burgerprice   27 non-null     int64  \n",
      " 8   setmenu       22 non-null     object \n",
      " 9   setprice      21 non-null     float64\n",
      "dtypes: bool(1), float64(3), int64(1), object(5)\n",
      "memory usage: 2.0+ KB\n"
     ]
    }
   ],
   "source": [
    "data.info()"
   ]
  },
  {
   "cell_type": "code",
   "execution_count": null,
   "metadata": {},
   "outputs": [
    {
     "data": {
      "text/plain": [
       "menuname        0\n",
       "category        0\n",
       "newmenu         0\n",
       "description     0\n",
       "ingredients     5\n",
       "grams           5\n",
       "kcals           5\n",
       "burgerprice     0\n",
       "setmenu         5\n",
       "setprice        6\n",
       "dtype: int64"
      ]
     },
     "execution_count": 12,
     "metadata": {},
     "output_type": "execute_result"
    }
   ],
   "source": [
    "data.isna().sum()"
   ]
  },
  {
   "cell_type": "markdown",
   "metadata": {},
   "source": [
    "## LLM 연결"
   ]
  },
  {
   "cell_type": "code",
   "execution_count": 1,
   "metadata": {},
   "outputs": [],
   "source": [
    "import pandas as pd\n",
    "data = pd.read_csv('/home/yoojin/ML/aiffel/HackaThon/modu_hackaton/LLM/files_yj/MD_menu_cleaned.csv')"
   ]
  },
  {
   "cell_type": "code",
   "execution_count": 2,
   "metadata": {},
   "outputs": [
    {
     "name": "stderr",
     "output_type": "stream",
     "text": [
      "/tmp/ipykernel_18002/4102784480.py:4: LangChainDeprecationWarning: The method `BaseChatModel.predict` was deprecated in langchain-core 0.1.7 and will be removed in 1.0. Use invoke instead.\n",
      "  res = model.predict(\n"
     ]
    }
   ],
   "source": [
    "from langchain_openai import ChatOpenAI\n",
    "\n",
    "model = ChatOpenAI()\n",
    "res = model.predict(\n",
    "    \"Below is a table with information about McDonald's menu. \"\n",
    "    \"Return a JSON list with an entry for each column. Each entry should have \"\n",
    "    '{\"name\": \"column name\", \"description\": \"column description\", \"type\": \"column data type\"}'\n",
    "    f\"\\n\\n{data.head()}\\n\\nJSON:\\n\"\n",
    ")"
   ]
  },
  {
   "cell_type": "code",
   "execution_count": 24,
   "metadata": {},
   "outputs": [],
   "source": [
    "import json\n",
    "\n",
    "# 문서에서 사용할 속성 정보\n",
    "attribute_information = json.loads(res)\n"
   ]
  },
  {
   "cell_type": "code",
   "execution_count": 30,
   "metadata": {},
   "outputs": [],
   "source": [
    "attribute_info = attribute_information.copy()"
   ]
  },
  {
   "cell_type": "code",
   "execution_count": 31,
   "metadata": {},
   "outputs": [
    {
     "data": {
      "text/plain": [
       "menuname        27\n",
       "category         3\n",
       "newmenu          2\n",
       "description     24\n",
       "ingredients     12\n",
       "grams           21\n",
       "kcals           21\n",
       "burgerprice     22\n",
       "setmenu          2\n",
       "setprice        17\n",
       "dtype: int64"
      ]
     },
     "execution_count": 31,
     "metadata": {},
     "output_type": "execute_result"
    }
   ],
   "source": [
    "data.nunique()[data.nunique() < 40]"
   ]
  },
  {
   "cell_type": "code",
   "execution_count": 32,
   "metadata": {},
   "outputs": [],
   "source": [
    "attribute_info[0][\"description\"] += (\n",
    "    f\". Valid values are {sorted(data['menuname'].value_counts().index.tolist())}\"\n",
    ")"
   ]
  },
  {
   "cell_type": "code",
   "execution_count": 33,
   "metadata": {},
   "outputs": [],
   "source": [
    "attribute_info[1][\"description\"] += (\n",
    "    f\". Valid values are {sorted(data['category'].value_counts().index.tolist())}\"\n",
    ")"
   ]
  },
  {
   "cell_type": "code",
   "execution_count": 34,
   "metadata": {},
   "outputs": [],
   "source": [
    "# 'ingredients' 열의 모든 고유한 값을 추출\n",
    "unique_ingredients = set()\n",
    "data['ingredients'].dropna().apply(lambda x: unique_ingredients.update(x.split(',')))\n",
    "\n",
    "# 'ingredients' 항목에 대한 설명 추가\n",
    "attribute_info[4][\"description\"] += (\n",
    "    f\". Valid values are {sorted(unique_ingredients)}\"\n",
    ")"
   ]
  },
  {
   "cell_type": "code",
   "execution_count": 35,
   "metadata": {},
   "outputs": [],
   "source": [
    "attribute_info[0][\"description\"] += (\n",
    "    \". Note: Only use the 'eq' operator if a specific menu name is mentioned. If '햄버거' is mentioned, ask if it is a name of a burger or a category.\"\n",
    ")"
   ]
  },
  {
   "cell_type": "code",
   "execution_count": 36,
   "metadata": {},
   "outputs": [],
   "source": [
    "attribute_info[1][\"description\"] += (\n",
    "    \". Note: Only use the 'eq' operator if a specific category is mentioned.\"\n",
    ")"
   ]
  },
  {
   "cell_type": "code",
   "execution_count": 38,
   "metadata": {},
   "outputs": [],
   "source": [
    "attribute_info[4][\"description\"] += (\n",
    "    \". Note: Only use the 'in' or 'nin operator if a specific ingredient is mentioned. If a general ingredient is mentioned, include all relevant ingredients in filter.\"\n",
    ")"
   ]
  },
  {
   "cell_type": "code",
   "execution_count": 39,
   "metadata": {},
   "outputs": [
    {
     "data": {
      "text/plain": [
       "[{'name': 'menuname',\n",
       "  'description': \"name of the menu item. Valid values are ['1955 버거', '더블 불고기 버거', '더블 치즈버거', '더블 쿼터파운더 치즈 버거', '맥스파이시 상하이 버거', '맥치킨 모짜렐라 버거', '맥치킨 버거', '맥크리스피 디럭스 버거', '맥크리스피 스리라차 마요 버거', '맥크리스피 클래식 버거', '베이컨 토마토 디럭스 버거', '베토디 스리라차 마요 버거', '불고기 버거', '빅맥 버거', '슈비 버거', '슈슈 버거', '에그 불고기 버거', '치즈버거', '쿼터파운더 치즈 버거', '탄산 라지', '탄산 미디움', '토마토 치즈 비프 버거', '트리플 치즈버거', '햄버거', '후렌치후라이 라지', '후렌치후라이 미디움', '후렌치후라이 스몰']. Note: Only use the 'eq' operater if a specific menu name is mentioned. If '햄버거' is mentioned, ask if it is a name of burger or category of burger.. Valid values are ['1955 버거', '더블 불고기 버거', '더블 치즈버거', '더블 쿼터파운더 치즈 버거', '맥스파이시 상하이 버거', '맥치킨 모짜렐라 버거', '맥치킨 버거', '맥크리스피 디럭스 버거', '맥크리스피 스리라차 마요 버거', '맥크리스피 클래식 버거', '베이컨 토마토 디럭스 버거', '베토디 스리라차 마요 버거', '불고기 버거', '빅맥 버거', '슈비 버거', '슈슈 버거', '에그 불고기 버거', '치즈버거', '쿼터파운더 치즈 버거', '탄산 라지', '탄산 미디움', '토마토 치즈 비프 버거', '트리플 치즈버거', '햄버거', '후렌치후라이 라지', '후렌치후라이 미디움', '후렌치후라이 스몰']. Note: Only use the 'eq' operator if a specific menu name is mentioned. If '햄버거' is mentioned, ask if it is a name of burger or category of burger.\",\n",
       "  'type': 'string'},\n",
       " {'name': 'category',\n",
       "  'description': \"category of the menu item. Valid values are ['버거 ', '사이드', '음료 ']. Valid values are ['버거 ', '사이드', '음료 ']. Note: Only use the 'eq' operator if a specific category is mentioned.\",\n",
       "  'type': 'string'},\n",
       " {'name': 'newmenu',\n",
       "  'description': 'indicator if the menu item is new',\n",
       "  'type': 'boolean'},\n",
       " {'name': 'description',\n",
       "  'description': 'description of the menu item',\n",
       "  'type': 'string'},\n",
       " {'name': 'ingredients',\n",
       "  'description': \"list of ingredients in the menu item. Valid values are ['굴', '난류', '닭고기', '대두', '돼지고기', '밀', '새우', '쇠고기', '우유', '조개', '토마토']. Valid values are ['굴', '난류', '닭고기', '대두', '돼지고기', '밀', '새우', '쇠고기', '우유', '조개', '토마토']. Note: Only use the 'in' or 'nin operator if a specific ingredient is mentioned. If a general ingredient is mentioned, include all relevant ingredients in filter.\",\n",
       "  'type': 'string'},\n",
       " {'name': 'grams',\n",
       "  'description': 'weight of the menu item in grams',\n",
       "  'type': 'float'},\n",
       " {'name': 'kcals',\n",
       "  'description': 'calories in the menu item',\n",
       "  'type': 'float'},\n",
       " {'name': 'burgerprice',\n",
       "  'description': 'price of the burger in KRW',\n",
       "  'type': 'integer'},\n",
       " {'name': 'setmenu',\n",
       "  'description': 'indicator if the menu item is available in a set menu',\n",
       "  'type': 'boolean'},\n",
       " {'name': 'setprice',\n",
       "  'description': 'price of the set menu in KRW',\n",
       "  'type': 'float'}]"
      ]
     },
     "execution_count": 39,
     "metadata": {},
     "output_type": "execute_result"
    }
   ],
   "source": [
    "attribute_info"
   ]
  },
  {
   "cell_type": "code",
   "execution_count": 40,
   "metadata": {},
   "outputs": [],
   "source": [
    "from langchain.chains.query_constructor.base import (\n",
    "    get_query_constructor_prompt, # 자연어 쿼리의 구조를 정의하는 프롬프트를 생성하는 함수\n",
    "    load_query_constructor_runnable, # 실제로 자연어 쿼리를 처리하고 실행할 수 있는 체인을 로드하는 함수\n",
    ")"
   ]
  },
  {
   "cell_type": "code",
   "execution_count": 41,
   "metadata": {},
   "outputs": [
    {
     "name": "stdout",
     "output_type": "stream",
     "text": [
      "Your goal is to structure the user's query to match the request schema provided below.\n",
      "\n",
      "<< Structured Request Schema >>\n",
      "When responding use a markdown code snippet with a JSON object formatted in the following schema:\n",
      "\n",
      "```json\n",
      "{\n",
      "    \"query\": string \\ text string to compare to document contents\n",
      "    \"filter\": string \\ logical condition statement for filtering documents\n",
      "}\n",
      "```\n",
      "\n",
      "The query string should contain only text that is expected to match the contents of documents. Any conditions in the filter should not be mentioned in the query as well.\n",
      "\n",
      "A logical condition statement is composed of one or more comparison and logical operation statements.\n",
      "\n",
      "A comparison statement takes the form: `comp(attr, val)`:\n",
      "- `comp` (eq | ne | gt | gte | lt | lte | contain | like | in | nin): comparator\n",
      "- `attr` (string):  name of attribute to apply the comparison to\n",
      "- `val` (string): is the comparison value\n",
      "\n",
      "A logical operation statement takes the form `op(statement1, statement2, ...)`:\n",
      "- `op` (and | or | not): logical operator\n",
      "- `statement1`, `statement2`, ... (comparison statements or logical operation statements): one or more statements to apply the operation to\n",
      "\n",
      "Make sure that you only use the comparators and logical operators listed above and no others.\n",
      "Make sure that filters only refer to attributes that exist in the data source.\n",
      "Make sure that filters only use the attributed names with its function names if there are functions applied on them.\n",
      "Make sure that filters only use format `YYYY-MM-DD` when handling date data typed values.\n",
      "Make sure that filters take into account the descriptions of attributes and only make comparisons that are feasible given the type of data being stored.\n",
      "Make sure that filters are only used as needed. If there are no filters that should be applied return \"NO_FILTER\" for the filter value.\n",
      "\n",
      "<< Example 1. >>\n",
      "Data Source:\n",
      "```json\n",
      "{\n",
      "    \"content\": \"Lyrics of a song\",\n",
      "    \"attributes\": {\n",
      "        \"artist\": {\n",
      "            \"type\": \"string\",\n",
      "            \"description\": \"Name of the song artist\"\n",
      "        },\n",
      "        \"length\": {\n",
      "            \"type\": \"integer\",\n",
      "            \"description\": \"Length of the song in seconds\"\n",
      "        },\n",
      "        \"genre\": {\n",
      "            \"type\": \"string\",\n",
      "            \"description\": \"The song genre, one of \"pop\", \"rock\" or \"rap\"\"\n",
      "        }\n",
      "    }\n",
      "}\n",
      "```\n",
      "\n",
      "User Query:\n",
      "What are songs by Taylor Swift or Katy Perry about teenage romance under 3 minutes long in the dance pop genre\n",
      "\n",
      "Structured Request:\n",
      "```json\n",
      "{\n",
      "    \"query\": \"teenager love\",\n",
      "    \"filter\": \"and(or(eq(\\\"artist\\\", \\\"Taylor Swift\\\"), eq(\\\"artist\\\", \\\"Katy Perry\\\")), lt(\\\"length\\\", 180), eq(\\\"genre\\\", \\\"pop\\\"))\"\n",
      "}\n",
      "```\n",
      "\n",
      "\n",
      "<< Example 2. >>\n",
      "Data Source:\n",
      "```json\n",
      "{\n",
      "    \"content\": \"Lyrics of a song\",\n",
      "    \"attributes\": {\n",
      "        \"artist\": {\n",
      "            \"type\": \"string\",\n",
      "            \"description\": \"Name of the song artist\"\n",
      "        },\n",
      "        \"length\": {\n",
      "            \"type\": \"integer\",\n",
      "            \"description\": \"Length of the song in seconds\"\n",
      "        },\n",
      "        \"genre\": {\n",
      "            \"type\": \"string\",\n",
      "            \"description\": \"The song genre, one of \"pop\", \"rock\" or \"rap\"\"\n",
      "        }\n",
      "    }\n",
      "}\n",
      "```\n",
      "\n",
      "User Query:\n",
      "What are songs that were not published on Spotify\n",
      "\n",
      "Structured Request:\n",
      "```json\n",
      "{\n",
      "    \"query\": \"\",\n",
      "    \"filter\": \"NO_FILTER\"\n",
      "}\n",
      "```\n",
      "\n",
      "\n",
      "<< Example 3. >>\n",
      "Data Source:\n",
      "```json\n",
      "{\n",
      "    \"content\": \"Detailed description of McDonald's menu\",\n",
      "    \"attributes\": {\n",
      "    \"menuname\": {\n",
      "        \"description\": \"name of the menu item. Valid values are ['1955 \\ubc84\\uac70', '\\ub354\\ube14 \\ubd88\\uace0\\uae30 \\ubc84\\uac70', '\\ub354\\ube14 \\uce58\\uc988\\ubc84\\uac70', '\\ub354\\ube14 \\ucffc\\ud130\\ud30c\\uc6b4\\ub354 \\uce58\\uc988 \\ubc84\\uac70', '\\ub9e5\\uc2a4\\ud30c\\uc774\\uc2dc \\uc0c1\\ud558\\uc774 \\ubc84\\uac70', '\\ub9e5\\uce58\\ud0a8 \\ubaa8\\uc9dc\\ub810\\ub77c \\ubc84\\uac70', '\\ub9e5\\uce58\\ud0a8 \\ubc84\\uac70', '\\ub9e5\\ud06c\\ub9ac\\uc2a4\\ud53c \\ub514\\ub7ed\\uc2a4 \\ubc84\\uac70', '\\ub9e5\\ud06c\\ub9ac\\uc2a4\\ud53c \\uc2a4\\ub9ac\\ub77c\\ucc28 \\ub9c8\\uc694 \\ubc84\\uac70', '\\ub9e5\\ud06c\\ub9ac\\uc2a4\\ud53c \\ud074\\ub798\\uc2dd \\ubc84\\uac70', '\\ubca0\\uc774\\ucee8 \\ud1a0\\ub9c8\\ud1a0 \\ub514\\ub7ed\\uc2a4 \\ubc84\\uac70', '\\ubca0\\ud1a0\\ub514 \\uc2a4\\ub9ac\\ub77c\\ucc28 \\ub9c8\\uc694 \\ubc84\\uac70', '\\ubd88\\uace0\\uae30 \\ubc84\\uac70', '\\ube45\\ub9e5 \\ubc84\\uac70', '\\uc288\\ube44 \\ubc84\\uac70', '\\uc288\\uc288 \\ubc84\\uac70', '\\uc5d0\\uadf8 \\ubd88\\uace0\\uae30 \\ubc84\\uac70', '\\uce58\\uc988\\ubc84\\uac70', '\\ucffc\\ud130\\ud30c\\uc6b4\\ub354 \\uce58\\uc988 \\ubc84\\uac70', '\\ud0c4\\uc0b0 \\ub77c\\uc9c0', '\\ud0c4\\uc0b0 \\ubbf8\\ub514\\uc6c0', '\\ud1a0\\ub9c8\\ud1a0 \\uce58\\uc988 \\ube44\\ud504 \\ubc84\\uac70', '\\ud2b8\\ub9ac\\ud50c \\uce58\\uc988\\ubc84\\uac70', '\\ud584\\ubc84\\uac70', '\\ud6c4\\ub80c\\uce58\\ud6c4\\ub77c\\uc774 \\ub77c\\uc9c0', '\\ud6c4\\ub80c\\uce58\\ud6c4\\ub77c\\uc774 \\ubbf8\\ub514\\uc6c0', '\\ud6c4\\ub80c\\uce58\\ud6c4\\ub77c\\uc774 \\uc2a4\\ubab0']. Note: Only use the 'eq' operater if a specific menu name is mentioned. If '\\ud584\\ubc84\\uac70' is mentioned, ask if it is a name of burger or category of burger.. Valid values are ['1955 \\ubc84\\uac70', '\\ub354\\ube14 \\ubd88\\uace0\\uae30 \\ubc84\\uac70', '\\ub354\\ube14 \\uce58\\uc988\\ubc84\\uac70', '\\ub354\\ube14 \\ucffc\\ud130\\ud30c\\uc6b4\\ub354 \\uce58\\uc988 \\ubc84\\uac70', '\\ub9e5\\uc2a4\\ud30c\\uc774\\uc2dc \\uc0c1\\ud558\\uc774 \\ubc84\\uac70', '\\ub9e5\\uce58\\ud0a8 \\ubaa8\\uc9dc\\ub810\\ub77c \\ubc84\\uac70', '\\ub9e5\\uce58\\ud0a8 \\ubc84\\uac70', '\\ub9e5\\ud06c\\ub9ac\\uc2a4\\ud53c \\ub514\\ub7ed\\uc2a4 \\ubc84\\uac70', '\\ub9e5\\ud06c\\ub9ac\\uc2a4\\ud53c \\uc2a4\\ub9ac\\ub77c\\ucc28 \\ub9c8\\uc694 \\ubc84\\uac70', '\\ub9e5\\ud06c\\ub9ac\\uc2a4\\ud53c \\ud074\\ub798\\uc2dd \\ubc84\\uac70', '\\ubca0\\uc774\\ucee8 \\ud1a0\\ub9c8\\ud1a0 \\ub514\\ub7ed\\uc2a4 \\ubc84\\uac70', '\\ubca0\\ud1a0\\ub514 \\uc2a4\\ub9ac\\ub77c\\ucc28 \\ub9c8\\uc694 \\ubc84\\uac70', '\\ubd88\\uace0\\uae30 \\ubc84\\uac70', '\\ube45\\ub9e5 \\ubc84\\uac70', '\\uc288\\ube44 \\ubc84\\uac70', '\\uc288\\uc288 \\ubc84\\uac70', '\\uc5d0\\uadf8 \\ubd88\\uace0\\uae30 \\ubc84\\uac70', '\\uce58\\uc988\\ubc84\\uac70', '\\ucffc\\ud130\\ud30c\\uc6b4\\ub354 \\uce58\\uc988 \\ubc84\\uac70', '\\ud0c4\\uc0b0 \\ub77c\\uc9c0', '\\ud0c4\\uc0b0 \\ubbf8\\ub514\\uc6c0', '\\ud1a0\\ub9c8\\ud1a0 \\uce58\\uc988 \\ube44\\ud504 \\ubc84\\uac70', '\\ud2b8\\ub9ac\\ud50c \\uce58\\uc988\\ubc84\\uac70', '\\ud584\\ubc84\\uac70', '\\ud6c4\\ub80c\\uce58\\ud6c4\\ub77c\\uc774 \\ub77c\\uc9c0', '\\ud6c4\\ub80c\\uce58\\ud6c4\\ub77c\\uc774 \\ubbf8\\ub514\\uc6c0', '\\ud6c4\\ub80c\\uce58\\ud6c4\\ub77c\\uc774 \\uc2a4\\ubab0']. Note: Only use the 'eq' operator if a specific menu name is mentioned. If '\\ud584\\ubc84\\uac70' is mentioned, ask if it is a name of burger or category of burger.\",\n",
      "        \"type\": \"string\"\n",
      "    },\n",
      "    \"category\": {\n",
      "        \"description\": \"category of the menu item. Valid values are ['\\ubc84\\uac70 ', '\\uc0ac\\uc774\\ub4dc', '\\uc74c\\ub8cc ']. Valid values are ['\\ubc84\\uac70 ', '\\uc0ac\\uc774\\ub4dc', '\\uc74c\\ub8cc ']. Note: Only use the 'eq' operator if a specific category is mentioned.\",\n",
      "        \"type\": \"string\"\n",
      "    },\n",
      "    \"newmenu\": {\n",
      "        \"description\": \"indicator if the menu item is new\",\n",
      "        \"type\": \"boolean\"\n",
      "    },\n",
      "    \"description\": {\n",
      "        \"description\": \"description of the menu item\",\n",
      "        \"type\": \"string\"\n",
      "    },\n",
      "    \"ingredients\": {\n",
      "        \"description\": \"list of ingredients in the menu item. Valid values are ['\\uad74', '\\ub09c\\ub958', '\\ub2ed\\uace0\\uae30', '\\ub300\\ub450', '\\ub3fc\\uc9c0\\uace0\\uae30', '\\ubc00', '\\uc0c8\\uc6b0', '\\uc1e0\\uace0\\uae30', '\\uc6b0\\uc720', '\\uc870\\uac1c', '\\ud1a0\\ub9c8\\ud1a0']. Valid values are ['\\uad74', '\\ub09c\\ub958', '\\ub2ed\\uace0\\uae30', '\\ub300\\ub450', '\\ub3fc\\uc9c0\\uace0\\uae30', '\\ubc00', '\\uc0c8\\uc6b0', '\\uc1e0\\uace0\\uae30', '\\uc6b0\\uc720', '\\uc870\\uac1c', '\\ud1a0\\ub9c8\\ud1a0']. Note: Only use the 'in' or 'nin operator if a specific ingredient is mentioned. If a general ingredient is mentioned, include all relevant ingredients in filter.\",\n",
      "        \"type\": \"string\"\n",
      "    },\n",
      "    \"grams\": {\n",
      "        \"description\": \"weight of the menu item in grams\",\n",
      "        \"type\": \"float\"\n",
      "    },\n",
      "    \"kcals\": {\n",
      "        \"description\": \"calories in the menu item\",\n",
      "        \"type\": \"float\"\n",
      "    },\n",
      "    \"burgerprice\": {\n",
      "        \"description\": \"price of the burger in KRW\",\n",
      "        \"type\": \"integer\"\n",
      "    },\n",
      "    \"setmenu\": {\n",
      "        \"description\": \"indicator if the menu item is available in a set menu\",\n",
      "        \"type\": \"boolean\"\n",
      "    },\n",
      "    \"setprice\": {\n",
      "        \"description\": \"price of the set menu in KRW\",\n",
      "        \"type\": \"float\"\n",
      "    }\n",
      "}\n",
      "}\n",
      "```\n",
      "\n",
      "User Query:\n",
      "{query}\n",
      "\n",
      "Structured Request:\n",
      "\n"
     ]
    }
   ],
   "source": [
    "# 쿼리를 구성할 때 참조할 문서의 내용을 전달\n",
    "doc_contents = \"Detailed description of McDonald's menu\"\n",
    "prompt = get_query_constructor_prompt(doc_contents, attribute_info)\n",
    "print(prompt.format(query=\"{query}\"))"
   ]
  },
  {
   "cell_type": "code",
   "execution_count": 42,
   "metadata": {},
   "outputs": [],
   "source": [
    "chain = load_query_constructor_runnable(\n",
    "    ChatOpenAI(model=\"gpt-3.5-turbo\", temperature=0), doc_contents, attribute_info\n",
    ")"
   ]
  },
  {
   "cell_type": "code",
   "execution_count": 43,
   "metadata": {},
   "outputs": [
    {
     "name": "stdout",
     "output_type": "stream",
     "text": [
      "데이터셋 내 '굴' 포함 여부:\n",
      "True\n",
      "\n",
      "모든 고유 재료:\n",
      "{'난류', '새우', '대두', '닭고기', '돼지고기', '조개', '토마토', '쇠고기', '밀', '우유', '굴'}\n",
      "\n",
      "'굴'이 포함된 메뉴 (있다면):\n",
      "     menuname category  newmenu  \\\n",
      "12  더블 불고기 버거      버거     False   \n",
      "13  에그 불고기 버거      버거     False   \n",
      "14     불고기 버거      버거     False   \n",
      "15      슈슈 버거      버거     False   \n",
      "16      슈비 버거      버거     False   \n",
      "\n",
      "                                          description  \\\n",
      "12  진한 불고기 소스의 패티가 두 장 여기에 고소한 치즈와 마요네즈 신선한 양상추를 곁...   \n",
      "13                   불고기 버거에 국내산 등급 계란을 더해 맛의 정점을 찍다    \n",
      "14  한국인의 입맛에 딱 맞는 불고기 소스에 잘 재운 패티와 고소한 마요네즈 신선한 양상...   \n",
      "15                                  탱글한 통새우살 가득 슈슈 버거   \n",
      "16                           탱글한 통새우살에 비프 패티를 더해 푸짐하게   \n",
      "\n",
      "                ingredients  grams  kcals  burgerprice  setmenu  setprice   \n",
      "12     난류,우유,대두,밀,돼지고기,조개,굴  237.0  635.0          5300    True     7500.0  \n",
      "13        난류,대두,밀,돼지고기,조개,굴  222.0  491.0          5100    True     7300.0  \n",
      "14        난류,대두,밀,돼지고기,조개,굴  167.0  409.0          4200    True     6600.0  \n",
      "15  난류,우유,대두,밀,토마토,새우,쇠고기,굴  224.0  409.0          5500    True     7300.0  \n",
      "16  난류,우유,대두,밀,토마토,새우,쇠고기,굴  269.0  540.0          6600    True     9100.0  \n"
     ]
    }
   ],
   "source": [
    "# 이 결과물이 filter, limit이 아무것도 뜨지 않는 이유:\n",
    "# 1. 데이터셋에 굴이 들어간 버거가 없을 가능성이 높습니다.\n",
    "# 2. 쿼리가 정확히 매칭되는 항목을 찾지 못했을 수 있습니다.\n",
    "# 3. 모델이 쿼리를 정확히 해석하지 못했을 수 있습니다.\n",
    "\n",
    "# 확인을 위해 다음과 같은 작업을 수행할 수 있습니다:\n",
    "print(\"데이터셋 내 '굴' 포함 여부:\")\n",
    "print(data['ingredients'].str.contains('굴').any())\n",
    "\n",
    "print(\"\\n모든 고유 재료:\")\n",
    "print(unique_ingredients)\n",
    "\n",
    "print(\"\\n'굴'이 포함된 메뉴 (있다면):\")\n",
    "print(data[data['ingredients'].str.contains('굴', na=False)])"
   ]
  },
  {
   "cell_type": "code",
   "execution_count": 44,
   "metadata": {},
   "outputs": [
    {
     "data": {
      "text/plain": [
       "StructuredQuery(query='굴', filter=Comparison(comparator=<Comparator.IN: 'in'>, attribute='ingredients', value=['굴']), limit=None)"
      ]
     },
     "execution_count": 44,
     "metadata": {},
     "output_type": "execute_result"
    }
   ],
   "source": [
    "chain.invoke({\"query\": \"굴이 들어간 버거는 뭐가있어?\"})"
   ]
  },
  {
   "cell_type": "code",
   "execution_count": 45,
   "metadata": {},
   "outputs": [
    {
     "data": {
      "text/plain": [
       "StructuredQuery(query='닭고기', filter=Comparison(comparator=<Comparator.IN: 'in'>, attribute='ingredients', value=['굴']), limit=None)"
      ]
     },
     "execution_count": 45,
     "metadata": {},
     "output_type": "execute_result"
    }
   ],
   "source": [
    "chain.invoke({\"query\": \"닭고기가 들어간 버거는 뭐가있어?\"})"
   ]
  },
  {
   "cell_type": "code",
   "execution_count": 79,
   "metadata": {},
   "outputs": [
    {
     "data": {
      "text/plain": [
       "StructuredQuery(query='치킨버거', filter=Comparison(comparator=<Comparator.EQ: 'eq'>, attribute='category', value='버거'), limit=None)"
      ]
     },
     "execution_count": 79,
     "metadata": {},
     "output_type": "execute_result"
    }
   ],
   "source": [
    "chain.invoke({\"query\": \"치킨버거 종류는 뭐가 있어?\"})"
   ]
  },
  {
   "cell_type": "markdown",
   "metadata": {},
   "source": [
    "갑분 굴..."
   ]
  },
  {
   "cell_type": "code",
   "execution_count": 46,
   "metadata": {},
   "outputs": [
    {
     "data": {
      "text/plain": [
       "StructuredQuery(query='신메뉴', filter=Comparison(comparator=<Comparator.EQ: 'eq'>, attribute='newmenu', value=True), limit=None)"
      ]
     },
     "execution_count": 46,
     "metadata": {},
     "output_type": "execute_result"
    }
   ],
   "source": [
    "chain.invoke({\"query\": \"버거 중 신메뉴는 뭐가있어?\"})"
   ]
  },
  {
   "cell_type": "code",
   "execution_count": 47,
   "metadata": {},
   "outputs": [
    {
     "data": {
      "text/plain": [
       "StructuredQuery(query='lowest calorie burger', filter=None, limit=None)"
      ]
     },
     "execution_count": 47,
     "metadata": {},
     "output_type": "execute_result"
    }
   ],
   "source": [
    "chain.invoke({\"query\": \"열량이 제일 낮은 버거는 뭐야?\"})"
   ]
  },
  {
   "cell_type": "code",
   "execution_count": 48,
   "metadata": {},
   "outputs": [
    {
     "data": {
      "text/plain": [
       "StructuredQuery(query=' ', filter=Comparison(comparator=<Comparator.EQ: 'eq'>, attribute='category', value='버거'), limit=None)"
      ]
     },
     "execution_count": 48,
     "metadata": {},
     "output_type": "execute_result"
    }
   ],
   "source": [
    "chain.invoke({\"query\": \"what is the lowest calorie burger?\"})"
   ]
  },
  {
   "cell_type": "code",
   "execution_count": 49,
   "metadata": {},
   "outputs": [
    {
     "data": {
      "text/plain": [
       "StructuredQuery(query='spicy taste', filter=None, limit=None)"
      ]
     },
     "execution_count": 49,
     "metadata": {},
     "output_type": "execute_result"
    }
   ],
   "source": [
    "chain.invoke({\"query\": \"recommend me a burger with spicy taste\"})"
   ]
  },
  {
   "cell_type": "markdown",
   "metadata": {},
   "source": [
    "## embedding 파일 연결하기"
   ]
  },
  {
   "cell_type": "code",
   "execution_count": 34,
   "metadata": {},
   "outputs": [
    {
     "data": {
      "text/html": [
       "<div>\n",
       "<style scoped>\n",
       "    .dataframe tbody tr th:only-of-type {\n",
       "        vertical-align: middle;\n",
       "    }\n",
       "\n",
       "    .dataframe tbody tr th {\n",
       "        vertical-align: top;\n",
       "    }\n",
       "\n",
       "    .dataframe thead th {\n",
       "        text-align: right;\n",
       "    }\n",
       "</style>\n",
       "<table border=\"1\" class=\"dataframe\">\n",
       "  <thead>\n",
       "    <tr style=\"text-align: right;\">\n",
       "      <th></th>\n",
       "      <th>menuname</th>\n",
       "      <th>category</th>\n",
       "      <th>newmenu</th>\n",
       "      <th>description</th>\n",
       "      <th>ingredients</th>\n",
       "      <th>grams</th>\n",
       "      <th>kcals</th>\n",
       "      <th>burgerprice</th>\n",
       "      <th>setmenu</th>\n",
       "      <th>setprice</th>\n",
       "    </tr>\n",
       "  </thead>\n",
       "  <tbody>\n",
       "    <tr>\n",
       "      <th>0</th>\n",
       "      <td>맥크리스피 스리라차 마요 버거</td>\n",
       "      <td>버거</td>\n",
       "      <td>True</td>\n",
       "      <td>빠삭한  통닭다리살 케이준 패티에 스리라차 마요 소스를 더해 매콤 고소한 맛</td>\n",
       "      <td>난류,우유,대두,밀,토마토,닭고기,쇠고기</td>\n",
       "      <td>289.0</td>\n",
       "      <td>663.0</td>\n",
       "      <td>8600</td>\n",
       "      <td>True</td>\n",
       "      <td>10500.0</td>\n",
       "    </tr>\n",
       "    <tr>\n",
       "      <th>1</th>\n",
       "      <td>베토디 스리라차 마요 버거</td>\n",
       "      <td>버거</td>\n",
       "      <td>True</td>\n",
       "      <td>베이컨 토마토 디럭스에 스리라차 마요 소스를 더해 색다른 매콤함</td>\n",
       "      <td>난류,우유,대두,밀,돼지고기,토마토,쇠고기</td>\n",
       "      <td>251.0</td>\n",
       "      <td>621.0</td>\n",
       "      <td>7600</td>\n",
       "      <td>True</td>\n",
       "      <td>9500.0</td>\n",
       "    </tr>\n",
       "    <tr>\n",
       "      <th>2</th>\n",
       "      <td>맥스파이시 상하이 버거</td>\n",
       "      <td>버거</td>\n",
       "      <td>False</td>\n",
       "      <td>쌀가루가 더해져 더 바삭해진  닭가슴살 패티에 아삭아삭한 양상추와 신선한 토마토까지...</td>\n",
       "      <td>난류,대두,밀,토마토,닭고기</td>\n",
       "      <td>246.0</td>\n",
       "      <td>501.0</td>\n",
       "      <td>6300</td>\n",
       "      <td>True</td>\n",
       "      <td>8400.0</td>\n",
       "    </tr>\n",
       "    <tr>\n",
       "      <th>3</th>\n",
       "      <td>토마토 치즈 비프 버거</td>\n",
       "      <td>버거</td>\n",
       "      <td>True</td>\n",
       "      <td>신선한 토마토와 고소한 치즈버거의 조화</td>\n",
       "      <td>난류,우유,대두,밀,토마토,쇠고기</td>\n",
       "      <td>200.0</td>\n",
       "      <td>403.0</td>\n",
       "      <td>4600</td>\n",
       "      <td>True</td>\n",
       "      <td>6900.0</td>\n",
       "    </tr>\n",
       "    <tr>\n",
       "      <th>4</th>\n",
       "      <td>더블 쿼터파운더 치즈 버거</td>\n",
       "      <td>버거</td>\n",
       "      <td>False</td>\n",
       "      <td>좋아하는건 더 많이 즐기시라고 두 배 이상 커진  파운드 비프 패티가 두 장 그램육...</td>\n",
       "      <td>우유,대두,밀,토마토,쇠고기</td>\n",
       "      <td>275.0</td>\n",
       "      <td>770.0</td>\n",
       "      <td>8200</td>\n",
       "      <td>True</td>\n",
       "      <td>10400.0</td>\n",
       "    </tr>\n",
       "  </tbody>\n",
       "</table>\n",
       "</div>"
      ],
      "text/plain": [
       "           menuname category  newmenu  \\\n",
       "0  맥크리스피 스리라차 마요 버거      버거      True   \n",
       "1    베토디 스리라차 마요 버거      버거      True   \n",
       "2      맥스파이시 상하이 버거      버거     False   \n",
       "3      토마토 치즈 비프 버거      버거      True   \n",
       "4    더블 쿼터파운더 치즈 버거      버거     False   \n",
       "\n",
       "                                         description              ingredients  \\\n",
       "0        빠삭한  통닭다리살 케이준 패티에 스리라차 마요 소스를 더해 매콤 고소한 맛    난류,우유,대두,밀,토마토,닭고기,쇠고기   \n",
       "1                베이컨 토마토 디럭스에 스리라차 마요 소스를 더해 색다른 매콤함  난류,우유,대두,밀,돼지고기,토마토,쇠고기   \n",
       "2  쌀가루가 더해져 더 바삭해진  닭가슴살 패티에 아삭아삭한 양상추와 신선한 토마토까지...          난류,대두,밀,토마토,닭고기   \n",
       "3                              신선한 토마토와 고소한 치즈버거의 조화       난류,우유,대두,밀,토마토,쇠고기   \n",
       "4  좋아하는건 더 많이 즐기시라고 두 배 이상 커진  파운드 비프 패티가 두 장 그램육...          우유,대두,밀,토마토,쇠고기   \n",
       "\n",
       "   grams  kcals  burgerprice  setmenu  setprice   \n",
       "0  289.0  663.0          8600    True    10500.0  \n",
       "1  251.0  621.0          7600    True     9500.0  \n",
       "2  246.0  501.0          6300    True     8400.0  \n",
       "3  200.0  403.0          4600    True     6900.0  \n",
       "4  275.0  770.0          8200    True    10400.0  "
      ]
     },
     "execution_count": 34,
     "metadata": {},
     "output_type": "execute_result"
    }
   ],
   "source": [
    "data.head()"
   ]
  },
  {
   "cell_type": "code",
   "execution_count": 72,
   "metadata": {},
   "outputs": [],
   "source": [
    "from langchain_community.vectorstores import Chroma\n",
    "from langchain_core.documents import Document\n",
    "from langchain_openai import OpenAIEmbeddings"
   ]
  },
  {
   "cell_type": "code",
   "execution_count": 73,
   "metadata": {},
   "outputs": [],
   "source": [
    "docs = []\n",
    "for _, menu in data.fillna(\"\").iterrows():\n",
    "    doc = Document(\n",
    "        page_content=json.dumps(menu.to_dict(), indent=2),\n",
    "        metadata=menu.to_dict()\n",
    "    )\n",
    "    docs.append(doc)"
   ]
  },
  {
   "cell_type": "code",
   "execution_count": 74,
   "metadata": {},
   "outputs": [
    {
     "data": {
      "text/plain": [
       "[Document(metadata={'menuname': '맥크리스피 스리라차 마요 버거', 'category': '버거 ', 'newmenu': True, 'description': '빠삭한  통닭다리살 케이준 패티에 스리라차 마요 소스를 더해 매콤 고소한 맛 ', 'ingredients': '난류,우유,대두,밀,토마토,닭고기,쇠고기', 'grams': 289.0, 'kcals': 663.0, 'burgerprice ': 8600, 'setmenu': True, 'setprice ': 10500.0}, page_content='{\\n  \"menuname\": \"\\\\ub9e5\\\\ud06c\\\\ub9ac\\\\uc2a4\\\\ud53c \\\\uc2a4\\\\ub9ac\\\\ub77c\\\\ucc28 \\\\ub9c8\\\\uc694 \\\\ubc84\\\\uac70\",\\n  \"category\": \"\\\\ubc84\\\\uac70 \",\\n  \"newmenu\": true,\\n  \"description\": \"\\\\ube60\\\\uc0ad\\\\ud55c  \\\\ud1b5\\\\ub2ed\\\\ub2e4\\\\ub9ac\\\\uc0b4 \\\\ucf00\\\\uc774\\\\uc900 \\\\ud328\\\\ud2f0\\\\uc5d0 \\\\uc2a4\\\\ub9ac\\\\ub77c\\\\ucc28 \\\\ub9c8\\\\uc694 \\\\uc18c\\\\uc2a4\\\\ub97c \\\\ub354\\\\ud574 \\\\ub9e4\\\\ucf64 \\\\uace0\\\\uc18c\\\\ud55c \\\\ub9db \",\\n  \"ingredients\": \"\\\\ub09c\\\\ub958,\\\\uc6b0\\\\uc720,\\\\ub300\\\\ub450,\\\\ubc00,\\\\ud1a0\\\\ub9c8\\\\ud1a0,\\\\ub2ed\\\\uace0\\\\uae30,\\\\uc1e0\\\\uace0\\\\uae30\",\\n  \"grams\": 289.0,\\n  \"kcals\": 663.0,\\n  \"burgerprice \": 8600,\\n  \"setmenu\": true,\\n  \"setprice \": 10500.0\\n}'),\n",
       " Document(metadata={'menuname': '베토디 스리라차 마요 버거', 'category': '버거 ', 'newmenu': True, 'description': '베이컨 토마토 디럭스에 스리라차 마요 소스를 더해 색다른 매콤함', 'ingredients': '난류,우유,대두,밀,돼지고기,토마토,쇠고기', 'grams': 251.0, 'kcals': 621.0, 'burgerprice ': 7600, 'setmenu': True, 'setprice ': 9500.0}, page_content='{\\n  \"menuname\": \"\\\\ubca0\\\\ud1a0\\\\ub514 \\\\uc2a4\\\\ub9ac\\\\ub77c\\\\ucc28 \\\\ub9c8\\\\uc694 \\\\ubc84\\\\uac70\",\\n  \"category\": \"\\\\ubc84\\\\uac70 \",\\n  \"newmenu\": true,\\n  \"description\": \"\\\\ubca0\\\\uc774\\\\ucee8 \\\\ud1a0\\\\ub9c8\\\\ud1a0 \\\\ub514\\\\ub7ed\\\\uc2a4\\\\uc5d0 \\\\uc2a4\\\\ub9ac\\\\ub77c\\\\ucc28 \\\\ub9c8\\\\uc694 \\\\uc18c\\\\uc2a4\\\\ub97c \\\\ub354\\\\ud574 \\\\uc0c9\\\\ub2e4\\\\ub978 \\\\ub9e4\\\\ucf64\\\\ud568\",\\n  \"ingredients\": \"\\\\ub09c\\\\ub958,\\\\uc6b0\\\\uc720,\\\\ub300\\\\ub450,\\\\ubc00,\\\\ub3fc\\\\uc9c0\\\\uace0\\\\uae30,\\\\ud1a0\\\\ub9c8\\\\ud1a0,\\\\uc1e0\\\\uace0\\\\uae30\",\\n  \"grams\": 251.0,\\n  \"kcals\": 621.0,\\n  \"burgerprice \": 7600,\\n  \"setmenu\": true,\\n  \"setprice \": 9500.0\\n}'),\n",
       " Document(metadata={'menuname': '맥스파이시 상하이 버거', 'category': '버거 ', 'newmenu': False, 'description': '쌀가루가 더해져 더 바삭해진  닭가슴살 패티에 아삭아삭한 양상추와 신선한 토마토까지 더 바삭하고 맛있어진 NEW 맥스파이시 상하이 버거로 입맛도 기분도 화끈하게', 'ingredients': '난류,대두,밀,토마토,닭고기', 'grams': 246.0, 'kcals': 501.0, 'burgerprice ': 6300, 'setmenu': True, 'setprice ': 8400.0}, page_content='{\\n  \"menuname\": \"\\\\ub9e5\\\\uc2a4\\\\ud30c\\\\uc774\\\\uc2dc \\\\uc0c1\\\\ud558\\\\uc774 \\\\ubc84\\\\uac70\",\\n  \"category\": \"\\\\ubc84\\\\uac70 \",\\n  \"newmenu\": false,\\n  \"description\": \"\\\\uc300\\\\uac00\\\\ub8e8\\\\uac00 \\\\ub354\\\\ud574\\\\uc838 \\\\ub354 \\\\ubc14\\\\uc0ad\\\\ud574\\\\uc9c4  \\\\ub2ed\\\\uac00\\\\uc2b4\\\\uc0b4 \\\\ud328\\\\ud2f0\\\\uc5d0 \\\\uc544\\\\uc0ad\\\\uc544\\\\uc0ad\\\\ud55c \\\\uc591\\\\uc0c1\\\\ucd94\\\\uc640 \\\\uc2e0\\\\uc120\\\\ud55c \\\\ud1a0\\\\ub9c8\\\\ud1a0\\\\uae4c\\\\uc9c0 \\\\ub354 \\\\ubc14\\\\uc0ad\\\\ud558\\\\uace0 \\\\ub9db\\\\uc788\\\\uc5b4\\\\uc9c4 NEW \\\\ub9e5\\\\uc2a4\\\\ud30c\\\\uc774\\\\uc2dc \\\\uc0c1\\\\ud558\\\\uc774 \\\\ubc84\\\\uac70\\\\ub85c \\\\uc785\\\\ub9db\\\\ub3c4 \\\\uae30\\\\ubd84\\\\ub3c4 \\\\ud654\\\\ub048\\\\ud558\\\\uac8c\",\\n  \"ingredients\": \"\\\\ub09c\\\\ub958,\\\\ub300\\\\ub450,\\\\ubc00,\\\\ud1a0\\\\ub9c8\\\\ud1a0,\\\\ub2ed\\\\uace0\\\\uae30\",\\n  \"grams\": 246.0,\\n  \"kcals\": 501.0,\\n  \"burgerprice \": 6300,\\n  \"setmenu\": true,\\n  \"setprice \": 8400.0\\n}'),\n",
       " Document(metadata={'menuname': '토마토 치즈 비프 버거', 'category': '버거 ', 'newmenu': True, 'description': '신선한 토마토와 고소한 치즈버거의 조화', 'ingredients': '난류,우유,대두,밀,토마토,쇠고기', 'grams': 200.0, 'kcals': 403.0, 'burgerprice ': 4600, 'setmenu': True, 'setprice ': 6900.0}, page_content='{\\n  \"menuname\": \"\\\\ud1a0\\\\ub9c8\\\\ud1a0 \\\\uce58\\\\uc988 \\\\ube44\\\\ud504 \\\\ubc84\\\\uac70\",\\n  \"category\": \"\\\\ubc84\\\\uac70 \",\\n  \"newmenu\": true,\\n  \"description\": \"\\\\uc2e0\\\\uc120\\\\ud55c \\\\ud1a0\\\\ub9c8\\\\ud1a0\\\\uc640 \\\\uace0\\\\uc18c\\\\ud55c \\\\uce58\\\\uc988\\\\ubc84\\\\uac70\\\\uc758 \\\\uc870\\\\ud654\",\\n  \"ingredients\": \"\\\\ub09c\\\\ub958,\\\\uc6b0\\\\uc720,\\\\ub300\\\\ub450,\\\\ubc00,\\\\ud1a0\\\\ub9c8\\\\ud1a0,\\\\uc1e0\\\\uace0\\\\uae30\",\\n  \"grams\": 200.0,\\n  \"kcals\": 403.0,\\n  \"burgerprice \": 4600,\\n  \"setmenu\": true,\\n  \"setprice \": 6900.0\\n}'),\n",
       " Document(metadata={'menuname': '더블 쿼터파운더 치즈 버거', 'category': '버거 ', 'newmenu': False, 'description': '좋아하는건 더 많이 즐기시라고 두 배 이상 커진  파운드 비프 패티가 두 장 그램육즙이 풍부한 고기 맛을 그대로 살린  순 쇠고기 패티 두 장과 치즈 두 장이 입안 가득 완벽하게 조화되는 놀라운 맛', 'ingredients': '우유,대두,밀,토마토,쇠고기', 'grams': 275.0, 'kcals': 770.0, 'burgerprice ': 8200, 'setmenu': True, 'setprice ': 10400.0}, page_content='{\\n  \"menuname\": \"\\\\ub354\\\\ube14 \\\\ucffc\\\\ud130\\\\ud30c\\\\uc6b4\\\\ub354 \\\\uce58\\\\uc988 \\\\ubc84\\\\uac70\",\\n  \"category\": \"\\\\ubc84\\\\uac70 \",\\n  \"newmenu\": false,\\n  \"description\": \"\\\\uc88b\\\\uc544\\\\ud558\\\\ub294\\\\uac74 \\\\ub354 \\\\ub9ce\\\\uc774 \\\\uc990\\\\uae30\\\\uc2dc\\\\ub77c\\\\uace0 \\\\ub450 \\\\ubc30 \\\\uc774\\\\uc0c1 \\\\ucee4\\\\uc9c4  \\\\ud30c\\\\uc6b4\\\\ub4dc \\\\ube44\\\\ud504 \\\\ud328\\\\ud2f0\\\\uac00 \\\\ub450 \\\\uc7a5 \\\\uadf8\\\\ub7a8\\\\uc721\\\\uc999\\\\uc774 \\\\ud48d\\\\ubd80\\\\ud55c \\\\uace0\\\\uae30 \\\\ub9db\\\\uc744 \\\\uadf8\\\\ub300\\\\ub85c \\\\uc0b4\\\\ub9b0  \\\\uc21c \\\\uc1e0\\\\uace0\\\\uae30 \\\\ud328\\\\ud2f0 \\\\ub450 \\\\uc7a5\\\\uacfc \\\\uce58\\\\uc988 \\\\ub450 \\\\uc7a5\\\\uc774 \\\\uc785\\\\uc548 \\\\uac00\\\\ub4dd \\\\uc644\\\\ubcbd\\\\ud558\\\\uac8c \\\\uc870\\\\ud654\\\\ub418\\\\ub294 \\\\ub180\\\\ub77c\\\\uc6b4 \\\\ub9db\",\\n  \"ingredients\": \"\\\\uc6b0\\\\uc720,\\\\ub300\\\\ub450,\\\\ubc00,\\\\ud1a0\\\\ub9c8\\\\ud1a0,\\\\uc1e0\\\\uace0\\\\uae30\",\\n  \"grams\": 275.0,\\n  \"kcals\": 770.0,\\n  \"burgerprice \": 8200,\\n  \"setmenu\": true,\\n  \"setprice \": 10400.0\\n}'),\n",
       " Document(metadata={'menuname': '쿼터파운더 치즈 버거', 'category': '버거 ', 'newmenu': False, 'description': '쿼터파운더라는 이름에서 알 수 있듯이 두 배 이상 커진 파운드그램 비프와 부드러운 치즈 두 장의 환상궁합두툼한 순 쇠고기 패티와 신선한 치즈의 풍부한 맛으로 세계적으로 사랑받고 있는 맥도날드의 대표적인 프리미엄 버거', 'ingredients': '우유,대두,밀,토마토,쇠고기', 'grams': 198.0, 'kcals': 536.0, 'burgerprice ': 6300, 'setmenu': True, 'setprice ': 8900.0}, page_content='{\\n  \"menuname\": \"\\\\ucffc\\\\ud130\\\\ud30c\\\\uc6b4\\\\ub354 \\\\uce58\\\\uc988 \\\\ubc84\\\\uac70\",\\n  \"category\": \"\\\\ubc84\\\\uac70 \",\\n  \"newmenu\": false,\\n  \"description\": \"\\\\ucffc\\\\ud130\\\\ud30c\\\\uc6b4\\\\ub354\\\\ub77c\\\\ub294 \\\\uc774\\\\ub984\\\\uc5d0\\\\uc11c \\\\uc54c \\\\uc218 \\\\uc788\\\\ub4ef\\\\uc774 \\\\ub450 \\\\ubc30 \\\\uc774\\\\uc0c1 \\\\ucee4\\\\uc9c4 \\\\ud30c\\\\uc6b4\\\\ub4dc\\\\uadf8\\\\ub7a8 \\\\ube44\\\\ud504\\\\uc640 \\\\ubd80\\\\ub4dc\\\\ub7ec\\\\uc6b4 \\\\uce58\\\\uc988 \\\\ub450 \\\\uc7a5\\\\uc758 \\\\ud658\\\\uc0c1\\\\uad81\\\\ud569\\\\ub450\\\\ud23c\\\\ud55c \\\\uc21c \\\\uc1e0\\\\uace0\\\\uae30 \\\\ud328\\\\ud2f0\\\\uc640 \\\\uc2e0\\\\uc120\\\\ud55c \\\\uce58\\\\uc988\\\\uc758 \\\\ud48d\\\\ubd80\\\\ud55c \\\\ub9db\\\\uc73c\\\\ub85c \\\\uc138\\\\uacc4\\\\uc801\\\\uc73c\\\\ub85c \\\\uc0ac\\\\ub791\\\\ubc1b\\\\uace0 \\\\uc788\\\\ub294 \\\\ub9e5\\\\ub3c4\\\\ub0a0\\\\ub4dc\\\\uc758 \\\\ub300\\\\ud45c\\\\uc801\\\\uc778 \\\\ud504\\\\ub9ac\\\\ubbf8\\\\uc5c4 \\\\ubc84\\\\uac70\",\\n  \"ingredients\": \"\\\\uc6b0\\\\uc720,\\\\ub300\\\\ub450,\\\\ubc00,\\\\ud1a0\\\\ub9c8\\\\ud1a0,\\\\uc1e0\\\\uace0\\\\uae30\",\\n  \"grams\": 198.0,\\n  \"kcals\": 536.0,\\n  \"burgerprice \": 6300,\\n  \"setmenu\": true,\\n  \"setprice \": 8900.0\\n}'),\n",
       " Document(metadata={'menuname': '빅맥 버거', 'category': '버거 ', 'newmenu': False, 'description': ' 순 쇠고기 패티 두 장에 빅맥만의 특별한 소스 입안에서 살살 녹는 치즈와 신선한 양상추 양파 그리고  피클까지 년 넘게 전 세계인의 입맛을 사로 잡은 버거의 대명사 ', 'ingredients': '난류,우유,대두,밀,쇠고기', 'grams': 223.0, 'kcals': 582.0, 'burgerprice ': 6300, 'setmenu': True, 'setprice ': 8500.0}, page_content='{\\n  \"menuname\": \"\\\\ube45\\\\ub9e5 \\\\ubc84\\\\uac70\",\\n  \"category\": \"\\\\ubc84\\\\uac70 \",\\n  \"newmenu\": false,\\n  \"description\": \" \\\\uc21c \\\\uc1e0\\\\uace0\\\\uae30 \\\\ud328\\\\ud2f0 \\\\ub450 \\\\uc7a5\\\\uc5d0 \\\\ube45\\\\ub9e5\\\\ub9cc\\\\uc758 \\\\ud2b9\\\\ubcc4\\\\ud55c \\\\uc18c\\\\uc2a4 \\\\uc785\\\\uc548\\\\uc5d0\\\\uc11c \\\\uc0b4\\\\uc0b4 \\\\ub179\\\\ub294 \\\\uce58\\\\uc988\\\\uc640 \\\\uc2e0\\\\uc120\\\\ud55c \\\\uc591\\\\uc0c1\\\\ucd94 \\\\uc591\\\\ud30c \\\\uadf8\\\\ub9ac\\\\uace0  \\\\ud53c\\\\ud074\\\\uae4c\\\\uc9c0 \\\\ub144 \\\\ub118\\\\uac8c \\\\uc804 \\\\uc138\\\\uacc4\\\\uc778\\\\uc758 \\\\uc785\\\\ub9db\\\\uc744 \\\\uc0ac\\\\ub85c \\\\uc7a1\\\\uc740 \\\\ubc84\\\\uac70\\\\uc758 \\\\ub300\\\\uba85\\\\uc0ac \",\\n  \"ingredients\": \"\\\\ub09c\\\\ub958,\\\\uc6b0\\\\uc720,\\\\ub300\\\\ub450,\\\\ubc00,\\\\uc1e0\\\\uace0\\\\uae30\",\\n  \"grams\": 223.0,\\n  \"kcals\": 582.0,\\n  \"burgerprice \": 6300,\\n  \"setmenu\": true,\\n  \"setprice \": 8500.0\\n}'),\n",
       " Document(metadata={'menuname': '맥크리스피 디럭스 버거', 'category': '버거 ', 'newmenu': True, 'description': ' 통닭다리살 겉바속촉 케이준 치킨 패티 촉촉한 포테이토 브리오쉬 번 스페셜 스모키 소스가 선사하는 놀랍도록 새로운 맛의 치킨 버거 ', 'ingredients': '난류,우유,대두,밀,토마토,닭고기,쇠고기', 'grams': 276.0, 'kcals': 614.0, 'burgerprice ': 7600, 'setmenu': True, 'setprice ': 9200.0}, page_content='{\\n  \"menuname\": \"\\\\ub9e5\\\\ud06c\\\\ub9ac\\\\uc2a4\\\\ud53c \\\\ub514\\\\ub7ed\\\\uc2a4 \\\\ubc84\\\\uac70\",\\n  \"category\": \"\\\\ubc84\\\\uac70 \",\\n  \"newmenu\": true,\\n  \"description\": \" \\\\ud1b5\\\\ub2ed\\\\ub2e4\\\\ub9ac\\\\uc0b4 \\\\uac89\\\\ubc14\\\\uc18d\\\\ucd09 \\\\ucf00\\\\uc774\\\\uc900 \\\\uce58\\\\ud0a8 \\\\ud328\\\\ud2f0 \\\\ucd09\\\\ucd09\\\\ud55c \\\\ud3ec\\\\ud14c\\\\uc774\\\\ud1a0 \\\\ube0c\\\\ub9ac\\\\uc624\\\\uc26c \\\\ubc88 \\\\uc2a4\\\\ud398\\\\uc15c \\\\uc2a4\\\\ubaa8\\\\ud0a4 \\\\uc18c\\\\uc2a4\\\\uac00 \\\\uc120\\\\uc0ac\\\\ud558\\\\ub294 \\\\ub180\\\\ub78d\\\\ub3c4\\\\ub85d \\\\uc0c8\\\\ub85c\\\\uc6b4 \\\\ub9db\\\\uc758 \\\\uce58\\\\ud0a8 \\\\ubc84\\\\uac70 \",\\n  \"ingredients\": \"\\\\ub09c\\\\ub958,\\\\uc6b0\\\\uc720,\\\\ub300\\\\ub450,\\\\ubc00,\\\\ud1a0\\\\ub9c8\\\\ud1a0,\\\\ub2ed\\\\uace0\\\\uae30,\\\\uc1e0\\\\uace0\\\\uae30\",\\n  \"grams\": 276.0,\\n  \"kcals\": 614.0,\\n  \"burgerprice \": 7600,\\n  \"setmenu\": true,\\n  \"setprice \": 9200.0\\n}'),\n",
       " Document(metadata={'menuname': '맥크리스피 클래식 버거', 'category': '버거 ', 'newmenu': True, 'description': ' 통닭다리살 겉바속촉 케이준 치킨 패티 치킨 버거 본연의 맛에 충실한 클래식 버거 ', 'ingredients': '난류,우유,대두,밀,토마토,닭고기,쇠고기', 'grams': 210.0, 'kcals': 603.0, 'burgerprice ': 6700, 'setmenu': True, 'setprice ': 8700.0}, page_content='{\\n  \"menuname\": \"\\\\ub9e5\\\\ud06c\\\\ub9ac\\\\uc2a4\\\\ud53c \\\\ud074\\\\ub798\\\\uc2dd \\\\ubc84\\\\uac70\",\\n  \"category\": \"\\\\ubc84\\\\uac70 \",\\n  \"newmenu\": true,\\n  \"description\": \" \\\\ud1b5\\\\ub2ed\\\\ub2e4\\\\ub9ac\\\\uc0b4 \\\\uac89\\\\ubc14\\\\uc18d\\\\ucd09 \\\\ucf00\\\\uc774\\\\uc900 \\\\uce58\\\\ud0a8 \\\\ud328\\\\ud2f0 \\\\uce58\\\\ud0a8 \\\\ubc84\\\\uac70 \\\\ubcf8\\\\uc5f0\\\\uc758 \\\\ub9db\\\\uc5d0 \\\\ucda9\\\\uc2e4\\\\ud55c \\\\ud074\\\\ub798\\\\uc2dd \\\\ubc84\\\\uac70 \",\\n  \"ingredients\": \"\\\\ub09c\\\\ub958,\\\\uc6b0\\\\uc720,\\\\ub300\\\\ub450,\\\\ubc00,\\\\ud1a0\\\\ub9c8\\\\ud1a0,\\\\ub2ed\\\\uace0\\\\uae30,\\\\uc1e0\\\\uace0\\\\uae30\",\\n  \"grams\": 210.0,\\n  \"kcals\": 603.0,\\n  \"burgerprice \": 6700,\\n  \"setmenu\": true,\\n  \"setprice \": 8700.0\\n}'),\n",
       " Document(metadata={'menuname': '1955 버거', 'category': '버거 ', 'newmenu': False, 'description': 'g 두툼한 순 쇠고기 패티 특별한  소스에 깊은 풍미의 그릴드 어니언까지 맥도날드가 처음 생긴 년의 맛을 담은 영원한 오리지널  버거   ', 'ingredients': '난류,우유,대두,밀,돼지고기,토마토,쇠고기', 'grams': 264.0, 'kcals': 572.0, 'burgerprice ': 7200, 'setmenu': True, 'setprice ': 9100.0}, page_content='{\\n  \"menuname\": \"1955 \\\\ubc84\\\\uac70\",\\n  \"category\": \"\\\\ubc84\\\\uac70 \",\\n  \"newmenu\": false,\\n  \"description\": \"g \\\\ub450\\\\ud23c\\\\ud55c \\\\uc21c \\\\uc1e0\\\\uace0\\\\uae30 \\\\ud328\\\\ud2f0 \\\\ud2b9\\\\ubcc4\\\\ud55c  \\\\uc18c\\\\uc2a4\\\\uc5d0 \\\\uae4a\\\\uc740 \\\\ud48d\\\\ubbf8\\\\uc758 \\\\uadf8\\\\ub9b4\\\\ub4dc \\\\uc5b4\\\\ub2c8\\\\uc5b8\\\\uae4c\\\\uc9c0 \\\\ub9e5\\\\ub3c4\\\\ub0a0\\\\ub4dc\\\\uac00 \\\\ucc98\\\\uc74c \\\\uc0dd\\\\uae34 \\\\ub144\\\\uc758 \\\\ub9db\\\\uc744 \\\\ub2f4\\\\uc740 \\\\uc601\\\\uc6d0\\\\ud55c \\\\uc624\\\\ub9ac\\\\uc9c0\\\\ub110  \\\\ubc84\\\\uac70   \",\\n  \"ingredients\": \"\\\\ub09c\\\\ub958,\\\\uc6b0\\\\uc720,\\\\ub300\\\\ub450,\\\\ubc00,\\\\ub3fc\\\\uc9c0\\\\uace0\\\\uae30,\\\\ud1a0\\\\ub9c8\\\\ud1a0,\\\\uc1e0\\\\uace0\\\\uae30\",\\n  \"grams\": 264.0,\\n  \"kcals\": 572.0,\\n  \"burgerprice \": 7200,\\n  \"setmenu\": true,\\n  \"setprice \": 9100.0\\n}'),\n",
       " Document(metadata={'menuname': '맥치킨 모짜렐라 버거', 'category': '버거 ', 'newmenu': False, 'description': '든든한 맥치킨에 골든 모짜렐라 치즈 스틱 개와 매콤한 아라비아따 소스를 더해 강렬하게 재탄생한 맥치킨 모짜렐라  ', 'ingredients': '난류,우유,대두,밀,토마토,닭고기', 'grams': 293.0, 'kcals': 743.0, 'burgerprice ': 5800, 'setmenu': True, 'setprice ': 8600.0}, page_content='{\\n  \"menuname\": \"\\\\ub9e5\\\\uce58\\\\ud0a8 \\\\ubaa8\\\\uc9dc\\\\ub810\\\\ub77c \\\\ubc84\\\\uac70\",\\n  \"category\": \"\\\\ubc84\\\\uac70 \",\\n  \"newmenu\": false,\\n  \"description\": \"\\\\ub4e0\\\\ub4e0\\\\ud55c \\\\ub9e5\\\\uce58\\\\ud0a8\\\\uc5d0 \\\\uace8\\\\ub4e0 \\\\ubaa8\\\\uc9dc\\\\ub810\\\\ub77c \\\\uce58\\\\uc988 \\\\uc2a4\\\\ud2f1 \\\\uac1c\\\\uc640 \\\\ub9e4\\\\ucf64\\\\ud55c \\\\uc544\\\\ub77c\\\\ube44\\\\uc544\\\\ub530 \\\\uc18c\\\\uc2a4\\\\ub97c \\\\ub354\\\\ud574 \\\\uac15\\\\ub82c\\\\ud558\\\\uac8c \\\\uc7ac\\\\ud0c4\\\\uc0dd\\\\ud55c \\\\ub9e5\\\\uce58\\\\ud0a8 \\\\ubaa8\\\\uc9dc\\\\ub810\\\\ub77c  \",\\n  \"ingredients\": \"\\\\ub09c\\\\ub958,\\\\uc6b0\\\\uc720,\\\\ub300\\\\ub450,\\\\ubc00,\\\\ud1a0\\\\ub9c8\\\\ud1a0,\\\\ub2ed\\\\uace0\\\\uae30\",\\n  \"grams\": 293.0,\\n  \"kcals\": 743.0,\\n  \"burgerprice \": 5800,\\n  \"setmenu\": true,\\n  \"setprice \": 8600.0\\n}'),\n",
       " Document(metadata={'menuname': '맥치킨 버거', 'category': '버거 ', 'newmenu': False, 'description': '바삭한 치킨 패티 고소한 화이트 마요 소스와 아삭한 양상추가 함께 더 업그레이드된 맛으로 돌아온 맥치킨  ', 'ingredients': '난류,대두,밀,닭고기', 'grams': 206.0, 'kcals': 523.0, 'burgerprice ': 4300, 'setmenu': True, 'setprice ': 6700.0}, page_content='{\\n  \"menuname\": \"\\\\ub9e5\\\\uce58\\\\ud0a8 \\\\ubc84\\\\uac70\",\\n  \"category\": \"\\\\ubc84\\\\uac70 \",\\n  \"newmenu\": false,\\n  \"description\": \"\\\\ubc14\\\\uc0ad\\\\ud55c \\\\uce58\\\\ud0a8 \\\\ud328\\\\ud2f0 \\\\uace0\\\\uc18c\\\\ud55c \\\\ud654\\\\uc774\\\\ud2b8 \\\\ub9c8\\\\uc694 \\\\uc18c\\\\uc2a4\\\\uc640 \\\\uc544\\\\uc0ad\\\\ud55c \\\\uc591\\\\uc0c1\\\\ucd94\\\\uac00 \\\\ud568\\\\uaed8 \\\\ub354 \\\\uc5c5\\\\uadf8\\\\ub808\\\\uc774\\\\ub4dc\\\\ub41c \\\\ub9db\\\\uc73c\\\\ub85c \\\\ub3cc\\\\uc544\\\\uc628 \\\\ub9e5\\\\uce58\\\\ud0a8  \",\\n  \"ingredients\": \"\\\\ub09c\\\\ub958,\\\\ub300\\\\ub450,\\\\ubc00,\\\\ub2ed\\\\uace0\\\\uae30\",\\n  \"grams\": 206.0,\\n  \"kcals\": 523.0,\\n  \"burgerprice \": 4300,\\n  \"setmenu\": true,\\n  \"setprice \": 6700.0\\n}'),\n",
       " Document(metadata={'menuname': '더블 불고기 버거', 'category': '버거 ', 'newmenu': False, 'description': '진한 불고기 소스의 패티가 두 장 여기에 고소한 치즈와 마요네즈 신선한 양상추를 곁들인 깊고 풍부한 맛  ', 'ingredients': '난류,우유,대두,밀,돼지고기,조개,굴', 'grams': 237.0, 'kcals': 635.0, 'burgerprice ': 5300, 'setmenu': True, 'setprice ': 7500.0}, page_content='{\\n  \"menuname\": \"\\\\ub354\\\\ube14 \\\\ubd88\\\\uace0\\\\uae30 \\\\ubc84\\\\uac70\",\\n  \"category\": \"\\\\ubc84\\\\uac70 \",\\n  \"newmenu\": false,\\n  \"description\": \"\\\\uc9c4\\\\ud55c \\\\ubd88\\\\uace0\\\\uae30 \\\\uc18c\\\\uc2a4\\\\uc758 \\\\ud328\\\\ud2f0\\\\uac00 \\\\ub450 \\\\uc7a5 \\\\uc5ec\\\\uae30\\\\uc5d0 \\\\uace0\\\\uc18c\\\\ud55c \\\\uce58\\\\uc988\\\\uc640 \\\\ub9c8\\\\uc694\\\\ub124\\\\uc988 \\\\uc2e0\\\\uc120\\\\ud55c \\\\uc591\\\\uc0c1\\\\ucd94\\\\ub97c \\\\uacc1\\\\ub4e4\\\\uc778 \\\\uae4a\\\\uace0 \\\\ud48d\\\\ubd80\\\\ud55c \\\\ub9db  \",\\n  \"ingredients\": \"\\\\ub09c\\\\ub958,\\\\uc6b0\\\\uc720,\\\\ub300\\\\ub450,\\\\ubc00,\\\\ub3fc\\\\uc9c0\\\\uace0\\\\uae30,\\\\uc870\\\\uac1c,\\\\uad74\",\\n  \"grams\": 237.0,\\n  \"kcals\": 635.0,\\n  \"burgerprice \": 5300,\\n  \"setmenu\": true,\\n  \"setprice \": 7500.0\\n}'),\n",
       " Document(metadata={'menuname': '에그 불고기 버거', 'category': '버거 ', 'newmenu': False, 'description': '불고기 버거에 국내산 등급 계란을 더해 맛의 정점을 찍다 ', 'ingredients': '난류,대두,밀,돼지고기,조개,굴', 'grams': 222.0, 'kcals': 491.0, 'burgerprice ': 5100, 'setmenu': True, 'setprice ': 7300.0}, page_content='{\\n  \"menuname\": \"\\\\uc5d0\\\\uadf8 \\\\ubd88\\\\uace0\\\\uae30 \\\\ubc84\\\\uac70\",\\n  \"category\": \"\\\\ubc84\\\\uac70 \",\\n  \"newmenu\": false,\\n  \"description\": \"\\\\ubd88\\\\uace0\\\\uae30 \\\\ubc84\\\\uac70\\\\uc5d0 \\\\uad6d\\\\ub0b4\\\\uc0b0 \\\\ub4f1\\\\uae09 \\\\uacc4\\\\ub780\\\\uc744 \\\\ub354\\\\ud574 \\\\ub9db\\\\uc758 \\\\uc815\\\\uc810\\\\uc744 \\\\ucc0d\\\\ub2e4 \",\\n  \"ingredients\": \"\\\\ub09c\\\\ub958,\\\\ub300\\\\ub450,\\\\ubc00,\\\\ub3fc\\\\uc9c0\\\\uace0\\\\uae30,\\\\uc870\\\\uac1c,\\\\uad74\",\\n  \"grams\": 222.0,\\n  \"kcals\": 491.0,\\n  \"burgerprice \": 5100,\\n  \"setmenu\": true,\\n  \"setprice \": 7300.0\\n}'),\n",
       " Document(metadata={'menuname': '불고기 버거', 'category': '버거 ', 'newmenu': False, 'description': '한국인의 입맛에 딱 맞는 불고기 소스에 잘 재운 패티와 고소한 마요네즈 신선한 양상추의 맛있는 조합  ', 'ingredients': '난류,대두,밀,돼지고기,조개,굴', 'grams': 167.0, 'kcals': 409.0, 'burgerprice ': 4200, 'setmenu': True, 'setprice ': 6600.0}, page_content='{\\n  \"menuname\": \"\\\\ubd88\\\\uace0\\\\uae30 \\\\ubc84\\\\uac70\",\\n  \"category\": \"\\\\ubc84\\\\uac70 \",\\n  \"newmenu\": false,\\n  \"description\": \"\\\\ud55c\\\\uad6d\\\\uc778\\\\uc758 \\\\uc785\\\\ub9db\\\\uc5d0 \\\\ub531 \\\\ub9de\\\\ub294 \\\\ubd88\\\\uace0\\\\uae30 \\\\uc18c\\\\uc2a4\\\\uc5d0 \\\\uc798 \\\\uc7ac\\\\uc6b4 \\\\ud328\\\\ud2f0\\\\uc640 \\\\uace0\\\\uc18c\\\\ud55c \\\\ub9c8\\\\uc694\\\\ub124\\\\uc988 \\\\uc2e0\\\\uc120\\\\ud55c \\\\uc591\\\\uc0c1\\\\ucd94\\\\uc758 \\\\ub9db\\\\uc788\\\\ub294 \\\\uc870\\\\ud569  \",\\n  \"ingredients\": \"\\\\ub09c\\\\ub958,\\\\ub300\\\\ub450,\\\\ubc00,\\\\ub3fc\\\\uc9c0\\\\uace0\\\\uae30,\\\\uc870\\\\uac1c,\\\\uad74\",\\n  \"grams\": 167.0,\\n  \"kcals\": 409.0,\\n  \"burgerprice \": 4200,\\n  \"setmenu\": true,\\n  \"setprice \": 6600.0\\n}'),\n",
       " Document(metadata={'menuname': '슈슈 버거', 'category': '버거 ', 'newmenu': False, 'description': '탱글한 통새우살 가득 슈슈 버거', 'ingredients': '난류,우유,대두,밀,토마토,새우,쇠고기,굴', 'grams': 224.0, 'kcals': 409.0, 'burgerprice ': 5500, 'setmenu': True, 'setprice ': 7300.0}, page_content='{\\n  \"menuname\": \"\\\\uc288\\\\uc288 \\\\ubc84\\\\uac70\",\\n  \"category\": \"\\\\ubc84\\\\uac70 \",\\n  \"newmenu\": false,\\n  \"description\": \"\\\\ud0f1\\\\uae00\\\\ud55c \\\\ud1b5\\\\uc0c8\\\\uc6b0\\\\uc0b4 \\\\uac00\\\\ub4dd \\\\uc288\\\\uc288 \\\\ubc84\\\\uac70\",\\n  \"ingredients\": \"\\\\ub09c\\\\ub958,\\\\uc6b0\\\\uc720,\\\\ub300\\\\ub450,\\\\ubc00,\\\\ud1a0\\\\ub9c8\\\\ud1a0,\\\\uc0c8\\\\uc6b0,\\\\uc1e0\\\\uace0\\\\uae30,\\\\uad74\",\\n  \"grams\": 224.0,\\n  \"kcals\": 409.0,\\n  \"burgerprice \": 5500,\\n  \"setmenu\": true,\\n  \"setprice \": 7300.0\\n}'),\n",
       " Document(metadata={'menuname': '슈비 버거', 'category': '버거 ', 'newmenu': False, 'description': '탱글한 통새우살에 비프 패티를 더해 푸짐하게', 'ingredients': '난류,우유,대두,밀,토마토,새우,쇠고기,굴', 'grams': 269.0, 'kcals': 540.0, 'burgerprice ': 6600, 'setmenu': True, 'setprice ': 9100.0}, page_content='{\\n  \"menuname\": \"\\\\uc288\\\\ube44 \\\\ubc84\\\\uac70\",\\n  \"category\": \"\\\\ubc84\\\\uac70 \",\\n  \"newmenu\": false,\\n  \"description\": \"\\\\ud0f1\\\\uae00\\\\ud55c \\\\ud1b5\\\\uc0c8\\\\uc6b0\\\\uc0b4\\\\uc5d0 \\\\ube44\\\\ud504 \\\\ud328\\\\ud2f0\\\\ub97c \\\\ub354\\\\ud574 \\\\ud478\\\\uc9d0\\\\ud558\\\\uac8c\",\\n  \"ingredients\": \"\\\\ub09c\\\\ub958,\\\\uc6b0\\\\uc720,\\\\ub300\\\\ub450,\\\\ubc00,\\\\ud1a0\\\\ub9c8\\\\ud1a0,\\\\uc0c8\\\\uc6b0,\\\\uc1e0\\\\uace0\\\\uae30,\\\\uad74\",\\n  \"grams\": 269.0,\\n  \"kcals\": 540.0,\\n  \"burgerprice \": 6600,\\n  \"setmenu\": true,\\n  \"setprice \": 9100.0\\n}'),\n",
       " Document(metadata={'menuname': '베이컨 토마토 디럭스 버거', 'category': '버거 ', 'newmenu': False, 'description': '두 장의  순 쇠고기 패티에 그릴에 구워 더욱 고소한 장의 베이컨을 얹고 신선한 토마토와 양상추 매콤달콤한 스위트 칠리 소스 치즈 마요네즈를 더해 더욱 풍부하고 신선한 맛의 프리미엄 버거    ', 'ingredients': '난류,우유,대두,밀,돼지고기,토마토,쇠고기', 'grams': 247.0, 'kcals': 570.0, 'burgerprice ': 6600, 'setmenu': True, 'setprice ': 9000.0}, page_content='{\\n  \"menuname\": \"\\\\ubca0\\\\uc774\\\\ucee8 \\\\ud1a0\\\\ub9c8\\\\ud1a0 \\\\ub514\\\\ub7ed\\\\uc2a4 \\\\ubc84\\\\uac70\",\\n  \"category\": \"\\\\ubc84\\\\uac70 \",\\n  \"newmenu\": false,\\n  \"description\": \"\\\\ub450 \\\\uc7a5\\\\uc758  \\\\uc21c \\\\uc1e0\\\\uace0\\\\uae30 \\\\ud328\\\\ud2f0\\\\uc5d0 \\\\uadf8\\\\ub9b4\\\\uc5d0 \\\\uad6c\\\\uc6cc \\\\ub354\\\\uc6b1 \\\\uace0\\\\uc18c\\\\ud55c \\\\uc7a5\\\\uc758 \\\\ubca0\\\\uc774\\\\ucee8\\\\uc744 \\\\uc5b9\\\\uace0 \\\\uc2e0\\\\uc120\\\\ud55c \\\\ud1a0\\\\ub9c8\\\\ud1a0\\\\uc640 \\\\uc591\\\\uc0c1\\\\ucd94 \\\\ub9e4\\\\ucf64\\\\ub2ec\\\\ucf64\\\\ud55c \\\\uc2a4\\\\uc704\\\\ud2b8 \\\\uce60\\\\ub9ac \\\\uc18c\\\\uc2a4 \\\\uce58\\\\uc988 \\\\ub9c8\\\\uc694\\\\ub124\\\\uc988\\\\ub97c \\\\ub354\\\\ud574 \\\\ub354\\\\uc6b1 \\\\ud48d\\\\ubd80\\\\ud558\\\\uace0 \\\\uc2e0\\\\uc120\\\\ud55c \\\\ub9db\\\\uc758 \\\\ud504\\\\ub9ac\\\\ubbf8\\\\uc5c4 \\\\ubc84\\\\uac70    \",\\n  \"ingredients\": \"\\\\ub09c\\\\ub958,\\\\uc6b0\\\\uc720,\\\\ub300\\\\ub450,\\\\ubc00,\\\\ub3fc\\\\uc9c0\\\\uace0\\\\uae30,\\\\ud1a0\\\\ub9c8\\\\ud1a0,\\\\uc1e0\\\\uace0\\\\uae30\",\\n  \"grams\": 247.0,\\n  \"kcals\": 570.0,\\n  \"burgerprice \": 6600,\\n  \"setmenu\": true,\\n  \"setprice \": 9000.0\\n}'),\n",
       " Document(metadata={'menuname': '치즈버거', 'category': '버거 ', 'newmenu': False, 'description': '고소하고 부드러운 치즈와  순 쇠고기 패티 맥도날드만의 심플한 클래식 치즈버거 ', 'ingredients': '우유,대두,밀,토마토,쇠고기', 'grams': 115.0, 'kcals': 318.0, 'burgerprice ': 3600, 'setmenu': True, 'setprice ': 6300.0}, page_content='{\\n  \"menuname\": \"\\\\uce58\\\\uc988\\\\ubc84\\\\uac70\",\\n  \"category\": \"\\\\ubc84\\\\uac70 \",\\n  \"newmenu\": false,\\n  \"description\": \"\\\\uace0\\\\uc18c\\\\ud558\\\\uace0 \\\\ubd80\\\\ub4dc\\\\ub7ec\\\\uc6b4 \\\\uce58\\\\uc988\\\\uc640  \\\\uc21c \\\\uc1e0\\\\uace0\\\\uae30 \\\\ud328\\\\ud2f0 \\\\ub9e5\\\\ub3c4\\\\ub0a0\\\\ub4dc\\\\ub9cc\\\\uc758 \\\\uc2ec\\\\ud50c\\\\ud55c \\\\ud074\\\\ub798\\\\uc2dd \\\\uce58\\\\uc988\\\\ubc84\\\\uac70 \",\\n  \"ingredients\": \"\\\\uc6b0\\\\uc720,\\\\ub300\\\\ub450,\\\\ubc00,\\\\ud1a0\\\\ub9c8\\\\ud1a0,\\\\uc1e0\\\\uace0\\\\uae30\",\\n  \"grams\": 115.0,\\n  \"kcals\": 318.0,\\n  \"burgerprice \": 3600,\\n  \"setmenu\": true,\\n  \"setprice \": 6300.0\\n}'),\n",
       " Document(metadata={'menuname': '더블 치즈버거', 'category': '버거 ', 'newmenu': False, 'description': '고소하고 부드러운 치즈와  순 쇠고기 패티가 두개 맥도날드만의 더블 치즈버거  ', 'ingredients': '우유,대두,밀,토마토,쇠고기', 'grams': 167.0, 'kcals': 479.0, 'burgerprice ': 5600, 'setmenu': True, 'setprice ': 7300.0}, page_content='{\\n  \"menuname\": \"\\\\ub354\\\\ube14 \\\\uce58\\\\uc988\\\\ubc84\\\\uac70\",\\n  \"category\": \"\\\\ubc84\\\\uac70 \",\\n  \"newmenu\": false,\\n  \"description\": \"\\\\uace0\\\\uc18c\\\\ud558\\\\uace0 \\\\ubd80\\\\ub4dc\\\\ub7ec\\\\uc6b4 \\\\uce58\\\\uc988\\\\uc640  \\\\uc21c \\\\uc1e0\\\\uace0\\\\uae30 \\\\ud328\\\\ud2f0\\\\uac00 \\\\ub450\\\\uac1c \\\\ub9e5\\\\ub3c4\\\\ub0a0\\\\ub4dc\\\\ub9cc\\\\uc758 \\\\ub354\\\\ube14 \\\\uce58\\\\uc988\\\\ubc84\\\\uac70  \",\\n  \"ingredients\": \"\\\\uc6b0\\\\uc720,\\\\ub300\\\\ub450,\\\\ubc00,\\\\ud1a0\\\\ub9c8\\\\ud1a0,\\\\uc1e0\\\\uace0\\\\uae30\",\\n  \"grams\": 167.0,\\n  \"kcals\": 479.0,\\n  \"burgerprice \": 5600,\\n  \"setmenu\": true,\\n  \"setprice \": 7300.0\\n}'),\n",
       " Document(metadata={'menuname': '트리플 치즈버거', 'category': '버거 ', 'newmenu': False, 'description': '부드러운 치즈와 풍부한 육즙의 패티를 세배 더 진하게 즐길 수 있는 트리플 치즈버거 ', 'ingredients': '우유,대두,밀,토마토,쇠고기', 'grams': 219.0, 'kcals': 620.0, 'burgerprice ': 6700, 'setmenu': True, 'setprice ': 8500.0}, page_content='{\\n  \"menuname\": \"\\\\ud2b8\\\\ub9ac\\\\ud50c \\\\uce58\\\\uc988\\\\ubc84\\\\uac70\",\\n  \"category\": \"\\\\ubc84\\\\uac70 \",\\n  \"newmenu\": false,\\n  \"description\": \"\\\\ubd80\\\\ub4dc\\\\ub7ec\\\\uc6b4 \\\\uce58\\\\uc988\\\\uc640 \\\\ud48d\\\\ubd80\\\\ud55c \\\\uc721\\\\uc999\\\\uc758 \\\\ud328\\\\ud2f0\\\\ub97c \\\\uc138\\\\ubc30 \\\\ub354 \\\\uc9c4\\\\ud558\\\\uac8c \\\\uc990\\\\uae38 \\\\uc218 \\\\uc788\\\\ub294 \\\\ud2b8\\\\ub9ac\\\\ud50c \\\\uce58\\\\uc988\\\\ubc84\\\\uac70 \",\\n  \"ingredients\": \"\\\\uc6b0\\\\uc720,\\\\ub300\\\\ub450,\\\\ubc00,\\\\ud1a0\\\\ub9c8\\\\ud1a0,\\\\uc1e0\\\\uace0\\\\uae30\",\\n  \"grams\": 219.0,\\n  \"kcals\": 620.0,\\n  \"burgerprice \": 6700,\\n  \"setmenu\": true,\\n  \"setprice \": 8500.0\\n}'),\n",
       " Document(metadata={'menuname': '햄버거', 'category': '버거 ', 'newmenu': False, 'description': ' 순 쇠고기 패티에 상큼한 피클과 양파 기본에 충실한 맥도날드 햄버거 ', 'ingredients': '대두,밀,토마토,쇠고기', 'grams': 101.0, 'kcals': 266.0, 'burgerprice ': 3400, 'setmenu': False, 'setprice ': ''}, page_content='{\\n  \"menuname\": \"\\\\ud584\\\\ubc84\\\\uac70\",\\n  \"category\": \"\\\\ubc84\\\\uac70 \",\\n  \"newmenu\": false,\\n  \"description\": \" \\\\uc21c \\\\uc1e0\\\\uace0\\\\uae30 \\\\ud328\\\\ud2f0\\\\uc5d0 \\\\uc0c1\\\\ud07c\\\\ud55c \\\\ud53c\\\\ud074\\\\uacfc \\\\uc591\\\\ud30c \\\\uae30\\\\ubcf8\\\\uc5d0 \\\\ucda9\\\\uc2e4\\\\ud55c \\\\ub9e5\\\\ub3c4\\\\ub0a0\\\\ub4dc \\\\ud584\\\\ubc84\\\\uac70 \",\\n  \"ingredients\": \"\\\\ub300\\\\ub450,\\\\ubc00,\\\\ud1a0\\\\ub9c8\\\\ud1a0,\\\\uc1e0\\\\uace0\\\\uae30\",\\n  \"grams\": 101.0,\\n  \"kcals\": 266.0,\\n  \"burgerprice \": 3400,\\n  \"setmenu\": false,\\n  \"setprice \": \"\"\\n}'),\n",
       " Document(metadata={'menuname': '탄산 미디움', 'category': '음료 ', 'newmenu': False, 'description': '갈증해소 뿐만이 아니라 기분까지 상쾌하게 코카콜라', 'ingredients': '', 'grams': '', 'kcals': '', 'burgerprice ': 2600, 'setmenu': '', 'setprice ': ''}, page_content='{\\n  \"menuname\": \"\\\\ud0c4\\\\uc0b0 \\\\ubbf8\\\\ub514\\\\uc6c0\",\\n  \"category\": \"\\\\uc74c\\\\ub8cc \",\\n  \"newmenu\": false,\\n  \"description\": \"\\\\uac08\\\\uc99d\\\\ud574\\\\uc18c \\\\ubfd0\\\\ub9cc\\\\uc774 \\\\uc544\\\\ub2c8\\\\ub77c \\\\uae30\\\\ubd84\\\\uae4c\\\\uc9c0 \\\\uc0c1\\\\ucf8c\\\\ud558\\\\uac8c \\\\ucf54\\\\uce74\\\\ucf5c\\\\ub77c\",\\n  \"ingredients\": \"\",\\n  \"grams\": \"\",\\n  \"kcals\": \"\",\\n  \"burgerprice \": 2600,\\n  \"setmenu\": \"\",\\n  \"setprice \": \"\"\\n}'),\n",
       " Document(metadata={'menuname': '탄산 라지', 'category': '음료 ', 'newmenu': False, 'description': '갈증해소 뿐만이 아니라 기분까지 상쾌하게 코카콜라', 'ingredients': '', 'grams': '', 'kcals': '', 'burgerprice ': 3100, 'setmenu': '', 'setprice ': ''}, page_content='{\\n  \"menuname\": \"\\\\ud0c4\\\\uc0b0 \\\\ub77c\\\\uc9c0\",\\n  \"category\": \"\\\\uc74c\\\\ub8cc \",\\n  \"newmenu\": false,\\n  \"description\": \"\\\\uac08\\\\uc99d\\\\ud574\\\\uc18c \\\\ubfd0\\\\ub9cc\\\\uc774 \\\\uc544\\\\ub2c8\\\\ub77c \\\\uae30\\\\ubd84\\\\uae4c\\\\uc9c0 \\\\uc0c1\\\\ucf8c\\\\ud558\\\\uac8c \\\\ucf54\\\\uce74\\\\ucf5c\\\\ub77c\",\\n  \"ingredients\": \"\",\\n  \"grams\": \"\",\\n  \"kcals\": \"\",\\n  \"burgerprice \": 3100,\\n  \"setmenu\": \"\",\\n  \"setprice \": \"\"\\n}'),\n",
       " Document(metadata={'menuname': '후렌치후라이 스몰', 'category': '사이드', 'newmenu': False, 'description': '통으로 썰어낸 감자를 맥도날드만의 노하우로 튀겨낸 남다른 맛과 바삭함 맥도날드의 역사가 담긴 월드 클래스 후렌치 후라이 ', 'ingredients': '', 'grams': '', 'kcals': '', 'burgerprice ': 2300, 'setmenu': '', 'setprice ': ''}, page_content='{\\n  \"menuname\": \"\\\\ud6c4\\\\ub80c\\\\uce58\\\\ud6c4\\\\ub77c\\\\uc774 \\\\uc2a4\\\\ubab0\",\\n  \"category\": \"\\\\uc0ac\\\\uc774\\\\ub4dc\",\\n  \"newmenu\": false,\\n  \"description\": \"\\\\ud1b5\\\\uc73c\\\\ub85c \\\\uc370\\\\uc5b4\\\\ub0b8 \\\\uac10\\\\uc790\\\\ub97c \\\\ub9e5\\\\ub3c4\\\\ub0a0\\\\ub4dc\\\\ub9cc\\\\uc758 \\\\ub178\\\\ud558\\\\uc6b0\\\\ub85c \\\\ud280\\\\uaca8\\\\ub0b8 \\\\ub0a8\\\\ub2e4\\\\ub978 \\\\ub9db\\\\uacfc \\\\ubc14\\\\uc0ad\\\\ud568 \\\\ub9e5\\\\ub3c4\\\\ub0a0\\\\ub4dc\\\\uc758 \\\\uc5ed\\\\uc0ac\\\\uac00 \\\\ub2f4\\\\uae34 \\\\uc6d4\\\\ub4dc \\\\ud074\\\\ub798\\\\uc2a4 \\\\ud6c4\\\\ub80c\\\\uce58 \\\\ud6c4\\\\ub77c\\\\uc774 \",\\n  \"ingredients\": \"\",\\n  \"grams\": \"\",\\n  \"kcals\": \"\",\\n  \"burgerprice \": 2300,\\n  \"setmenu\": \"\",\\n  \"setprice \": \"\"\\n}'),\n",
       " Document(metadata={'menuname': '후렌치후라이 미디움', 'category': '사이드', 'newmenu': False, 'description': '통으로 썰어낸 감자를 맥도날드만의 노하우로 튀겨낸 남다른 맛과 바삭함 맥도날드의 역사가 담긴 월드 클래스 후렌치 후라이 ', 'ingredients': '', 'grams': '', 'kcals': '', 'burgerprice ': 3000, 'setmenu': '', 'setprice ': ''}, page_content='{\\n  \"menuname\": \"\\\\ud6c4\\\\ub80c\\\\uce58\\\\ud6c4\\\\ub77c\\\\uc774 \\\\ubbf8\\\\ub514\\\\uc6c0\",\\n  \"category\": \"\\\\uc0ac\\\\uc774\\\\ub4dc\",\\n  \"newmenu\": false,\\n  \"description\": \"\\\\ud1b5\\\\uc73c\\\\ub85c \\\\uc370\\\\uc5b4\\\\ub0b8 \\\\uac10\\\\uc790\\\\ub97c \\\\ub9e5\\\\ub3c4\\\\ub0a0\\\\ub4dc\\\\ub9cc\\\\uc758 \\\\ub178\\\\ud558\\\\uc6b0\\\\ub85c \\\\ud280\\\\uaca8\\\\ub0b8 \\\\ub0a8\\\\ub2e4\\\\ub978 \\\\ub9db\\\\uacfc \\\\ubc14\\\\uc0ad\\\\ud568 \\\\ub9e5\\\\ub3c4\\\\ub0a0\\\\ub4dc\\\\uc758 \\\\uc5ed\\\\uc0ac\\\\uac00 \\\\ub2f4\\\\uae34 \\\\uc6d4\\\\ub4dc \\\\ud074\\\\ub798\\\\uc2a4 \\\\ud6c4\\\\ub80c\\\\uce58 \\\\ud6c4\\\\ub77c\\\\uc774 \",\\n  \"ingredients\": \"\",\\n  \"grams\": \"\",\\n  \"kcals\": \"\",\\n  \"burgerprice \": 3000,\\n  \"setmenu\": \"\",\\n  \"setprice \": \"\"\\n}'),\n",
       " Document(metadata={'menuname': '후렌치후라이 라지', 'category': '사이드', 'newmenu': False, 'description': '통으로 썰어낸 감자를 맥도날드만의 노하우로 튀겨낸 남다른 맛과 바삭함 맥도날드의 역사가 담긴 월드 클래스 후렌치 후라이 ', 'ingredients': '', 'grams': '', 'kcals': '', 'burgerprice ': 4000, 'setmenu': '', 'setprice ': ''}, page_content='{\\n  \"menuname\": \"\\\\ud6c4\\\\ub80c\\\\uce58\\\\ud6c4\\\\ub77c\\\\uc774 \\\\ub77c\\\\uc9c0\",\\n  \"category\": \"\\\\uc0ac\\\\uc774\\\\ub4dc\",\\n  \"newmenu\": false,\\n  \"description\": \"\\\\ud1b5\\\\uc73c\\\\ub85c \\\\uc370\\\\uc5b4\\\\ub0b8 \\\\uac10\\\\uc790\\\\ub97c \\\\ub9e5\\\\ub3c4\\\\ub0a0\\\\ub4dc\\\\ub9cc\\\\uc758 \\\\ub178\\\\ud558\\\\uc6b0\\\\ub85c \\\\ud280\\\\uaca8\\\\ub0b8 \\\\ub0a8\\\\ub2e4\\\\ub978 \\\\ub9db\\\\uacfc \\\\ubc14\\\\uc0ad\\\\ud568 \\\\ub9e5\\\\ub3c4\\\\ub0a0\\\\ub4dc\\\\uc758 \\\\uc5ed\\\\uc0ac\\\\uac00 \\\\ub2f4\\\\uae34 \\\\uc6d4\\\\ub4dc \\\\ud074\\\\ub798\\\\uc2a4 \\\\ud6c4\\\\ub80c\\\\uce58 \\\\ud6c4\\\\ub77c\\\\uc774 \",\\n  \"ingredients\": \"\",\\n  \"grams\": \"\",\\n  \"kcals\": \"\",\\n  \"burgerprice \": 4000,\\n  \"setmenu\": \"\",\\n  \"setprice \": \"\"\\n}')]"
      ]
     },
     "execution_count": 74,
     "metadata": {},
     "output_type": "execute_result"
    }
   ],
   "source": [
    "docs"
   ]
  },
  {
   "cell_type": "code",
   "execution_count": 75,
   "metadata": {},
   "outputs": [],
   "source": [
    "# 벡터 저장소 생성\n",
    "vectorstore = Chroma.from_documents(\n",
    "    docs, OpenAIEmbeddings(model=\"text-embedding-3-large\")\n",
    ")"
   ]
  },
  {
   "cell_type": "code",
   "execution_count": 76,
   "metadata": {},
   "outputs": [],
   "source": [
    "from langchain.retrievers import SelfQueryRetriever\n",
    "\n",
    "retriever = SelfQueryRetriever(\n",
    "    query_constructor=chain, vectorstore=vectorstore, verbose=True\n",
    ")\n"
   ]
  },
  {
   "cell_type": "code",
   "execution_count": 77,
   "metadata": {},
   "outputs": [
    {
     "ename": "ValueError",
     "evalue": "Received disallowed comparator nin. Allowed comparators are [<Comparator.EQ: 'eq'>, <Comparator.NE: 'ne'>, <Comparator.GT: 'gt'>, <Comparator.GTE: 'gte'>, <Comparator.LT: 'lt'>, <Comparator.LTE: 'lte'>]",
     "output_type": "error",
     "traceback": [
      "\u001b[0;31m---------------------------------------------------------------------------\u001b[0m",
      "\u001b[0;31mValueError\u001b[0m                                Traceback (most recent call last)",
      "Cell \u001b[0;32mIn[77], line 1\u001b[0m\n\u001b[0;32m----> 1\u001b[0m results \u001b[38;5;241m=\u001b[39m \u001b[43mretriever\u001b[49m\u001b[38;5;241;43m.\u001b[39;49m\u001b[43minvoke\u001b[49m\u001b[43m(\u001b[49m\n\u001b[1;32m      2\u001b[0m \u001b[43m    \u001b[49m\u001b[38;5;124;43m\"\u001b[39;49m\u001b[38;5;124;43m굴이 들어가지 않는 버거는 뭐가 있어?\u001b[39;49m\u001b[38;5;124;43m\"\u001b[39;49m\n\u001b[1;32m      3\u001b[0m \u001b[43m)\u001b[49m\n\u001b[1;32m      4\u001b[0m \u001b[38;5;28;01mfor\u001b[39;00m res \u001b[38;5;129;01min\u001b[39;00m results:\n\u001b[1;32m      5\u001b[0m     \u001b[38;5;66;03m# ensure_ascii=False로 한글을 정상 출력\u001b[39;00m\n\u001b[1;32m      6\u001b[0m     \u001b[38;5;28mprint\u001b[39m(json\u001b[38;5;241m.\u001b[39mdumps(json\u001b[38;5;241m.\u001b[39mloads(res\u001b[38;5;241m.\u001b[39mpage_content), indent\u001b[38;5;241m=\u001b[39m\u001b[38;5;241m2\u001b[39m, ensure_ascii\u001b[38;5;241m=\u001b[39m\u001b[38;5;28;01mFalse\u001b[39;00m))\n",
      "File \u001b[0;32m~/anaconda3/envs/RAG/lib/python3.10/site-packages/langchain_core/retrievers.py:254\u001b[0m, in \u001b[0;36mBaseRetriever.invoke\u001b[0;34m(self, input, config, **kwargs)\u001b[0m\n\u001b[1;32m    252\u001b[0m \u001b[38;5;28;01mexcept\u001b[39;00m \u001b[38;5;167;01mException\u001b[39;00m \u001b[38;5;28;01mas\u001b[39;00m e:\n\u001b[1;32m    253\u001b[0m     run_manager\u001b[38;5;241m.\u001b[39mon_retriever_error(e)\n\u001b[0;32m--> 254\u001b[0m     \u001b[38;5;28;01mraise\u001b[39;00m e\n\u001b[1;32m    255\u001b[0m \u001b[38;5;28;01melse\u001b[39;00m:\n\u001b[1;32m    256\u001b[0m     run_manager\u001b[38;5;241m.\u001b[39mon_retriever_end(\n\u001b[1;32m    257\u001b[0m         result,\n\u001b[1;32m    258\u001b[0m     )\n",
      "File \u001b[0;32m~/anaconda3/envs/RAG/lib/python3.10/site-packages/langchain_core/retrievers.py:247\u001b[0m, in \u001b[0;36mBaseRetriever.invoke\u001b[0;34m(self, input, config, **kwargs)\u001b[0m\n\u001b[1;32m    245\u001b[0m _kwargs \u001b[38;5;241m=\u001b[39m kwargs \u001b[38;5;28;01mif\u001b[39;00m \u001b[38;5;28mself\u001b[39m\u001b[38;5;241m.\u001b[39m_expects_other_args \u001b[38;5;28;01melse\u001b[39;00m {}\n\u001b[1;32m    246\u001b[0m \u001b[38;5;28;01mif\u001b[39;00m \u001b[38;5;28mself\u001b[39m\u001b[38;5;241m.\u001b[39m_new_arg_supported:\n\u001b[0;32m--> 247\u001b[0m     result \u001b[38;5;241m=\u001b[39m \u001b[38;5;28;43mself\u001b[39;49m\u001b[38;5;241;43m.\u001b[39;49m\u001b[43m_get_relevant_documents\u001b[49m\u001b[43m(\u001b[49m\n\u001b[1;32m    248\u001b[0m \u001b[43m        \u001b[49m\u001b[38;5;28;43minput\u001b[39;49m\u001b[43m,\u001b[49m\u001b[43m \u001b[49m\u001b[43mrun_manager\u001b[49m\u001b[38;5;241;43m=\u001b[39;49m\u001b[43mrun_manager\u001b[49m\u001b[43m,\u001b[49m\u001b[43m \u001b[49m\u001b[38;5;241;43m*\u001b[39;49m\u001b[38;5;241;43m*\u001b[39;49m\u001b[43m_kwargs\u001b[49m\n\u001b[1;32m    249\u001b[0m \u001b[43m    \u001b[49m\u001b[43m)\u001b[49m\n\u001b[1;32m    250\u001b[0m \u001b[38;5;28;01melse\u001b[39;00m:\n\u001b[1;32m    251\u001b[0m     result \u001b[38;5;241m=\u001b[39m \u001b[38;5;28mself\u001b[39m\u001b[38;5;241m.\u001b[39m_get_relevant_documents(\u001b[38;5;28minput\u001b[39m, \u001b[38;5;241m*\u001b[39m\u001b[38;5;241m*\u001b[39m_kwargs)\n",
      "File \u001b[0;32m~/anaconda3/envs/RAG/lib/python3.10/site-packages/langchain/retrievers/self_query/base.py:287\u001b[0m, in \u001b[0;36mSelfQueryRetriever._get_relevant_documents\u001b[0;34m(self, query, run_manager)\u001b[0m\n\u001b[1;32m    285\u001b[0m \u001b[38;5;28;01mif\u001b[39;00m \u001b[38;5;28mself\u001b[39m\u001b[38;5;241m.\u001b[39mverbose:\n\u001b[1;32m    286\u001b[0m     logger\u001b[38;5;241m.\u001b[39minfo(\u001b[38;5;124mf\u001b[39m\u001b[38;5;124m\"\u001b[39m\u001b[38;5;124mGenerated Query: \u001b[39m\u001b[38;5;132;01m{\u001b[39;00mstructured_query\u001b[38;5;132;01m}\u001b[39;00m\u001b[38;5;124m\"\u001b[39m)\n\u001b[0;32m--> 287\u001b[0m new_query, search_kwargs \u001b[38;5;241m=\u001b[39m \u001b[38;5;28;43mself\u001b[39;49m\u001b[38;5;241;43m.\u001b[39;49m\u001b[43m_prepare_query\u001b[49m\u001b[43m(\u001b[49m\u001b[43mquery\u001b[49m\u001b[43m,\u001b[49m\u001b[43m \u001b[49m\u001b[43mstructured_query\u001b[49m\u001b[43m)\u001b[49m\n\u001b[1;32m    288\u001b[0m docs \u001b[38;5;241m=\u001b[39m \u001b[38;5;28mself\u001b[39m\u001b[38;5;241m.\u001b[39m_get_docs_with_query(new_query, search_kwargs)\n\u001b[1;32m    289\u001b[0m \u001b[38;5;28;01mreturn\u001b[39;00m docs\n",
      "File \u001b[0;32m~/anaconda3/envs/RAG/lib/python3.10/site-packages/langchain/retrievers/self_query/base.py:249\u001b[0m, in \u001b[0;36mSelfQueryRetriever._prepare_query\u001b[0;34m(self, query, structured_query)\u001b[0m\n\u001b[1;32m    246\u001b[0m \u001b[38;5;28;01mdef\u001b[39;00m \u001b[38;5;21m_prepare_query\u001b[39m(\n\u001b[1;32m    247\u001b[0m     \u001b[38;5;28mself\u001b[39m, query: \u001b[38;5;28mstr\u001b[39m, structured_query: StructuredQuery\n\u001b[1;32m    248\u001b[0m ) \u001b[38;5;241m-\u001b[39m\u001b[38;5;241m>\u001b[39m Tuple[\u001b[38;5;28mstr\u001b[39m, Dict[\u001b[38;5;28mstr\u001b[39m, Any]]:\n\u001b[0;32m--> 249\u001b[0m     new_query, new_kwargs \u001b[38;5;241m=\u001b[39m \u001b[38;5;28;43mself\u001b[39;49m\u001b[38;5;241;43m.\u001b[39;49m\u001b[43mstructured_query_translator\u001b[49m\u001b[38;5;241;43m.\u001b[39;49m\u001b[43mvisit_structured_query\u001b[49m\u001b[43m(\u001b[49m\n\u001b[1;32m    250\u001b[0m \u001b[43m        \u001b[49m\u001b[43mstructured_query\u001b[49m\n\u001b[1;32m    251\u001b[0m \u001b[43m    \u001b[49m\u001b[43m)\u001b[49m\n\u001b[1;32m    252\u001b[0m     \u001b[38;5;28;01mif\u001b[39;00m structured_query\u001b[38;5;241m.\u001b[39mlimit \u001b[38;5;129;01mis\u001b[39;00m \u001b[38;5;129;01mnot\u001b[39;00m \u001b[38;5;28;01mNone\u001b[39;00m:\n\u001b[1;32m    253\u001b[0m         new_kwargs[\u001b[38;5;124m\"\u001b[39m\u001b[38;5;124mk\u001b[39m\u001b[38;5;124m\"\u001b[39m] \u001b[38;5;241m=\u001b[39m structured_query\u001b[38;5;241m.\u001b[39mlimit\n",
      "File \u001b[0;32m~/anaconda3/envs/RAG/lib/python3.10/site-packages/langchain_community/query_constructors/chroma.py:49\u001b[0m, in \u001b[0;36mChromaTranslator.visit_structured_query\u001b[0;34m(self, structured_query)\u001b[0m\n\u001b[1;32m     47\u001b[0m     kwargs \u001b[38;5;241m=\u001b[39m {}\n\u001b[1;32m     48\u001b[0m \u001b[38;5;28;01melse\u001b[39;00m:\n\u001b[0;32m---> 49\u001b[0m     kwargs \u001b[38;5;241m=\u001b[39m {\u001b[38;5;124m\"\u001b[39m\u001b[38;5;124mfilter\u001b[39m\u001b[38;5;124m\"\u001b[39m: \u001b[43mstructured_query\u001b[49m\u001b[38;5;241;43m.\u001b[39;49m\u001b[43mfilter\u001b[49m\u001b[38;5;241;43m.\u001b[39;49m\u001b[43maccept\u001b[49m\u001b[43m(\u001b[49m\u001b[38;5;28;43mself\u001b[39;49m\u001b[43m)\u001b[49m}\n\u001b[1;32m     50\u001b[0m \u001b[38;5;28;01mreturn\u001b[39;00m structured_query\u001b[38;5;241m.\u001b[39mquery, kwargs\n",
      "File \u001b[0;32m~/anaconda3/envs/RAG/lib/python3.10/site-packages/langchain_core/structured_query.py:82\u001b[0m, in \u001b[0;36mExpr.accept\u001b[0;34m(self, visitor)\u001b[0m\n\u001b[1;32m     73\u001b[0m \u001b[38;5;28;01mdef\u001b[39;00m \u001b[38;5;21maccept\u001b[39m(\u001b[38;5;28mself\u001b[39m, visitor: Visitor) \u001b[38;5;241m-\u001b[39m\u001b[38;5;241m>\u001b[39m Any:\n\u001b[1;32m     74\u001b[0m \u001b[38;5;250m    \u001b[39m\u001b[38;5;124;03m\"\"\"Accept a visitor.\u001b[39;00m\n\u001b[1;32m     75\u001b[0m \n\u001b[1;32m     76\u001b[0m \u001b[38;5;124;03m    Args:\u001b[39;00m\n\u001b[0;32m   (...)\u001b[0m\n\u001b[1;32m     80\u001b[0m \u001b[38;5;124;03m        result of visiting.\u001b[39;00m\n\u001b[1;32m     81\u001b[0m \u001b[38;5;124;03m    \"\"\"\u001b[39;00m\n\u001b[0;32m---> 82\u001b[0m     \u001b[38;5;28;01mreturn\u001b[39;00m \u001b[38;5;28;43mgetattr\u001b[39;49m\u001b[43m(\u001b[49m\u001b[43mvisitor\u001b[49m\u001b[43m,\u001b[49m\u001b[43m \u001b[49m\u001b[38;5;124;43mf\u001b[39;49m\u001b[38;5;124;43m\"\u001b[39;49m\u001b[38;5;124;43mvisit_\u001b[39;49m\u001b[38;5;132;43;01m{\u001b[39;49;00m\u001b[43m_to_snake_case\u001b[49m\u001b[43m(\u001b[49m\u001b[38;5;28;43mself\u001b[39;49m\u001b[38;5;241;43m.\u001b[39;49m\u001b[38;5;18;43m__class__\u001b[39;49m\u001b[38;5;241;43m.\u001b[39;49m\u001b[38;5;18;43m__name__\u001b[39;49m\u001b[43m)\u001b[49m\u001b[38;5;132;43;01m}\u001b[39;49;00m\u001b[38;5;124;43m\"\u001b[39;49m\u001b[43m)\u001b[49m\u001b[43m(\u001b[49m\n\u001b[1;32m     83\u001b[0m \u001b[43m        \u001b[49m\u001b[38;5;28;43mself\u001b[39;49m\n\u001b[1;32m     84\u001b[0m \u001b[43m    \u001b[49m\u001b[43m)\u001b[49m\n",
      "File \u001b[0;32m~/anaconda3/envs/RAG/lib/python3.10/site-packages/langchain_community/query_constructors/chroma.py:39\u001b[0m, in \u001b[0;36mChromaTranslator.visit_comparison\u001b[0;34m(self, comparison)\u001b[0m\n\u001b[1;32m     36\u001b[0m \u001b[38;5;28;01mdef\u001b[39;00m \u001b[38;5;21mvisit_comparison\u001b[39m(\u001b[38;5;28mself\u001b[39m, comparison: Comparison) \u001b[38;5;241m-\u001b[39m\u001b[38;5;241m>\u001b[39m Dict:\n\u001b[1;32m     37\u001b[0m     \u001b[38;5;28;01mreturn\u001b[39;00m {\n\u001b[1;32m     38\u001b[0m         comparison\u001b[38;5;241m.\u001b[39mattribute: {\n\u001b[0;32m---> 39\u001b[0m             \u001b[38;5;28;43mself\u001b[39;49m\u001b[38;5;241;43m.\u001b[39;49m\u001b[43m_format_func\u001b[49m\u001b[43m(\u001b[49m\u001b[43mcomparison\u001b[49m\u001b[38;5;241;43m.\u001b[39;49m\u001b[43mcomparator\u001b[49m\u001b[43m)\u001b[49m: comparison\u001b[38;5;241m.\u001b[39mvalue\n\u001b[1;32m     40\u001b[0m         }\n\u001b[1;32m     41\u001b[0m     }\n",
      "File \u001b[0;32m~/anaconda3/envs/RAG/lib/python3.10/site-packages/langchain_community/query_constructors/chroma.py:29\u001b[0m, in \u001b[0;36mChromaTranslator._format_func\u001b[0;34m(self, func)\u001b[0m\n\u001b[1;32m     28\u001b[0m \u001b[38;5;28;01mdef\u001b[39;00m \u001b[38;5;21m_format_func\u001b[39m(\u001b[38;5;28mself\u001b[39m, func: Union[Operator, Comparator]) \u001b[38;5;241m-\u001b[39m\u001b[38;5;241m>\u001b[39m \u001b[38;5;28mstr\u001b[39m:\n\u001b[0;32m---> 29\u001b[0m     \u001b[38;5;28;43mself\u001b[39;49m\u001b[38;5;241;43m.\u001b[39;49m\u001b[43m_validate_func\u001b[49m\u001b[43m(\u001b[49m\u001b[43mfunc\u001b[49m\u001b[43m)\u001b[49m\n\u001b[1;32m     30\u001b[0m     \u001b[38;5;28;01mreturn\u001b[39;00m \u001b[38;5;124mf\u001b[39m\u001b[38;5;124m\"\u001b[39m\u001b[38;5;124m$\u001b[39m\u001b[38;5;132;01m{\u001b[39;00mfunc\u001b[38;5;241m.\u001b[39mvalue\u001b[38;5;132;01m}\u001b[39;00m\u001b[38;5;124m\"\u001b[39m\n",
      "File \u001b[0;32m~/anaconda3/envs/RAG/lib/python3.10/site-packages/langchain_core/structured_query.py:29\u001b[0m, in \u001b[0;36mVisitor._validate_func\u001b[0;34m(self, func)\u001b[0m\n\u001b[1;32m     27\u001b[0m \u001b[38;5;28;01mif\u001b[39;00m \u001b[38;5;28misinstance\u001b[39m(func, Comparator) \u001b[38;5;129;01mand\u001b[39;00m \u001b[38;5;28mself\u001b[39m\u001b[38;5;241m.\u001b[39mallowed_comparators \u001b[38;5;129;01mis\u001b[39;00m \u001b[38;5;129;01mnot\u001b[39;00m \u001b[38;5;28;01mNone\u001b[39;00m:\n\u001b[1;32m     28\u001b[0m     \u001b[38;5;28;01mif\u001b[39;00m func \u001b[38;5;129;01mnot\u001b[39;00m \u001b[38;5;129;01min\u001b[39;00m \u001b[38;5;28mself\u001b[39m\u001b[38;5;241m.\u001b[39mallowed_comparators:\n\u001b[0;32m---> 29\u001b[0m         \u001b[38;5;28;01mraise\u001b[39;00m \u001b[38;5;167;01mValueError\u001b[39;00m(\n\u001b[1;32m     30\u001b[0m             \u001b[38;5;124mf\u001b[39m\u001b[38;5;124m\"\u001b[39m\u001b[38;5;124mReceived disallowed comparator \u001b[39m\u001b[38;5;132;01m{\u001b[39;00mfunc\u001b[38;5;132;01m}\u001b[39;00m\u001b[38;5;124m. Allowed \u001b[39m\u001b[38;5;124m\"\u001b[39m\n\u001b[1;32m     31\u001b[0m             \u001b[38;5;124mf\u001b[39m\u001b[38;5;124m\"\u001b[39m\u001b[38;5;124mcomparators are \u001b[39m\u001b[38;5;132;01m{\u001b[39;00m\u001b[38;5;28mself\u001b[39m\u001b[38;5;241m.\u001b[39mallowed_comparators\u001b[38;5;132;01m}\u001b[39;00m\u001b[38;5;124m\"\u001b[39m\n\u001b[1;32m     32\u001b[0m         )\n",
      "\u001b[0;31mValueError\u001b[0m: Received disallowed comparator nin. Allowed comparators are [<Comparator.EQ: 'eq'>, <Comparator.NE: 'ne'>, <Comparator.GT: 'gt'>, <Comparator.GTE: 'gte'>, <Comparator.LT: 'lt'>, <Comparator.LTE: 'lte'>]"
     ]
    }
   ],
   "source": [
    "results = retriever.invoke(\n",
    "    \"굴이 들어가지 않는 버거는 뭐가 있어?\"\n",
    ")\n",
    "for res in results:\n",
    "    # ensure_ascii=False로 한글을 정상 출력\n",
    "    print(json.dumps(json.loads(res.page_content), indent=2, ensure_ascii=False))\n",
    "    print(\"\\n\" + \"-\" * 20 + \"\\n\")\n"
   ]
  },
  {
   "cell_type": "code",
   "execution_count": 78,
   "metadata": {},
   "outputs": [
    {
     "name": "stdout",
     "output_type": "stream",
     "text": [
      "{\n",
      "  \"menuname\": \"슈슈 버거\",\n",
      "  \"category\": \"버거 \",\n",
      "  \"newmenu\": false,\n",
      "  \"description\": \"탱글한 통새우살 가득 슈슈 버거\",\n",
      "  \"ingredients\": \"난류,우유,대두,밀,토마토,새우,쇠고기,굴\",\n",
      "  \"grams\": 224.0,\n",
      "  \"kcals\": 409.0,\n",
      "  \"burgerprice \": 5500,\n",
      "  \"setmenu\": true,\n",
      "  \"setprice \": 7300.0\n",
      "}\n",
      "\n",
      "--------------------\n",
      "\n",
      "{\n",
      "  \"menuname\": \"에그 불고기 버거\",\n",
      "  \"category\": \"버거 \",\n",
      "  \"newmenu\": false,\n",
      "  \"description\": \"불고기 버거에 국내산 등급 계란을 더해 맛의 정점을 찍다 \",\n",
      "  \"ingredients\": \"난류,대두,밀,돼지고기,조개,굴\",\n",
      "  \"grams\": 222.0,\n",
      "  \"kcals\": 491.0,\n",
      "  \"burgerprice \": 5100,\n",
      "  \"setmenu\": true,\n",
      "  \"setprice \": 7300.0\n",
      "}\n",
      "\n",
      "--------------------\n",
      "\n",
      "{\n",
      "  \"menuname\": \"치즈버거\",\n",
      "  \"category\": \"버거 \",\n",
      "  \"newmenu\": false,\n",
      "  \"description\": \"고소하고 부드러운 치즈와  순 쇠고기 패티 맥도날드만의 심플한 클래식 치즈버거 \",\n",
      "  \"ingredients\": \"우유,대두,밀,토마토,쇠고기\",\n",
      "  \"grams\": 115.0,\n",
      "  \"kcals\": 318.0,\n",
      "  \"burgerprice \": 3600,\n",
      "  \"setmenu\": true,\n",
      "  \"setprice \": 6300.0\n",
      "}\n",
      "\n",
      "--------------------\n",
      "\n",
      "{\n",
      "  \"menuname\": \"슈비 버거\",\n",
      "  \"category\": \"버거 \",\n",
      "  \"newmenu\": false,\n",
      "  \"description\": \"탱글한 통새우살에 비프 패티를 더해 푸짐하게\",\n",
      "  \"ingredients\": \"난류,우유,대두,밀,토마토,새우,쇠고기,굴\",\n",
      "  \"grams\": 269.0,\n",
      "  \"kcals\": 540.0,\n",
      "  \"burgerprice \": 6600,\n",
      "  \"setmenu\": true,\n",
      "  \"setprice \": 9100.0\n",
      "}\n",
      "\n",
      "--------------------\n",
      "\n"
     ]
    }
   ],
   "source": [
    "results = retriever.invoke(\n",
    "    \"열량이 제일 낮은 버거는 뭐야?\"\n",
    ")\n",
    "for res in results:\n",
    "    # ensure_ascii=False로 한글을 정상 출력\n",
    "    print(json.dumps(json.loads(res.page_content), indent=2, ensure_ascii=False))\n",
    "    print(\"\\n\" + \"-\" * 20 + \"\\n\")\n"
   ]
  },
  {
   "cell_type": "code",
   "execution_count": null,
   "metadata": {},
   "outputs": [],
   "source": []
  }
 ],
 "metadata": {
  "kernelspec": {
   "display_name": "RAG",
   "language": "python",
   "name": "python3"
  },
  "language_info": {
   "codemirror_mode": {
    "name": "ipython",
    "version": 3
   },
   "file_extension": ".py",
   "mimetype": "text/x-python",
   "name": "python",
   "nbconvert_exporter": "python",
   "pygments_lexer": "ipython3",
   "version": "3.10.12"
  }
 },
 "nbformat": 4,
 "nbformat_minor": 2
}
