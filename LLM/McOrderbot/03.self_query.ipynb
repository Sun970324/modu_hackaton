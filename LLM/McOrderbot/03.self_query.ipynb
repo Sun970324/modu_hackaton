{
 "cells": [
  {
   "cell_type": "code",
   "execution_count": 1,
   "metadata": {},
   "outputs": [
    {
     "data": {
      "text/plain": [
       "True"
      ]
     },
     "execution_count": 1,
     "metadata": {},
     "output_type": "execute_result"
    }
   ],
   "source": [
    "# API 키를 환경변수로 관리하기 위한 설정 파일\n",
    "from dotenv import load_dotenv\n",
    "\n",
    "# API 키 정보 로드\n",
    "load_dotenv()"
   ]
  },
  {
   "cell_type": "code",
   "execution_count": 2,
   "metadata": {},
   "outputs": [
    {
     "name": "stdout",
     "output_type": "stream",
     "text": [
      "LangSmith 추적을 시작합니다.\n",
      "[프로젝트명]\n",
      "sekf_query\n"
     ]
    }
   ],
   "source": [
    "# LangSmith 추적을 설정합니다. https://smith.langchain.com\n",
    "# !pip install langchain-teddynote\n",
    "from langchain_teddynote import logging\n",
    "\n",
    "# 프로젝트 이름을 입력합니다.\n",
    "logging.langsmith(\"self_query\")"
   ]
  },
  {
   "cell_type": "code",
   "execution_count": 3,
   "metadata": {},
   "outputs": [],
   "source": [
    "from langchain_community.vectorstores import FAISS\n",
    "from langchain_core.documents import Document\n",
    "from langchain_openai import OpenAIEmbeddings"
   ]
  },
  {
   "cell_type": "code",
   "execution_count": 4,
   "metadata": {},
   "outputs": [],
   "source": [
    "from langchain_community.document_loaders.csv_loader import CSVLoader\n",
    "\n",
    "# CSV 로더 생성\n",
    "loader = CSVLoader(file_path=\"/home/yoojin/ML/aiffel/HackaThon/modu_hackaton/LLM/files_yj/MD_menu_cleaned.csv\")\n",
    "\n",
    "# 데이터 로드\n",
    "docs = loader.load()"
   ]
  },
  {
   "cell_type": "code",
   "execution_count": 5,
   "metadata": {},
   "outputs": [
    {
     "data": {
      "text/plain": [
       "[Document(metadata={'source': '/home/yoojin/ML/aiffel/HackaThon/modu_hackaton/LLM/files_yj/MD_menu_cleaned.csv', 'row': 0}, page_content='menuname: 맥크리스피 스리라차 마요 버거\\ncategory: 버거\\nnewmenu: True\\ndescription: 빠삭한  통닭다리살 케이준 패티에 스리라차 마요 소스를 더해 매콤 고소한 맛\\ningredients: 난류,우유,대두,밀,토마토,닭고기,쇠고기\\ngrams: 289.0\\nkcals: 663.0\\nburgerprice: 8600\\nsetmenu: True\\nsetprice: 10500.0'),\n",
       " Document(metadata={'source': '/home/yoojin/ML/aiffel/HackaThon/modu_hackaton/LLM/files_yj/MD_menu_cleaned.csv', 'row': 1}, page_content='menuname: 베토디 스리라차 마요 버거\\ncategory: 버거\\nnewmenu: True\\ndescription: 베이컨 토마토 디럭스에 스리라차 마요 소스를 더해 색다른 매콤함\\ningredients: 난류,우유,대두,밀,돼지고기,토마토,쇠고기\\ngrams: 251.0\\nkcals: 621.0\\nburgerprice: 7600\\nsetmenu: True\\nsetprice: 9500.0'),\n",
       " Document(metadata={'source': '/home/yoojin/ML/aiffel/HackaThon/modu_hackaton/LLM/files_yj/MD_menu_cleaned.csv', 'row': 2}, page_content='menuname: 맥스파이시 상하이 버거\\ncategory: 버거\\nnewmenu: False\\ndescription: 쌀가루가 더해져 더 바삭해진  닭가슴살 패티에 아삭아삭한 양상추와 신선한 토마토까지 더 바삭하고 맛있어진 NEW 맥스파이시 상하이 버거로 입맛도 기분도 화끈하게\\ningredients: 난류,대두,밀,토마토,닭고기\\ngrams: 246.0\\nkcals: 501.0\\nburgerprice: 6300\\nsetmenu: True\\nsetprice: 8400.0'),\n",
       " Document(metadata={'source': '/home/yoojin/ML/aiffel/HackaThon/modu_hackaton/LLM/files_yj/MD_menu_cleaned.csv', 'row': 3}, page_content='menuname: 토마토 치즈 비프 버거\\ncategory: 버거\\nnewmenu: True\\ndescription: 신선한 토마토와 고소한 치즈버거의 조화\\ningredients: 난류,우유,대두,밀,토마토,쇠고기\\ngrams: 200.0\\nkcals: 403.0\\nburgerprice: 4600\\nsetmenu: True\\nsetprice: 6900.0'),\n",
       " Document(metadata={'source': '/home/yoojin/ML/aiffel/HackaThon/modu_hackaton/LLM/files_yj/MD_menu_cleaned.csv', 'row': 4}, page_content='menuname: 더블 쿼터파운더 치즈 버거\\ncategory: 버거\\nnewmenu: False\\ndescription: 좋아하는건 더 많이 즐기시라고 두 배 이상 커진  파운드 비프 패티가 두 장 그램육즙이 풍부한 고기 맛을 그대로 살린  순 쇠고기 패티 두 장과 치즈 두 장이 입안 가득 완벽하게 조화되는 놀라운 맛\\ningredients: 우유,대두,밀,토마토,쇠고기\\ngrams: 275.0\\nkcals: 770.0\\nburgerprice: 8200\\nsetmenu: True\\nsetprice: 10400.0'),\n",
       " Document(metadata={'source': '/home/yoojin/ML/aiffel/HackaThon/modu_hackaton/LLM/files_yj/MD_menu_cleaned.csv', 'row': 5}, page_content='menuname: 쿼터파운더 치즈 버거\\ncategory: 버거\\nnewmenu: False\\ndescription: 쿼터파운더라는 이름에서 알 수 있듯이 두 배 이상 커진 파운드그램 비프와 부드러운 치즈 두 장의 환상궁합두툼한 순 쇠고기 패티와 신선한 치즈의 풍부한 맛으로 세계적으로 사랑받고 있는 맥도날드의 대표적인 프리미엄 버거\\ningredients: 우유,대두,밀,토마토,쇠고기\\ngrams: 198.0\\nkcals: 536.0\\nburgerprice: 6300\\nsetmenu: True\\nsetprice: 8900.0'),\n",
       " Document(metadata={'source': '/home/yoojin/ML/aiffel/HackaThon/modu_hackaton/LLM/files_yj/MD_menu_cleaned.csv', 'row': 6}, page_content='menuname: 빅맥 버거\\ncategory: 버거\\nnewmenu: False\\ndescription: 순 쇠고기 패티 두 장에 빅맥만의 특별한 소스 입안에서 살살 녹는 치즈와 신선한 양상추 양파 그리고  피클까지 년 넘게 전 세계인의 입맛을 사로 잡은 버거의 대명사\\ningredients: 난류,우유,대두,밀,쇠고기\\ngrams: 223.0\\nkcals: 582.0\\nburgerprice: 6300\\nsetmenu: True\\nsetprice: 8500.0'),\n",
       " Document(metadata={'source': '/home/yoojin/ML/aiffel/HackaThon/modu_hackaton/LLM/files_yj/MD_menu_cleaned.csv', 'row': 7}, page_content='menuname: 맥크리스피 디럭스 버거\\ncategory: 버거\\nnewmenu: True\\ndescription: 통닭다리살 겉바속촉 케이준 치킨 패티 촉촉한 포테이토 브리오쉬 번 스페셜 스모키 소스가 선사하는 놀랍도록 새로운 맛의 치킨 버거\\ningredients: 난류,우유,대두,밀,토마토,닭고기,쇠고기\\ngrams: 276.0\\nkcals: 614.0\\nburgerprice: 7600\\nsetmenu: True\\nsetprice: 9200.0'),\n",
       " Document(metadata={'source': '/home/yoojin/ML/aiffel/HackaThon/modu_hackaton/LLM/files_yj/MD_menu_cleaned.csv', 'row': 8}, page_content='menuname: 맥크리스피 클래식 버거\\ncategory: 버거\\nnewmenu: True\\ndescription: 통닭다리살 겉바속촉 케이준 치킨 패티 치킨 버거 본연의 맛에 충실한 클래식 버거\\ningredients: 난류,우유,대두,밀,토마토,닭고기,쇠고기\\ngrams: 210.0\\nkcals: 603.0\\nburgerprice: 6700\\nsetmenu: True\\nsetprice: 8700.0'),\n",
       " Document(metadata={'source': '/home/yoojin/ML/aiffel/HackaThon/modu_hackaton/LLM/files_yj/MD_menu_cleaned.csv', 'row': 9}, page_content='menuname: 1955 버거\\ncategory: 버거\\nnewmenu: False\\ndescription: g 두툼한 순 쇠고기 패티 특별한  소스에 깊은 풍미의 그릴드 어니언까지 맥도날드가 처음 생긴 년의 맛을 담은 영원한 오리지널  버거\\ningredients: 난류,우유,대두,밀,돼지고기,토마토,쇠고기\\ngrams: 264.0\\nkcals: 572.0\\nburgerprice: 7200\\nsetmenu: True\\nsetprice: 9100.0'),\n",
       " Document(metadata={'source': '/home/yoojin/ML/aiffel/HackaThon/modu_hackaton/LLM/files_yj/MD_menu_cleaned.csv', 'row': 10}, page_content='menuname: 맥치킨 모짜렐라 버거\\ncategory: 버거\\nnewmenu: False\\ndescription: 든든한 맥치킨에 골든 모짜렐라 치즈 스틱 개와 매콤한 아라비아따 소스를 더해 강렬하게 재탄생한 맥치킨 모짜렐라\\ningredients: 난류,우유,대두,밀,토마토,닭고기\\ngrams: 293.0\\nkcals: 743.0\\nburgerprice: 5800\\nsetmenu: True\\nsetprice: 8600.0'),\n",
       " Document(metadata={'source': '/home/yoojin/ML/aiffel/HackaThon/modu_hackaton/LLM/files_yj/MD_menu_cleaned.csv', 'row': 11}, page_content='menuname: 맥치킨 버거\\ncategory: 버거\\nnewmenu: False\\ndescription: 바삭한 치킨 패티 고소한 화이트 마요 소스와 아삭한 양상추가 함께 더 업그레이드된 맛으로 돌아온 맥치킨\\ningredients: 난류,대두,밀,닭고기\\ngrams: 206.0\\nkcals: 523.0\\nburgerprice: 4300\\nsetmenu: True\\nsetprice: 6700.0'),\n",
       " Document(metadata={'source': '/home/yoojin/ML/aiffel/HackaThon/modu_hackaton/LLM/files_yj/MD_menu_cleaned.csv', 'row': 12}, page_content='menuname: 더블 불고기 버거\\ncategory: 버거\\nnewmenu: False\\ndescription: 진한 불고기 소스의 패티가 두 장 여기에 고소한 치즈와 마요네즈 신선한 양상추를 곁들인 깊고 풍부한 맛\\ningredients: 난류,우유,대두,밀,돼지고기,조개,굴\\ngrams: 237.0\\nkcals: 635.0\\nburgerprice: 5300\\nsetmenu: True\\nsetprice: 7500.0'),\n",
       " Document(metadata={'source': '/home/yoojin/ML/aiffel/HackaThon/modu_hackaton/LLM/files_yj/MD_menu_cleaned.csv', 'row': 13}, page_content='menuname: 에그 불고기 버거\\ncategory: 버거\\nnewmenu: False\\ndescription: 불고기 버거에 국내산 등급 계란을 더해 맛의 정점을 찍다\\ningredients: 난류,대두,밀,돼지고기,조개,굴\\ngrams: 222.0\\nkcals: 491.0\\nburgerprice: 5100\\nsetmenu: True\\nsetprice: 7300.0'),\n",
       " Document(metadata={'source': '/home/yoojin/ML/aiffel/HackaThon/modu_hackaton/LLM/files_yj/MD_menu_cleaned.csv', 'row': 14}, page_content='menuname: 불고기 버거\\ncategory: 버거\\nnewmenu: False\\ndescription: 한국인의 입맛에 딱 맞는 불고기 소스에 잘 재운 패티와 고소한 마요네즈 신선한 양상추의 맛있는 조합\\ningredients: 난류,대두,밀,돼지고기,조개,굴\\ngrams: 167.0\\nkcals: 409.0\\nburgerprice: 4200\\nsetmenu: True\\nsetprice: 6600.0'),\n",
       " Document(metadata={'source': '/home/yoojin/ML/aiffel/HackaThon/modu_hackaton/LLM/files_yj/MD_menu_cleaned.csv', 'row': 15}, page_content='menuname: 슈슈 버거\\ncategory: 버거\\nnewmenu: False\\ndescription: 탱글한 통새우살 가득 슈슈 버거\\ningredients: 난류,우유,대두,밀,토마토,새우,쇠고기,굴\\ngrams: 224.0\\nkcals: 409.0\\nburgerprice: 5500\\nsetmenu: True\\nsetprice: 7300.0'),\n",
       " Document(metadata={'source': '/home/yoojin/ML/aiffel/HackaThon/modu_hackaton/LLM/files_yj/MD_menu_cleaned.csv', 'row': 16}, page_content='menuname: 슈비 버거\\ncategory: 버거\\nnewmenu: False\\ndescription: 탱글한 통새우살에 비프 패티를 더해 푸짐하게\\ningredients: 난류,우유,대두,밀,토마토,새우,쇠고기,굴\\ngrams: 269.0\\nkcals: 540.0\\nburgerprice: 6600\\nsetmenu: True\\nsetprice: 9100.0'),\n",
       " Document(metadata={'source': '/home/yoojin/ML/aiffel/HackaThon/modu_hackaton/LLM/files_yj/MD_menu_cleaned.csv', 'row': 17}, page_content='menuname: 베이컨 토마토 디럭스 버거\\ncategory: 버거\\nnewmenu: False\\ndescription: 두 장의  순 쇠고기 패티에 그릴에 구워 더욱 고소한 장의 베이컨을 얹고 신선한 토마토와 양상추 매콤달콤한 스위트 칠리 소스 치즈 마요네즈를 더해 더욱 풍부하고 신선한 맛의 프리미엄 버거\\ningredients: 난류,우유,대두,밀,돼지고기,토마토,쇠고기\\ngrams: 247.0\\nkcals: 570.0\\nburgerprice: 6600\\nsetmenu: True\\nsetprice: 9000.0'),\n",
       " Document(metadata={'source': '/home/yoojin/ML/aiffel/HackaThon/modu_hackaton/LLM/files_yj/MD_menu_cleaned.csv', 'row': 18}, page_content='menuname: 치즈버거\\ncategory: 버거\\nnewmenu: False\\ndescription: 고소하고 부드러운 치즈와  순 쇠고기 패티 맥도날드만의 심플한 클래식 치즈버거\\ningredients: 우유,대두,밀,토마토,쇠고기\\ngrams: 115.0\\nkcals: 318.0\\nburgerprice: 3600\\nsetmenu: True\\nsetprice: 6300.0'),\n",
       " Document(metadata={'source': '/home/yoojin/ML/aiffel/HackaThon/modu_hackaton/LLM/files_yj/MD_menu_cleaned.csv', 'row': 19}, page_content='menuname: 더블 치즈버거\\ncategory: 버거\\nnewmenu: False\\ndescription: 고소하고 부드러운 치즈와  순 쇠고기 패티가 두개 맥도날드만의 더블 치즈버거\\ningredients: 우유,대두,밀,토마토,쇠고기\\ngrams: 167.0\\nkcals: 479.0\\nburgerprice: 5600\\nsetmenu: True\\nsetprice: 7300.0'),\n",
       " Document(metadata={'source': '/home/yoojin/ML/aiffel/HackaThon/modu_hackaton/LLM/files_yj/MD_menu_cleaned.csv', 'row': 20}, page_content='menuname: 트리플 치즈버거\\ncategory: 버거\\nnewmenu: False\\ndescription: 부드러운 치즈와 풍부한 육즙의 패티를 세배 더 진하게 즐길 수 있는 트리플 치즈버거\\ningredients: 우유,대두,밀,토마토,쇠고기\\ngrams: 219.0\\nkcals: 620.0\\nburgerprice: 6700\\nsetmenu: True\\nsetprice: 8500.0'),\n",
       " Document(metadata={'source': '/home/yoojin/ML/aiffel/HackaThon/modu_hackaton/LLM/files_yj/MD_menu_cleaned.csv', 'row': 21}, page_content='menuname: 햄버거\\ncategory: 버거\\nnewmenu: False\\ndescription: 순 쇠고기 패티에 상큼한 피클과 양파 기본에 충실한 맥도날드 햄버거\\ningredients: 대두,밀,토마토,쇠고기\\ngrams: 101.0\\nkcals: 266.0\\nburgerprice: 3400\\nsetmenu: False\\nsetprice: '),\n",
       " Document(metadata={'source': '/home/yoojin/ML/aiffel/HackaThon/modu_hackaton/LLM/files_yj/MD_menu_cleaned.csv', 'row': 22}, page_content='menuname: 탄산 미디움\\ncategory: 음료\\nnewmenu: False\\ndescription: 갈증해소 뿐만이 아니라 기분까지 상쾌하게 코카콜라\\ningredients: \\ngrams: \\nkcals: \\nburgerprice: 2600\\nsetmenu: \\nsetprice: '),\n",
       " Document(metadata={'source': '/home/yoojin/ML/aiffel/HackaThon/modu_hackaton/LLM/files_yj/MD_menu_cleaned.csv', 'row': 23}, page_content='menuname: 탄산 라지\\ncategory: 음료\\nnewmenu: False\\ndescription: 갈증해소 뿐만이 아니라 기분까지 상쾌하게 코카콜라\\ningredients: \\ngrams: \\nkcals: \\nburgerprice: 3100\\nsetmenu: \\nsetprice: '),\n",
       " Document(metadata={'source': '/home/yoojin/ML/aiffel/HackaThon/modu_hackaton/LLM/files_yj/MD_menu_cleaned.csv', 'row': 24}, page_content='menuname: 후렌치후라이 스몰\\ncategory: 사이드\\nnewmenu: False\\ndescription: 통으로 썰어낸 감자를 맥도날드만의 노하우로 튀겨낸 남다른 맛과 바삭함 맥도날드의 역사가 담긴 월드 클래스 후렌치 후라이\\ningredients: \\ngrams: \\nkcals: \\nburgerprice: 2300\\nsetmenu: \\nsetprice: '),\n",
       " Document(metadata={'source': '/home/yoojin/ML/aiffel/HackaThon/modu_hackaton/LLM/files_yj/MD_menu_cleaned.csv', 'row': 25}, page_content='menuname: 후렌치후라이 미디움\\ncategory: 사이드\\nnewmenu: False\\ndescription: 통으로 썰어낸 감자를 맥도날드만의 노하우로 튀겨낸 남다른 맛과 바삭함 맥도날드의 역사가 담긴 월드 클래스 후렌치 후라이\\ningredients: \\ngrams: \\nkcals: \\nburgerprice: 3000\\nsetmenu: \\nsetprice: '),\n",
       " Document(metadata={'source': '/home/yoojin/ML/aiffel/HackaThon/modu_hackaton/LLM/files_yj/MD_menu_cleaned.csv', 'row': 26}, page_content='menuname: 후렌치후라이 라지\\ncategory: 사이드\\nnewmenu: False\\ndescription: 통으로 썰어낸 감자를 맥도날드만의 노하우로 튀겨낸 남다른 맛과 바삭함 맥도날드의 역사가 담긴 월드 클래스 후렌치 후라이\\ningredients: \\ngrams: \\nkcals: \\nburgerprice: 4000\\nsetmenu: \\nsetprice: ')]"
      ]
     },
     "execution_count": 5,
     "metadata": {},
     "output_type": "execute_result"
    }
   ],
   "source": [
    "docs"
   ]
  },
  {
   "cell_type": "code",
   "execution_count": 6,
   "metadata": {},
   "outputs": [],
   "source": [
    "# 벡터 저장소 생성\n",
    "vectorstore = Chroma.from_documents(\n",
    "    docs, OpenAIEmbeddings(model=\"text-embedding-3-large\")\n",
    ")"
   ]
  },
  {
   "cell_type": "code",
   "execution_count": 7,
   "metadata": {},
   "outputs": [],
   "source": [
    "from langchain.chains.query_constructor.base import AttributeInfo\n",
    "\n",
    "\n",
    "# 메타데이터 필드 정보 생성\n",
    "metadata_field_info = [\n",
    "    {\n",
    "        'name': 'menuname',\n",
    "        'description': \"Name of the menu item. Valid values are ['1955 버거', '더블 불고기 버거', '더블 치즈버거', '더블 쿼터파운더 치즈 버거', '맥스파이시 상하이 버거', '맥치킨 모짜렐라 버거', '맥치킨 버거', '맥크리스피 디럭스 버거', '맥크리스피 스리라차 마요 버거', '맥크리스피 클래식 버거', '베이컨 토마토 디럭스 버거', '베토디 스리라차 마요 버거', '불고기 버거', '빅맥 버거', '슈비 버거', '슈슈 버거', '에그 불고기 버거', '치즈버거', '쿼터파운더 치즈 버거', '탄산 라지', '탄산 미디움', '토마토 치즈 비프 버거', '트리플 치즈버거', '햄버거', '후렌치후라이 라지', '후렌치후라이 미디움', '후렌치후라이 스몰']\",\n",
    "        'type': 'string'\n",
    "    },\n",
    "    {\n",
    "        'name': 'category',\n",
    "        'description': \"Category of the menu item. Valid values are ['버거 ', '사이드', '음료 ']\",\n",
    "        'type': 'string'\n",
    "    },\n",
    "    {\n",
    "        'name': 'newmenu',\n",
    "    'description': 'Indicates if the menu item is new',\n",
    "    'type': 'boolean'\n",
    "    },\n",
    "    {\n",
    "        'name': 'description',\n",
    "        'description': 'Description of the menu item',\n",
    "        'type': 'string'\n",
    "    },\n",
    "    {\n",
    "        'name': 'ingredients',\n",
    "        'description': \"List of ingredients in the menu item. Valid values are ['굴', '난류', '닭고기', '대두', '돼지고기', '밀', '새우', '쇠고기', '우유', '조개', '토마토']\",\n",
    "        'type': 'string'\n",
    "    },\n",
    "    {\n",
    "        'name': 'grams',\n",
    "        'description': 'Weight of the menu item in grams',\n",
    "        'type': 'float'\n",
    "    }\n",
    "    ,\n",
    "    {\n",
    "        'name': 'kcals',\n",
    "        'description': 'Calories of the menu item',\n",
    "        'type': 'float'\n",
    "    },\n",
    "    {\n",
    "        'name': 'burgerprice',\n",
    "        'description': 'Price of the burger item',\n",
    "        'type': 'integer'\n",
    "    },\n",
    "    {\n",
    "        'name': 'setmenu',\n",
    "        'description': 'Indicates if the menu item is part of a set menu',\n",
    "        'type': 'boolean'\n",
    "    },\n",
    "    {\n",
    "        'name': 'setprice',\n",
    "        'description': 'Price of the menu item as part of a set menu',\n",
    "        'type': 'float'\n",
    "    }\n",
    "]"
   ]
  },
  {
   "cell_type": "code",
   "execution_count": 8,
   "metadata": {},
   "outputs": [],
   "source": [
    "from langchain.retrievers.self_query.base import SelfQueryRetriever\n",
    "from langchain_openai import ChatOpenAI\n",
    "\n",
    "# LLM 정의\n",
    "llm = ChatOpenAI(model=\"gpt-4o-mini\", temperature=0)\n",
    "\n",
    "# SelfQueryRetriever 생성\n",
    "retriever = SelfQueryRetriever.from_llm(\n",
    "    llm=llm,\n",
    "    vectorstore=vectorstore,\n",
    "    document_contents=\"Brief summary of a cosmetic product\",\n",
    "    metadata_field_info=metadata_field_info,\n",
    ")\n"
   ]
  },
  {
   "cell_type": "code",
   "execution_count": 9,
   "metadata": {},
   "outputs": [
    {
     "data": {
      "text/plain": [
       "[Document(metadata={'row': 11, 'source': '/home/yoojin/ML/aiffel/HackaThon/modu_hackaton/LLM/files_yj/MD_menu_cleaned.csv'}, page_content='menuname: 맥치킨 버거\\ncategory: 버거\\nnewmenu: False\\ndescription: 바삭한 치킨 패티 고소한 화이트 마요 소스와 아삭한 양상추가 함께 더 업그레이드된 맛으로 돌아온 맥치킨\\ningredients: 난류,대두,밀,닭고기\\ngrams: 206.0\\nkcals: 523.0\\nburgerprice: 4300\\nsetmenu: True\\nsetprice: 6700.0'),\n",
       " Document(metadata={'row': 13, 'source': '/home/yoojin/ML/aiffel/HackaThon/modu_hackaton/LLM/files_yj/MD_menu_cleaned.csv'}, page_content='menuname: 에그 불고기 버거\\ncategory: 버거\\nnewmenu: False\\ndescription: 불고기 버거에 국내산 등급 계란을 더해 맛의 정점을 찍다\\ningredients: 난류,대두,밀,돼지고기,조개,굴\\ngrams: 222.0\\nkcals: 491.0\\nburgerprice: 5100\\nsetmenu: True\\nsetprice: 7300.0'),\n",
       " Document(metadata={'row': 8, 'source': '/home/yoojin/ML/aiffel/HackaThon/modu_hackaton/LLM/files_yj/MD_menu_cleaned.csv'}, page_content='menuname: 맥크리스피 클래식 버거\\ncategory: 버거\\nnewmenu: True\\ndescription: 통닭다리살 겉바속촉 케이준 치킨 패티 치킨 버거 본연의 맛에 충실한 클래식 버거\\ningredients: 난류,우유,대두,밀,토마토,닭고기,쇠고기\\ngrams: 210.0\\nkcals: 603.0\\nburgerprice: 6700\\nsetmenu: True\\nsetprice: 8700.0'),\n",
       " Document(metadata={'row': 12, 'source': '/home/yoojin/ML/aiffel/HackaThon/modu_hackaton/LLM/files_yj/MD_menu_cleaned.csv'}, page_content='menuname: 더블 불고기 버거\\ncategory: 버거\\nnewmenu: False\\ndescription: 진한 불고기 소스의 패티가 두 장 여기에 고소한 치즈와 마요네즈 신선한 양상추를 곁들인 깊고 풍부한 맛\\ningredients: 난류,우유,대두,밀,돼지고기,조개,굴\\ngrams: 237.0\\nkcals: 635.0\\nburgerprice: 5300\\nsetmenu: True\\nsetprice: 7500.0')]"
      ]
     },
     "execution_count": 9,
     "metadata": {},
     "output_type": "execute_result"
    }
   ],
   "source": [
    "retriever.invoke(\"치킨 버거는 무슨무슨 종류가 있나요?\")"
   ]
  },
  {
   "cell_type": "code",
   "execution_count": 10,
   "metadata": {},
   "outputs": [
    {
     "data": {
      "text/plain": [
       "[Document(metadata={'row': 23, 'source': '/home/yoojin/ML/aiffel/HackaThon/modu_hackaton/LLM/files_yj/MD_menu_cleaned.csv'}, page_content='menuname: 탄산 라지\\ncategory: 음료\\nnewmenu: False\\ndescription: 갈증해소 뿐만이 아니라 기분까지 상쾌하게 코카콜라\\ningredients: \\ngrams: \\nkcals: \\nburgerprice: 3100\\nsetmenu: \\nsetprice: '),\n",
       " Document(metadata={'row': 15, 'source': '/home/yoojin/ML/aiffel/HackaThon/modu_hackaton/LLM/files_yj/MD_menu_cleaned.csv'}, page_content='menuname: 슈슈 버거\\ncategory: 버거\\nnewmenu: False\\ndescription: 탱글한 통새우살 가득 슈슈 버거\\ningredients: 난류,우유,대두,밀,토마토,새우,쇠고기,굴\\ngrams: 224.0\\nkcals: 409.0\\nburgerprice: 5500\\nsetmenu: True\\nsetprice: 7300.0'),\n",
       " Document(metadata={'row': 22, 'source': '/home/yoojin/ML/aiffel/HackaThon/modu_hackaton/LLM/files_yj/MD_menu_cleaned.csv'}, page_content='menuname: 탄산 미디움\\ncategory: 음료\\nnewmenu: False\\ndescription: 갈증해소 뿐만이 아니라 기분까지 상쾌하게 코카콜라\\ningredients: \\ngrams: \\nkcals: \\nburgerprice: 2600\\nsetmenu: \\nsetprice: '),\n",
       " Document(metadata={'row': 12, 'source': '/home/yoojin/ML/aiffel/HackaThon/modu_hackaton/LLM/files_yj/MD_menu_cleaned.csv'}, page_content='menuname: 더블 불고기 버거\\ncategory: 버거\\nnewmenu: False\\ndescription: 진한 불고기 소스의 패티가 두 장 여기에 고소한 치즈와 마요네즈 신선한 양상추를 곁들인 깊고 풍부한 맛\\ningredients: 난류,우유,대두,밀,돼지고기,조개,굴\\ngrams: 237.0\\nkcals: 635.0\\nburgerprice: 5300\\nsetmenu: True\\nsetprice: 7500.0')]"
      ]
     },
     "execution_count": 10,
     "metadata": {},
     "output_type": "execute_result"
    }
   ],
   "source": [
    "retriever.invoke(\"제일 열량이 낮은 메뉴를 추천해 줘\")"
   ]
  },
  {
   "cell_type": "code",
   "execution_count": 11,
   "metadata": {},
   "outputs": [],
   "source": [
    "from langchain.chains.query_constructor.base import (\n",
    "    StructuredQueryOutputParser,\n",
    "    get_query_constructor_prompt,\n",
    ")\n",
    "\n",
    "# 문서 내용 설명과 메타데이터 필드 정보를 사용하여 쿼리 생성기 프롬프트를 가져옵니다.\n",
    "prompt = get_query_constructor_prompt(\n",
    "    \"Brief summary of a McDonald's menu\",  # 문서 내용 설명\n",
    "    metadata_field_info,  # 메타데이터 필드 정보\n",
    ")\n",
    "\n",
    "# StructuredQueryOutputParser 를 생성\n",
    "output_parser = StructuredQueryOutputParser.from_components()\n",
    "\n",
    "# query_constructor chain 을 생성\n",
    "query_constructor = prompt | llm | output_parser\n"
   ]
  },
  {
   "cell_type": "code",
   "execution_count": 12,
   "metadata": {},
   "outputs": [],
   "source": [
    "query_output = query_constructor.invoke(\n",
    "    {\n",
    "        # 쿼리 생성기를 호출하여 주어진 질문에 대한 쿼리를 생성합니다.\n",
    "        \"query\": \"닭고기가 들어가는 메뉴 중에 가장 열량이 낮는 메뉴를 추천해주세요\"\n",
    "    }\n",
    ")"
   ]
  },
  {
   "cell_type": "code",
   "execution_count": 14,
   "metadata": {},
   "outputs": [
    {
     "data": {
      "text/plain": [
       "StructuredQuery(query='닭고기', filter=None, limit=None)"
      ]
     },
     "execution_count": 14,
     "metadata": {},
     "output_type": "execute_result"
    }
   ],
   "source": [
    "query_output"
   ]
  },
  {
   "cell_type": "code",
   "execution_count": 16,
   "metadata": {},
   "outputs": [
    {
     "name": "stderr",
     "output_type": "stream",
     "text": [
      "/home/yoojin/anaconda3/envs/RAG/lib/python3.10/site-packages/sentence_transformers/cross_encoder/CrossEncoder.py:13: TqdmWarning: IProgress not found. Please update jupyter and ipywidgets. See https://ipywidgets.readthedocs.io/en/stable/user_install.html\n",
      "  from tqdm.autonotebook import tqdm, trange\n"
     ]
    }
   ],
   "source": [
    "from langchain_huggingface.embeddings import HuggingFaceEmbeddings\n",
    "\n",
    "model_name = \"intfloat/multilingual-e5-large-instruct\"\n",
    "\n",
    "hf_embeddings = HuggingFaceEmbeddings(\n",
    "    model_name=model_name,\n",
    "    model_kwargs={\"device\": \"cuda\"},  # cuda, cpu\n",
    "    encode_kwargs={\"normalize_embeddings\": True},\n",
    ")"
   ]
  },
  {
   "cell_type": "code",
   "execution_count": 17,
   "metadata": {},
   "outputs": [
    {
     "ename": "AttributeError",
     "evalue": "'Document' object has no attribute 'replace'",
     "output_type": "error",
     "traceback": [
      "\u001b[0;31m---------------------------------------------------------------------------\u001b[0m",
      "\u001b[0;31mAttributeError\u001b[0m                            Traceback (most recent call last)",
      "Cell \u001b[0;32mIn[17], line 1\u001b[0m\n\u001b[0;32m----> 1\u001b[0m embedded_documents1 \u001b[38;5;241m=\u001b[39m \u001b[43mhf_embeddings\u001b[49m\u001b[38;5;241;43m.\u001b[39;49m\u001b[43membed_documents\u001b[49m\u001b[43m(\u001b[49m\u001b[43mdocs\u001b[49m\u001b[43m)\u001b[49m\n",
      "File \u001b[0;32m~/anaconda3/envs/RAG/lib/python3.10/site-packages/langchain_huggingface/embeddings/huggingface.py:80\u001b[0m, in \u001b[0;36mHuggingFaceEmbeddings.embed_documents\u001b[0;34m(self, texts)\u001b[0m\n\u001b[1;32m     70\u001b[0m \u001b[38;5;250m\u001b[39m\u001b[38;5;124;03m\"\"\"Compute doc embeddings using a HuggingFace transformer model.\u001b[39;00m\n\u001b[1;32m     71\u001b[0m \n\u001b[1;32m     72\u001b[0m \u001b[38;5;124;03mArgs:\u001b[39;00m\n\u001b[0;32m   (...)\u001b[0m\n\u001b[1;32m     76\u001b[0m \u001b[38;5;124;03m    List of embeddings, one for each text.\u001b[39;00m\n\u001b[1;32m     77\u001b[0m \u001b[38;5;124;03m\"\"\"\u001b[39;00m\n\u001b[1;32m     78\u001b[0m \u001b[38;5;28;01mimport\u001b[39;00m \u001b[38;5;21;01msentence_transformers\u001b[39;00m  \u001b[38;5;66;03m# type: ignore[import]\u001b[39;00m\n\u001b[0;32m---> 80\u001b[0m texts \u001b[38;5;241m=\u001b[39m \u001b[38;5;28;43mlist\u001b[39;49m\u001b[43m(\u001b[49m\u001b[38;5;28;43mmap\u001b[39;49m\u001b[43m(\u001b[49m\u001b[38;5;28;43;01mlambda\u001b[39;49;00m\u001b[43m \u001b[49m\u001b[43mx\u001b[49m\u001b[43m:\u001b[49m\u001b[43m \u001b[49m\u001b[43mx\u001b[49m\u001b[38;5;241;43m.\u001b[39;49m\u001b[43mreplace\u001b[49m\u001b[43m(\u001b[49m\u001b[38;5;124;43m\"\u001b[39;49m\u001b[38;5;130;43;01m\\n\u001b[39;49;00m\u001b[38;5;124;43m\"\u001b[39;49m\u001b[43m,\u001b[49m\u001b[43m \u001b[49m\u001b[38;5;124;43m\"\u001b[39;49m\u001b[38;5;124;43m \u001b[39;49m\u001b[38;5;124;43m\"\u001b[39;49m\u001b[43m)\u001b[49m\u001b[43m,\u001b[49m\u001b[43m \u001b[49m\u001b[43mtexts\u001b[49m\u001b[43m)\u001b[49m\u001b[43m)\u001b[49m\n\u001b[1;32m     81\u001b[0m \u001b[38;5;28;01mif\u001b[39;00m \u001b[38;5;28mself\u001b[39m\u001b[38;5;241m.\u001b[39mmulti_process:\n\u001b[1;32m     82\u001b[0m     pool \u001b[38;5;241m=\u001b[39m \u001b[38;5;28mself\u001b[39m\u001b[38;5;241m.\u001b[39mclient\u001b[38;5;241m.\u001b[39mstart_multi_process_pool()\n",
      "File \u001b[0;32m~/anaconda3/envs/RAG/lib/python3.10/site-packages/langchain_huggingface/embeddings/huggingface.py:80\u001b[0m, in \u001b[0;36mHuggingFaceEmbeddings.embed_documents.<locals>.<lambda>\u001b[0;34m(x)\u001b[0m\n\u001b[1;32m     70\u001b[0m \u001b[38;5;250m\u001b[39m\u001b[38;5;124;03m\"\"\"Compute doc embeddings using a HuggingFace transformer model.\u001b[39;00m\n\u001b[1;32m     71\u001b[0m \n\u001b[1;32m     72\u001b[0m \u001b[38;5;124;03mArgs:\u001b[39;00m\n\u001b[0;32m   (...)\u001b[0m\n\u001b[1;32m     76\u001b[0m \u001b[38;5;124;03m    List of embeddings, one for each text.\u001b[39;00m\n\u001b[1;32m     77\u001b[0m \u001b[38;5;124;03m\"\"\"\u001b[39;00m\n\u001b[1;32m     78\u001b[0m \u001b[38;5;28;01mimport\u001b[39;00m \u001b[38;5;21;01msentence_transformers\u001b[39;00m  \u001b[38;5;66;03m# type: ignore[import]\u001b[39;00m\n\u001b[0;32m---> 80\u001b[0m texts \u001b[38;5;241m=\u001b[39m \u001b[38;5;28mlist\u001b[39m(\u001b[38;5;28mmap\u001b[39m(\u001b[38;5;28;01mlambda\u001b[39;00m x: \u001b[43mx\u001b[49m\u001b[38;5;241;43m.\u001b[39;49m\u001b[43mreplace\u001b[49m(\u001b[38;5;124m\"\u001b[39m\u001b[38;5;130;01m\\n\u001b[39;00m\u001b[38;5;124m\"\u001b[39m, \u001b[38;5;124m\"\u001b[39m\u001b[38;5;124m \u001b[39m\u001b[38;5;124m\"\u001b[39m), texts))\n\u001b[1;32m     81\u001b[0m \u001b[38;5;28;01mif\u001b[39;00m \u001b[38;5;28mself\u001b[39m\u001b[38;5;241m.\u001b[39mmulti_process:\n\u001b[1;32m     82\u001b[0m     pool \u001b[38;5;241m=\u001b[39m \u001b[38;5;28mself\u001b[39m\u001b[38;5;241m.\u001b[39mclient\u001b[38;5;241m.\u001b[39mstart_multi_process_pool()\n",
      "File \u001b[0;32m~/anaconda3/envs/RAG/lib/python3.10/site-packages/pydantic/main.py:853\u001b[0m, in \u001b[0;36mBaseModel.__getattr__\u001b[0;34m(self, item)\u001b[0m\n\u001b[1;32m    850\u001b[0m     \u001b[38;5;28;01mreturn\u001b[39;00m \u001b[38;5;28msuper\u001b[39m()\u001b[38;5;241m.\u001b[39m\u001b[38;5;21m__getattribute__\u001b[39m(item)  \u001b[38;5;66;03m# Raises AttributeError if appropriate\u001b[39;00m\n\u001b[1;32m    851\u001b[0m \u001b[38;5;28;01melse\u001b[39;00m:\n\u001b[1;32m    852\u001b[0m     \u001b[38;5;66;03m# this is the current error\u001b[39;00m\n\u001b[0;32m--> 853\u001b[0m     \u001b[38;5;28;01mraise\u001b[39;00m \u001b[38;5;167;01mAttributeError\u001b[39;00m(\u001b[38;5;124mf\u001b[39m\u001b[38;5;124m'\u001b[39m\u001b[38;5;132;01m{\u001b[39;00m\u001b[38;5;28mtype\u001b[39m(\u001b[38;5;28mself\u001b[39m)\u001b[38;5;241m.\u001b[39m\u001b[38;5;18m__name__\u001b[39m\u001b[38;5;132;01m!r}\u001b[39;00m\u001b[38;5;124m object has no attribute \u001b[39m\u001b[38;5;132;01m{\u001b[39;00mitem\u001b[38;5;132;01m!r}\u001b[39;00m\u001b[38;5;124m'\u001b[39m)\n",
      "\u001b[0;31mAttributeError\u001b[0m: 'Document' object has no attribute 'replace'"
     ]
    }
   ],
   "source": [
    "embedded_documents1 = hf_embeddings.embed_documents(texts)"
   ]
  },
  {
   "cell_type": "code",
   "execution_count": null,
   "metadata": {},
   "outputs": [],
   "source": []
  },
  {
   "cell_type": "code",
   "execution_count": null,
   "metadata": {},
   "outputs": [],
   "source": []
  },
  {
   "cell_type": "code",
   "execution_count": null,
   "metadata": {},
   "outputs": [],
   "source": []
  },
  {
   "cell_type": "code",
   "execution_count": null,
   "metadata": {},
   "outputs": [],
   "source": []
  },
  {
   "cell_type": "code",
   "execution_count": null,
   "metadata": {},
   "outputs": [],
   "source": []
  },
  {
   "cell_type": "code",
   "execution_count": null,
   "metadata": {},
   "outputs": [],
   "source": []
  },
  {
   "cell_type": "code",
   "execution_count": null,
   "metadata": {},
   "outputs": [],
   "source": []
  },
  {
   "cell_type": "code",
   "execution_count": null,
   "metadata": {},
   "outputs": [],
   "source": []
  }
 ],
 "metadata": {
  "kernelspec": {
   "display_name": "RAG",
   "language": "python",
   "name": "python3"
  },
  "language_info": {
   "name": "python",
   "version": "3.10.12"
  }
 },
 "nbformat": 4,
 "nbformat_minor": 2
}
