{
 "cells": [
  {
   "cell_type": "markdown",
   "id": "b7904228",
   "metadata": {},
   "source": [
    "# 앙상블 검색기(Ensemble Retriever)\n",
    "\n",
    "`EnsembleRetriever`는 여러 검색기를 결합하여 더 강력한 검색 결과를 제공하는 LangChain의 기능입니다. 이 검색기는 다양한 검색 알고리즘의 장점을 활용하여 단일 알고리즘보다 더 나은 성능을 달성할 수 있습니다.\n",
    "\n",
    "**주요 특징**\n",
    "1. 여러 검색기 통합: 다양한 유형의 검색기를 입력으로 받아 결과를 결합합니다.\n",
    "2. 결과 재순위화: [Reciprocal Rank Fusion](https://plg.uwaterloo.ca/~gvcormac/cormacksigir09-rrf.pdf) 알고리즘을 사용하여 결과의 순위를 조정합니다.\n",
    "3. 하이브리드 검색: 주로 `sparse retriever`(예: BM25)와 `dense retriever`(예: 임베딩 유사도)를 결합하여 사용합니다.\n",
    "\n",
    "**장점**\n",
    "- Sparse retriever: 키워드 기반 검색에 효과적\n",
    "- Dense retriever: 의미적 유사성 기반 검색에 효과적\n",
    "\n",
    "이러한 상호 보완적인 특성으로 인해 `EnsembleRetriever`는 다양한 검색 시나리오에서 향상된 성능을 제공할 수 있습니다.\n",
    "\n",
    "자세한 내용은 [LangChain 공식 문서](https://python.langchain.com/docs/modules/data_connection/retrievers/ensemble)를 참조하세요.\n"
   ]
  },
  {
   "cell_type": "code",
   "execution_count": 1,
   "id": "19224b47",
   "metadata": {},
   "outputs": [
    {
     "data": {
      "text/plain": [
       "True"
      ]
     },
     "execution_count": 1,
     "metadata": {},
     "output_type": "execute_result"
    }
   ],
   "source": [
    "# API 키를 환경변수로 관리하기 위한 설정 파일\n",
    "from dotenv import load_dotenv\n",
    "\n",
    "# API 키 정보 로드\n",
    "load_dotenv()"
   ]
  },
  {
   "cell_type": "code",
   "execution_count": 2,
   "id": "75d27ac8",
   "metadata": {},
   "outputs": [
    {
     "name": "stdout",
     "output_type": "stream",
     "text": [
      "LangSmith 추적을 시작합니다.\n",
      "[프로젝트명]\n",
      "korean_ensemble_retriever\n"
     ]
    }
   ],
   "source": [
    "# LangSmith 추적을 설정합니다. https://smith.langchain.com\n",
    "# !pip install langchain-teddynote\n",
    "from langchain_teddynote import logging\n",
    "\n",
    "# 프로젝트 이름을 입력합니다.\n",
    "logging.langsmith(\"korean_ensemble_retriever\")"
   ]
  },
  {
   "cell_type": "markdown",
   "id": "aa18c35c",
   "metadata": {},
   "source": [
    "## 문서 로드 및 전처리"
   ]
  },
  {
   "cell_type": "code",
   "execution_count": 35,
   "id": "e4583569",
   "metadata": {},
   "outputs": [],
   "source": [
    "from langchain_community.document_loaders import TextLoader\n",
    "\n",
    "loader = TextLoader('/home/yoojin/ML/aiffel/HackaThon/modu_hackaton/LLM/files/MD_menu_price.txt')\n",
    "docs = loader.load()"
   ]
  },
  {
   "cell_type": "code",
   "execution_count": 36,
   "id": "fdbff72a",
   "metadata": {},
   "outputs": [],
   "source": [
    "docs = docs[0].page_content"
   ]
  },
  {
   "cell_type": "code",
   "execution_count": 37,
   "id": "64bd5468",
   "metadata": {},
   "outputs": [],
   "source": [
    "def nums(text):\n",
    "    return text.replace(u'.0', u'')\n",
    "def clean_text(text):\n",
    "    import re\n",
    "    return re.sub(r'[^가-힣a-zA-Z0-9\\s]', '', str(text))\n",
    "def clean_xao(text):\n",
    "    return text.replace(u'\\xa0', u' ')"
   ]
  },
  {
   "cell_type": "code",
   "execution_count": 38,
   "id": "dfb2210d",
   "metadata": {},
   "outputs": [],
   "source": [
    "docs = nums(docs)\n",
    "docs = clean_text(docs)\n",
    "docs = clean_xao(docs)"
   ]
  },
  {
   "cell_type": "code",
   "execution_count": 39,
   "id": "de57e849",
   "metadata": {},
   "outputs": [
    {
     "name": "stdout",
     "output_type": "stream",
     "text": [
      "텍스트가 'processed_docs.txt' 파일에 저장되었습니다.\n"
     ]
    }
   ],
   "source": [
    "def save_text_to_file(text, filename):\n",
    "    with open(filename, 'w', encoding='utf-8') as file:\n",
    "        file.write(text)\n",
    "\n",
    "save_text_to_file(docs, '/home/yoojin/ML/aiffel/HackaThon/modu_hackaton/LLM/files/processed_docs.txt')\n",
    "print(\"텍스트가 'processed_docs.txt' 파일에 저장되었습니다.\")"
   ]
  },
  {
   "cell_type": "markdown",
   "id": "7a73290e",
   "metadata": {},
   "source": [
    "## 본 코드"
   ]
  },
  {
   "cell_type": "markdown",
   "id": "45ff8adf",
   "metadata": {},
   "source": [
    "- `EnsembleRetriever`를 초기화하여 `BM25Retriever`와 `FAISS` 검색기를 결합합니다. 각 검색기의 가중치를 설정됩니다.\n"
   ]
  },
  {
   "cell_type": "code",
   "execution_count": 40,
   "id": "a1941945",
   "metadata": {},
   "outputs": [],
   "source": [
    "from langchain_community.document_loaders import TextLoader\n",
    "\n",
    "loader = TextLoader('/home/yoojin/ML/aiffel/HackaThon/modu_hackaton/LLM/files/processed_docs.txt')\n",
    "docs = loader.load()"
   ]
  },
  {
   "cell_type": "code",
   "execution_count": 42,
   "id": "2f66db73",
   "metadata": {},
   "outputs": [
    {
     "data": {
      "text/plain": [
       "[Document(metadata={'source': '/home/yoojin/ML/aiffel/HackaThon/modu_hackaton/LLM/files/processed_docs.txt'}, page_content='메뉴이름  맥크리스피 스리라차 마요 버거 카테고리는 버거 이며 신메뉴이다 이 메뉴는 빠삭한  통닭다리살 케이준 패티에 스리라차 마요 소스를 더해 매콤 고소한 맛  이다 식재료는 난류우유대두밀토마토닭고기쇠고기가 들어간다 중량은 289g이다 열량은 663kcal이다 단품가격은 8600원 세트가격은 10500원이다\\n\\n메뉴이름  베토디 스리라차 마요 버거 카테고리는 버거 이며 신메뉴이다 이 메뉴는 베이컨 토마토 디럭스에 스리라차 마요 소스를 더해 색다른 매콤함 이다 식재료는 난류우유대두밀돼지고기토마토쇠고기가 들어간다 중량은 251g이다 열량은 621kcal이다 단품가격은 7600원 세트가격은 9500원이다\\n\\n메뉴이름  맥스파이시 상하이 버거 카테고리는 버거 이며 신메뉴가 아니다 이 메뉴는 쌀가루가 더해져 더 바삭해진  닭가슴살 패티에 아삭아삭한 양상추와 신선한 토마토까지 더 바삭하고 맛있어진 NEW 맥스파이시 상하이 버거로 입맛도 기분도 화끈하게 이다 식재료는 난류대두밀토마토닭고기가 들어간다 중량은 246g이다 열량은 501kcal이다 단품가격은 6300원 세트가격은 8400원이다\\n\\n메뉴이름  토마토 치즈 비프 버거 카테고리는 버거 이며 신메뉴이다 이 메뉴는 신선한 토마토와 고소한 치즈버거의 조화 이다 식재료는 난류우유대두밀토마토쇠고기가 들어간다 중량은 200g이다 열량은 403kcal이다 단품가격은 4600원 세트가격은 6900원이다\\n\\n메뉴이름  더블 쿼터파운더 치즈 버거 카테고리는 버거 이며 신메뉴가 아니다 이 메뉴는 좋아하는건 더 많이 즐기시라고 두 배 이상 커진  파운드 비프 패티가 두 장 그램육즙이 풍부한 고기 맛을 그대로 살린  순 쇠고기 패티 두 장과 치즈 두 장이 입안 가득 완벽하게 조화되는 놀라운 맛 이다 식재료는 우유대두밀토마토쇠고기가 들어간다 중량은 275g이다 열량은 770kcal이다 단품가격은 8200원 세트가격은 10400원이다\\n\\n메뉴이름  쿼터파운더 치즈 버거 카테고리는 버거 이며 신메뉴가 아니다 이 메뉴는 쿼터파운더라는 이름에서 알 수 있듯이 두 배 이상 커진 파운드그램 비프와 부드러운 치즈 두 장의 환상궁합두툼한 순 쇠고기 패티와 신선한 치즈의 풍부한 맛으로 세계적으로 사랑받고 있는 맥도날드의 대표적인 프리미엄 버거 이다 식재료는 우유대두밀토마토쇠고기가 들어간다 중량은 198g이다 열량은 536kcal이다 단품가격은 6300원 세트가격은 8900원이다\\n\\n메뉴이름  빅맥 버거 카테고리는 버거 이며 신메뉴가 아니다 이 메뉴는  순 쇠고기 패티 두 장에 빅맥만의 특별한 소스 입안에서 살살 녹는 치즈와 신선한 양상추 양파 그리고  피클까지 년 넘게 전 세계인의 입맛을 사로 잡은 버거의 대명사  이다 식재료는 난류우유대두밀쇠고기가 들어간다 중량은 223g이다 열량은 582kcal이다 단품가격은 6300원 세트가격은 8500원이다\\n\\n메뉴이름  맥크리스피 디럭스 버거 카테고리는 버거 이며 신메뉴이다 이 메뉴는  통닭다리살 겉바속촉 케이준 치킨 패티 촉촉한 포테이토 브리오쉬 번 스페셜 스모키 소스가 선사하는 놀랍도록 새로운 맛의 치킨 버거  이다 식재료는 난류우유대두밀토마토닭고기쇠고기가 들어간다 중량은 276g이다 열량은 614kcal이다 단품가격은 7600원 세트가격은 9200원이다\\n\\n메뉴이름  맥크리스피 클래식 버거 카테고리는 버거 이며 신메뉴이다 이 메뉴는  통닭다리살 겉바속촉 케이준 치킨 패티 치킨 버거 본연의 맛에 충실한 클래식 버거  이다 식재료는 난류우유대두밀토마토닭고기쇠고기가 들어간다 중량은 210g이다 열량은 603kcal이다 단품가격은 6700원 세트가격은 8700원이다\\n\\n메뉴이름  1955 버거 카테고리는 버거 이며 신메뉴가 아니다 이 메뉴는 g 두툼한 순 쇠고기 패티 특별한  소스에 깊은 풍미의 그릴드 어니언까지 맥도날드가 처음 생긴 년의 맛을 담은 영원한 오리지널  버거    이다 식재료는 난류우유대두밀돼지고기토마토쇠고기가 들어간다 중량은 264g이다 열량은 572kcal이다 단품가격은 7200원 세트가격은 9100원이다\\n\\n메뉴이름  맥치킨 모짜렐라 버거 카테고리는 버거 이며 신메뉴가 아니다 이 메뉴는 든든한 맥치킨에 골든 모짜렐라 치즈 스틱 개와 매콤한 아라비아따 소스를 더해 강렬하게 재탄생한 맥치킨 모짜렐라   이다 식재료는 난류우유대두밀토마토닭고기가 들어간다 중량은 293g이다 열량은 743kcal이다 단품가격은 5800원 세트가격은 8600원이다\\n\\n메뉴이름  맥치킨 버거 카테고리는 버거 이며 신메뉴가 아니다 이 메뉴는 바삭한 치킨 패티 고소한 화이트 마요 소스와 아삭한 양상추가 함께 더 업그레이드된 맛으로 돌아온 맥치킨   이다 식재료는 난류대두밀닭고기가 들어간다 중량은 206g이다 열량은 523kcal이다 단품가격은 4300원 세트가격은 6700원이다\\n\\n메뉴이름  더블 불고기 버거 카테고리는 버거 이며 신메뉴가 아니다 이 메뉴는 진한 불고기 소스의 패티가 두 장 여기에 고소한 치즈와 마요네즈 신선한 양상추를 곁들인 깊고 풍부한 맛   이다 식재료는 난류우유대두밀돼지고기조개굴가 들어간다 중량은 237g이다 열량은 635kcal이다 단품가격은 5300원 세트가격은 7500원이다\\n\\n메뉴이름  에그 불고기 버거 카테고리는 버거 이며 신메뉴가 아니다 이 메뉴는 불고기 버거에 국내산 등급 계란을 더해 맛의 정점을 찍다  이다 식재료는 난류대두밀돼지고기조개굴가 들어간다 중량은 222g이다 열량은 491kcal이다 단품가격은 5100원 세트가격은 7300원이다\\n\\n메뉴이름  불고기 버거 카테고리는 버거 이며 신메뉴가 아니다 이 메뉴는 한국인의 입맛에 딱 맞는 불고기 소스에 잘 재운 패티와 고소한 마요네즈 신선한 양상추의 맛있는 조합   이다 식재료는 난류대두밀돼지고기조개굴가 들어간다 중량은 167g이다 열량은 409kcal이다 단품가격은 4200원 세트가격은 6600원이다\\n\\n메뉴이름  슈슈 버거 카테고리는 버거 이며 신메뉴가 아니다 이 메뉴는 탱글한 통새우살 가득 슈슈 버거 이다 식재료는 난류우유대두밀토마토새우쇠고기굴가 들어간다 중량은 224g이다 열량은 409kcal이다 단품가격은 5500원 세트가격은 7300원이다\\n\\n메뉴이름  슈비 버거 카테고리는 버거 이며 신메뉴가 아니다 이 메뉴는 탱글한 통새우살에 비프 패티를 더해 푸짐하게 이다 식재료는 난류우유대두밀토마토새우쇠고기굴가 들어간다 중량은 269g이다 열량은 540kcal이다 단품가격은 6600원 세트가격은 9100원이다\\n\\n메뉴이름  베이컨 토마토 디럭스 버거 카테고리는 버거 이며 신메뉴가 아니다 이 메뉴는 두 장의  순 쇠고기 패티에 그릴에 구워 더욱 고소한 장의 베이컨을 얹고 신선한 토마토와 양상추 매콤달콤한 스위트 칠리 소스 치즈 마요네즈를 더해 더욱 풍부하고 신선한 맛의 프리미엄 버거     이다 식재료는 난류우유대두밀돼지고기토마토쇠고기가 들어간다 중량은 247g이다 열량은 570kcal이다 단품가격은 6600원 세트가격은 9000원이다\\n\\n메뉴이름  치즈버거 카테고리는 버거 이며 신메뉴가 아니다 이 메뉴는 고소하고 부드러운 치즈와  순 쇠고기 패티 맥도날드만의 심플한 클래식 치즈버거  이다 식재료는 우유대두밀토마토쇠고기가 들어간다 중량은 115g이다 열량은 318kcal이다 단품가격은 3600원 세트가격은 6300원이다\\n\\n메뉴이름  더블 치즈버거 카테고리는 버거 이며 신메뉴가 아니다 이 메뉴는 고소하고 부드러운 치즈와  순 쇠고기 패티가 두개 맥도날드만의 더블 치즈버거   이다 식재료는 우유대두밀토마토쇠고기가 들어간다 중량은 167g이다 열량은 479kcal이다 단품가격은 5600원 세트가격은 7300원이다\\n\\n메뉴이름  트리플 치즈버거 카테고리는 버거 이며 신메뉴가 아니다 이 메뉴는 부드러운 치즈와 풍부한 육즙의 패티를 세배 더 진하게 즐길 수 있는 트리플 치즈버거  이다 식재료는 우유대두밀토마토쇠고기가 들어간다 중량은 219g이다 열량은 620kcal이다 단품가격은 6700원 세트가격은 8500원이다\\n\\n메뉴이름  햄버거 카테고리는 버거 이며 신메뉴가 아니다 이 메뉴는  순 쇠고기 패티에 상큼한 피클과 양파 기본에 충실한 맥도날드 햄버거  이다 식재료는 대두밀토마토쇠고기가 들어간다 중량은 101g이다 열량은 266kcal이다 단품가격은 3400원이다\\n\\n메뉴이름  탄산 미디움 카테고리는 음료 이며 신메뉴가 아니다 이 메뉴는 갈증해소 뿐만이 아니라 기분까지 상쾌하게 코카콜라 이다 단품가격은 2600원이다\\n\\n메뉴이름  탄산 라지 카테고리는 음료 이며 신메뉴가 아니다 이 메뉴는 갈증해소 뿐만이 아니라 기분까지 상쾌하게 코카콜라 이다 단품가격은 3100원이다\\n\\n메뉴이름  후렌치후라이 스몰 카테고리는 사이드이며 신메뉴가 아니다 이 메뉴는 통으로 썰어낸 감자를 맥도날드만의 노하우로 튀겨낸 남다른 맛과 바삭함 맥도날드의 역사가 담긴 월드 클래스 후렌치 후라이  이다 단품가격은 2300원이다\\n\\n메뉴이름  후렌치후라이 미디움 카테고리는 사이드이며 신메뉴가 아니다 이 메뉴는 통으로 썰어낸 감자를 맥도날드만의 노하우로 튀겨낸 남다른 맛과 바삭함 맥도날드의 역사가 담긴 월드 클래스 후렌치 후라이  이다 단품가격은 3000원이다\\n\\n메뉴이름  후렌치후라이 라지 카테고리는 사이드이며 신메뉴가 아니다 이 메뉴는 통으로 썰어낸 감자를 맥도날드만의 노하우로 튀겨낸 남다른 맛과 바삭함 맥도날드의 역사가 담긴 월드 클래스 후렌치 후라이  이다 단품가격은 4000원이다')]"
      ]
     },
     "execution_count": 42,
     "metadata": {},
     "output_type": "execute_result"
    }
   ],
   "source": [
    "docs"
   ]
  },
  {
   "cell_type": "code",
   "execution_count": 43,
   "id": "cabeef9f",
   "metadata": {},
   "outputs": [
    {
     "name": "stderr",
     "output_type": "stream",
     "text": [
      "Created a chunk of size 173, which is longer than the specified 100\n",
      "Created a chunk of size 163, which is longer than the specified 100\n",
      "Created a chunk of size 212, which is longer than the specified 100\n",
      "Created a chunk of size 143, which is longer than the specified 100\n",
      "Created a chunk of size 236, which is longer than the specified 100\n",
      "Created a chunk of size 242, which is longer than the specified 100\n",
      "Created a chunk of size 208, which is longer than the specified 100\n",
      "Created a chunk of size 198, which is longer than the specified 100\n",
      "Created a chunk of size 171, which is longer than the specified 100\n",
      "Created a chunk of size 201, which is longer than the specified 100\n",
      "Created a chunk of size 187, which is longer than the specified 100\n",
      "Created a chunk of size 173, which is longer than the specified 100\n",
      "Created a chunk of size 182, which is longer than the specified 100\n",
      "Created a chunk of size 153, which is longer than the specified 100\n",
      "Created a chunk of size 175, which is longer than the specified 100\n",
      "Created a chunk of size 138, which is longer than the specified 100\n",
      "Created a chunk of size 145, which is longer than the specified 100\n",
      "Created a chunk of size 239, which is longer than the specified 100\n",
      "Created a chunk of size 159, which is longer than the specified 100\n",
      "Created a chunk of size 162, which is longer than the specified 100\n",
      "Created a chunk of size 166, which is longer than the specified 100\n",
      "Created a chunk of size 139, which is longer than the specified 100\n",
      "Created a chunk of size 127, which is longer than the specified 100\n",
      "Created a chunk of size 128, which is longer than the specified 100\n"
     ]
    }
   ],
   "source": [
    "from langchain.text_splitter import CharacterTextSplitter\n",
    "\n",
    "# CharacterTextSplitter를 사용하여 문서 분할\n",
    "text_splitter = CharacterTextSplitter(separator=\"\\n\\n\", chunk_size=100, chunk_overlap=0)\n",
    "split_docs = text_splitter.split_documents(docs)"
   ]
  },
  {
   "cell_type": "code",
   "execution_count": 44,
   "id": "bfaaff4b",
   "metadata": {},
   "outputs": [
    {
     "name": "stdout",
     "output_type": "stream",
     "text": [
      "분할된 문서 수: 27\n"
     ]
    }
   ],
   "source": [
    "print(\"분할된 문서 수:\", len(split_docs))"
   ]
  },
  {
   "cell_type": "code",
   "execution_count": 45,
   "id": "15223cba",
   "metadata": {},
   "outputs": [
    {
     "data": {
      "text/plain": [
       "[Document(metadata={'source': '/home/yoojin/ML/aiffel/HackaThon/modu_hackaton/LLM/files/processed_docs.txt'}, page_content='메뉴이름  맥크리스피 스리라차 마요 버거 카테고리는 버거 이며 신메뉴이다 이 메뉴는 빠삭한  통닭다리살 케이준 패티에 스리라차 마요 소스를 더해 매콤 고소한 맛  이다 식재료는 난류우유대두밀토마토닭고기쇠고기가 들어간다 중량은 289g이다 열량은 663kcal이다 단품가격은 8600원 세트가격은 10500원이다'),\n",
       " Document(metadata={'source': '/home/yoojin/ML/aiffel/HackaThon/modu_hackaton/LLM/files/processed_docs.txt'}, page_content='메뉴이름  베토디 스리라차 마요 버거 카테고리는 버거 이며 신메뉴이다 이 메뉴는 베이컨 토마토 디럭스에 스리라차 마요 소스를 더해 색다른 매콤함 이다 식재료는 난류우유대두밀돼지고기토마토쇠고기가 들어간다 중량은 251g이다 열량은 621kcal이다 단품가격은 7600원 세트가격은 9500원이다'),\n",
       " Document(metadata={'source': '/home/yoojin/ML/aiffel/HackaThon/modu_hackaton/LLM/files/processed_docs.txt'}, page_content='메뉴이름  맥스파이시 상하이 버거 카테고리는 버거 이며 신메뉴가 아니다 이 메뉴는 쌀가루가 더해져 더 바삭해진  닭가슴살 패티에 아삭아삭한 양상추와 신선한 토마토까지 더 바삭하고 맛있어진 NEW 맥스파이시 상하이 버거로 입맛도 기분도 화끈하게 이다 식재료는 난류대두밀토마토닭고기가 들어간다 중량은 246g이다 열량은 501kcal이다 단품가격은 6300원 세트가격은 8400원이다'),\n",
       " Document(metadata={'source': '/home/yoojin/ML/aiffel/HackaThon/modu_hackaton/LLM/files/processed_docs.txt'}, page_content='메뉴이름  토마토 치즈 비프 버거 카테고리는 버거 이며 신메뉴이다 이 메뉴는 신선한 토마토와 고소한 치즈버거의 조화 이다 식재료는 난류우유대두밀토마토쇠고기가 들어간다 중량은 200g이다 열량은 403kcal이다 단품가격은 4600원 세트가격은 6900원이다'),\n",
       " Document(metadata={'source': '/home/yoojin/ML/aiffel/HackaThon/modu_hackaton/LLM/files/processed_docs.txt'}, page_content='메뉴이름  더블 쿼터파운더 치즈 버거 카테고리는 버거 이며 신메뉴가 아니다 이 메뉴는 좋아하는건 더 많이 즐기시라고 두 배 이상 커진  파운드 비프 패티가 두 장 그램육즙이 풍부한 고기 맛을 그대로 살린  순 쇠고기 패티 두 장과 치즈 두 장이 입안 가득 완벽하게 조화되는 놀라운 맛 이다 식재료는 우유대두밀토마토쇠고기가 들어간다 중량은 275g이다 열량은 770kcal이다 단품가격은 8200원 세트가격은 10400원이다'),\n",
       " Document(metadata={'source': '/home/yoojin/ML/aiffel/HackaThon/modu_hackaton/LLM/files/processed_docs.txt'}, page_content='메뉴이름  쿼터파운더 치즈 버거 카테고리는 버거 이며 신메뉴가 아니다 이 메뉴는 쿼터파운더라는 이름에서 알 수 있듯이 두 배 이상 커진 파운드그램 비프와 부드러운 치즈 두 장의 환상궁합두툼한 순 쇠고기 패티와 신선한 치즈의 풍부한 맛으로 세계적으로 사랑받고 있는 맥도날드의 대표적인 프리미엄 버거 이다 식재료는 우유대두밀토마토쇠고기가 들어간다 중량은 198g이다 열량은 536kcal이다 단품가격은 6300원 세트가격은 8900원이다'),\n",
       " Document(metadata={'source': '/home/yoojin/ML/aiffel/HackaThon/modu_hackaton/LLM/files/processed_docs.txt'}, page_content='메뉴이름  빅맥 버거 카테고리는 버거 이며 신메뉴가 아니다 이 메뉴는  순 쇠고기 패티 두 장에 빅맥만의 특별한 소스 입안에서 살살 녹는 치즈와 신선한 양상추 양파 그리고  피클까지 년 넘게 전 세계인의 입맛을 사로 잡은 버거의 대명사  이다 식재료는 난류우유대두밀쇠고기가 들어간다 중량은 223g이다 열량은 582kcal이다 단품가격은 6300원 세트가격은 8500원이다'),\n",
       " Document(metadata={'source': '/home/yoojin/ML/aiffel/HackaThon/modu_hackaton/LLM/files/processed_docs.txt'}, page_content='메뉴이름  맥크리스피 디럭스 버거 카테고리는 버거 이며 신메뉴이다 이 메뉴는  통닭다리살 겉바속촉 케이준 치킨 패티 촉촉한 포테이토 브리오쉬 번 스페셜 스모키 소스가 선사하는 놀랍도록 새로운 맛의 치킨 버거  이다 식재료는 난류우유대두밀토마토닭고기쇠고기가 들어간다 중량은 276g이다 열량은 614kcal이다 단품가격은 7600원 세트가격은 9200원이다'),\n",
       " Document(metadata={'source': '/home/yoojin/ML/aiffel/HackaThon/modu_hackaton/LLM/files/processed_docs.txt'}, page_content='메뉴이름  맥크리스피 클래식 버거 카테고리는 버거 이며 신메뉴이다 이 메뉴는  통닭다리살 겉바속촉 케이준 치킨 패티 치킨 버거 본연의 맛에 충실한 클래식 버거  이다 식재료는 난류우유대두밀토마토닭고기쇠고기가 들어간다 중량은 210g이다 열량은 603kcal이다 단품가격은 6700원 세트가격은 8700원이다'),\n",
       " Document(metadata={'source': '/home/yoojin/ML/aiffel/HackaThon/modu_hackaton/LLM/files/processed_docs.txt'}, page_content='메뉴이름  1955 버거 카테고리는 버거 이며 신메뉴가 아니다 이 메뉴는 g 두툼한 순 쇠고기 패티 특별한  소스에 깊은 풍미의 그릴드 어니언까지 맥도날드가 처음 생긴 년의 맛을 담은 영원한 오리지널  버거    이다 식재료는 난류우유대두밀돼지고기토마토쇠고기가 들어간다 중량은 264g이다 열량은 572kcal이다 단품가격은 7200원 세트가격은 9100원이다'),\n",
       " Document(metadata={'source': '/home/yoojin/ML/aiffel/HackaThon/modu_hackaton/LLM/files/processed_docs.txt'}, page_content='메뉴이름  맥치킨 모짜렐라 버거 카테고리는 버거 이며 신메뉴가 아니다 이 메뉴는 든든한 맥치킨에 골든 모짜렐라 치즈 스틱 개와 매콤한 아라비아따 소스를 더해 강렬하게 재탄생한 맥치킨 모짜렐라   이다 식재료는 난류우유대두밀토마토닭고기가 들어간다 중량은 293g이다 열량은 743kcal이다 단품가격은 5800원 세트가격은 8600원이다'),\n",
       " Document(metadata={'source': '/home/yoojin/ML/aiffel/HackaThon/modu_hackaton/LLM/files/processed_docs.txt'}, page_content='메뉴이름  맥치킨 버거 카테고리는 버거 이며 신메뉴가 아니다 이 메뉴는 바삭한 치킨 패티 고소한 화이트 마요 소스와 아삭한 양상추가 함께 더 업그레이드된 맛으로 돌아온 맥치킨   이다 식재료는 난류대두밀닭고기가 들어간다 중량은 206g이다 열량은 523kcal이다 단품가격은 4300원 세트가격은 6700원이다'),\n",
       " Document(metadata={'source': '/home/yoojin/ML/aiffel/HackaThon/modu_hackaton/LLM/files/processed_docs.txt'}, page_content='메뉴이름  더블 불고기 버거 카테고리는 버거 이며 신메뉴가 아니다 이 메뉴는 진한 불고기 소스의 패티가 두 장 여기에 고소한 치즈와 마요네즈 신선한 양상추를 곁들인 깊고 풍부한 맛   이다 식재료는 난류우유대두밀돼지고기조개굴가 들어간다 중량은 237g이다 열량은 635kcal이다 단품가격은 5300원 세트가격은 7500원이다'),\n",
       " Document(metadata={'source': '/home/yoojin/ML/aiffel/HackaThon/modu_hackaton/LLM/files/processed_docs.txt'}, page_content='메뉴이름  에그 불고기 버거 카테고리는 버거 이며 신메뉴가 아니다 이 메뉴는 불고기 버거에 국내산 등급 계란을 더해 맛의 정점을 찍다  이다 식재료는 난류대두밀돼지고기조개굴가 들어간다 중량은 222g이다 열량은 491kcal이다 단품가격은 5100원 세트가격은 7300원이다'),\n",
       " Document(metadata={'source': '/home/yoojin/ML/aiffel/HackaThon/modu_hackaton/LLM/files/processed_docs.txt'}, page_content='메뉴이름  불고기 버거 카테고리는 버거 이며 신메뉴가 아니다 이 메뉴는 한국인의 입맛에 딱 맞는 불고기 소스에 잘 재운 패티와 고소한 마요네즈 신선한 양상추의 맛있는 조합   이다 식재료는 난류대두밀돼지고기조개굴가 들어간다 중량은 167g이다 열량은 409kcal이다 단품가격은 4200원 세트가격은 6600원이다'),\n",
       " Document(metadata={'source': '/home/yoojin/ML/aiffel/HackaThon/modu_hackaton/LLM/files/processed_docs.txt'}, page_content='메뉴이름  슈슈 버거 카테고리는 버거 이며 신메뉴가 아니다 이 메뉴는 탱글한 통새우살 가득 슈슈 버거 이다 식재료는 난류우유대두밀토마토새우쇠고기굴가 들어간다 중량은 224g이다 열량은 409kcal이다 단품가격은 5500원 세트가격은 7300원이다'),\n",
       " Document(metadata={'source': '/home/yoojin/ML/aiffel/HackaThon/modu_hackaton/LLM/files/processed_docs.txt'}, page_content='메뉴이름  슈비 버거 카테고리는 버거 이며 신메뉴가 아니다 이 메뉴는 탱글한 통새우살에 비프 패티를 더해 푸짐하게 이다 식재료는 난류우유대두밀토마토새우쇠고기굴가 들어간다 중량은 269g이다 열량은 540kcal이다 단품가격은 6600원 세트가격은 9100원이다'),\n",
       " Document(metadata={'source': '/home/yoojin/ML/aiffel/HackaThon/modu_hackaton/LLM/files/processed_docs.txt'}, page_content='메뉴이름  베이컨 토마토 디럭스 버거 카테고리는 버거 이며 신메뉴가 아니다 이 메뉴는 두 장의  순 쇠고기 패티에 그릴에 구워 더욱 고소한 장의 베이컨을 얹고 신선한 토마토와 양상추 매콤달콤한 스위트 칠리 소스 치즈 마요네즈를 더해 더욱 풍부하고 신선한 맛의 프리미엄 버거     이다 식재료는 난류우유대두밀돼지고기토마토쇠고기가 들어간다 중량은 247g이다 열량은 570kcal이다 단품가격은 6600원 세트가격은 9000원이다'),\n",
       " Document(metadata={'source': '/home/yoojin/ML/aiffel/HackaThon/modu_hackaton/LLM/files/processed_docs.txt'}, page_content='메뉴이름  치즈버거 카테고리는 버거 이며 신메뉴가 아니다 이 메뉴는 고소하고 부드러운 치즈와  순 쇠고기 패티 맥도날드만의 심플한 클래식 치즈버거  이다 식재료는 우유대두밀토마토쇠고기가 들어간다 중량은 115g이다 열량은 318kcal이다 단품가격은 3600원 세트가격은 6300원이다'),\n",
       " Document(metadata={'source': '/home/yoojin/ML/aiffel/HackaThon/modu_hackaton/LLM/files/processed_docs.txt'}, page_content='메뉴이름  더블 치즈버거 카테고리는 버거 이며 신메뉴가 아니다 이 메뉴는 고소하고 부드러운 치즈와  순 쇠고기 패티가 두개 맥도날드만의 더블 치즈버거   이다 식재료는 우유대두밀토마토쇠고기가 들어간다 중량은 167g이다 열량은 479kcal이다 단품가격은 5600원 세트가격은 7300원이다'),\n",
       " Document(metadata={'source': '/home/yoojin/ML/aiffel/HackaThon/modu_hackaton/LLM/files/processed_docs.txt'}, page_content='메뉴이름  트리플 치즈버거 카테고리는 버거 이며 신메뉴가 아니다 이 메뉴는 부드러운 치즈와 풍부한 육즙의 패티를 세배 더 진하게 즐길 수 있는 트리플 치즈버거  이다 식재료는 우유대두밀토마토쇠고기가 들어간다 중량은 219g이다 열량은 620kcal이다 단품가격은 6700원 세트가격은 8500원이다'),\n",
       " Document(metadata={'source': '/home/yoojin/ML/aiffel/HackaThon/modu_hackaton/LLM/files/processed_docs.txt'}, page_content='메뉴이름  햄버거 카테고리는 버거 이며 신메뉴가 아니다 이 메뉴는  순 쇠고기 패티에 상큼한 피클과 양파 기본에 충실한 맥도날드 햄버거  이다 식재료는 대두밀토마토쇠고기가 들어간다 중량은 101g이다 열량은 266kcal이다 단품가격은 3400원이다'),\n",
       " Document(metadata={'source': '/home/yoojin/ML/aiffel/HackaThon/modu_hackaton/LLM/files/processed_docs.txt'}, page_content='메뉴이름  탄산 미디움 카테고리는 음료 이며 신메뉴가 아니다 이 메뉴는 갈증해소 뿐만이 아니라 기분까지 상쾌하게 코카콜라 이다 단품가격은 2600원이다'),\n",
       " Document(metadata={'source': '/home/yoojin/ML/aiffel/HackaThon/modu_hackaton/LLM/files/processed_docs.txt'}, page_content='메뉴이름  탄산 라지 카테고리는 음료 이며 신메뉴가 아니다 이 메뉴는 갈증해소 뿐만이 아니라 기분까지 상쾌하게 코카콜라 이다 단품가격은 3100원이다'),\n",
       " Document(metadata={'source': '/home/yoojin/ML/aiffel/HackaThon/modu_hackaton/LLM/files/processed_docs.txt'}, page_content='메뉴이름  후렌치후라이 스몰 카테고리는 사이드이며 신메뉴가 아니다 이 메뉴는 통으로 썰어낸 감자를 맥도날드만의 노하우로 튀겨낸 남다른 맛과 바삭함 맥도날드의 역사가 담긴 월드 클래스 후렌치 후라이  이다 단품가격은 2300원이다'),\n",
       " Document(metadata={'source': '/home/yoojin/ML/aiffel/HackaThon/modu_hackaton/LLM/files/processed_docs.txt'}, page_content='메뉴이름  후렌치후라이 미디움 카테고리는 사이드이며 신메뉴가 아니다 이 메뉴는 통으로 썰어낸 감자를 맥도날드만의 노하우로 튀겨낸 남다른 맛과 바삭함 맥도날드의 역사가 담긴 월드 클래스 후렌치 후라이  이다 단품가격은 3000원이다'),\n",
       " Document(metadata={'source': '/home/yoojin/ML/aiffel/HackaThon/modu_hackaton/LLM/files/processed_docs.txt'}, page_content='메뉴이름  후렌치후라이 라지 카테고리는 사이드이며 신메뉴가 아니다 이 메뉴는 통으로 썰어낸 감자를 맥도날드만의 노하우로 튀겨낸 남다른 맛과 바삭함 맥도날드의 역사가 담긴 월드 클래스 후렌치 후라이  이다 단품가격은 4000원이다')]"
      ]
     },
     "execution_count": 45,
     "metadata": {},
     "output_type": "execute_result"
    }
   ],
   "source": [
    "split_docs"
   ]
  },
  {
   "cell_type": "code",
   "execution_count": 46,
   "id": "06f10f94",
   "metadata": {},
   "outputs": [],
   "source": [
    "from kiwipiepy import Kiwi\n",
    "from konlpy.tag import Kkma, Okt\n",
    "from langchain.retrievers import EnsembleRetriever\n",
    "from langchain_community.retrievers import BM25Retriever\n",
    "from langchain_core.documents import Document\n",
    "from langchain.vectorstores import FAISS\n",
    "from langchain_openai import OpenAIEmbeddings\n",
    "\n",
    "kkma = Kkma()\n",
    "okt = Okt()\n",
    "kiwi = Kiwi()"
   ]
  },
  {
   "cell_type": "code",
   "execution_count": 47,
   "id": "372e7dc3",
   "metadata": {},
   "outputs": [
    {
     "name": "stdout",
     "output_type": "stream",
     "text": [
      "\n",
      "첫 번째 분할 문서의 토큰화 결과:\n",
      "['메뉴', '이름', '맥크리스피', '스리라차', '마요', '버거', '카테고리', '는', '버거', '이', '며', '신', '메뉴', '이', '다', '이', '메뉴', '는', '빠삭', '하', 'ᆫ', '통닭', '다리', '살', '케이준', '패티', '에', '스리라차', '말', '어요', '소스', '를', '더', '하', '어', '매콤', '고소', '하', 'ᆫ', '맛', '이', '다', '식재료', '는', '난류', '우유', '대두', '밀', '토마토', '닭고기', '쇠고기', '가', '들어가', 'ᆫ다', '중량', '은', '289', 'g', '이', '다', '열량', '은', '663', 'kcal', '이', '다', '단', '품', '가격', '은', '8600', '원', '세트', '가격', '은', '10500', '원', '이', '다']\n",
      "79\n"
     ]
    }
   ],
   "source": [
    "# Kiwi tokenizer를 사용하여 토큰화, 엄청 빠름(0.0초)\n",
    "def kiwi_tokenize(text):\n",
    "    return [token.form for token in kiwi.tokenize(text)]\n",
    "\n",
    "# 결과 확인\n",
    "print(\"\\n첫 번째 분할 문서의 토큰화 결과:\")\n",
    "tokenized_result = kiwi_tokenize(split_docs[0].page_content)\n",
    "print(tokenized_result)\n",
    "print(len(tokenized_result))"
   ]
  },
  {
   "cell_type": "code",
   "execution_count": 48,
   "id": "de61af0c",
   "metadata": {},
   "outputs": [
    {
     "name": "stdout",
     "output_type": "stream",
     "text": [
      "\n",
      "첫 번째 분할 문서의 토큰화 결과:\n",
      "['메뉴', '이름', '맥', '크리스피', '스', '리라', '차', '마', '요', '버거', '카테고리', '는', '버거', '이', '며', '신', '메뉴', '이', '다', '이', '메뉴', '는', '빠삭', '하', 'ㄴ', '통닭', '다리', '살', '케이', '주', 'ㄴ', '패티', '에', '스', '리라', '차', '마', '요', '소스', '를', '더하', '어', '매콤', '고소한', '맛', '이', '다', '식재료', '는', '난류', '우유', '대두', '밀', '토마토', '닭고기', '쇠고기', '가', '들어가', 'ㄴ다', '중량', '은', '289', 'g', '이다', '열량', '은', '663', 'kcal', '이', '다', '단', '품', '가격', '은', '8600', '원', '세트', '가격', '은', '10500', '원', '이', '다']\n"
     ]
    },
    {
     "data": {
      "text/plain": [
       "64"
      ]
     },
     "execution_count": 48,
     "metadata": {},
     "output_type": "execute_result"
    }
   ],
   "source": [
    "# kkma를 사용하여 토큰화, 시간이 꽤 걸림(5.8초)\n",
    "kkma_tokenized_docs = []\n",
    "for doc in split_docs:\n",
    "    tokens = kkma.morphs(doc.page_content)\n",
    "    kkma_tokenized_docs.append(tokens)\n",
    "\n",
    "\n",
    "print(\"\\n첫 번째 분할 문서의 토큰화 결과:\")\n",
    "print(kkma_tokenized_docs[0])  # 첫 분할 문서 토큰화 결과\n",
    "len(tokens)"
   ]
  },
  {
   "cell_type": "code",
   "execution_count": 49,
   "id": "65f2e299",
   "metadata": {},
   "outputs": [
    {
     "name": "stdout",
     "output_type": "stream",
     "text": [
      "\n",
      "첫 번째 분할 문서의 토큰화 결과:\n",
      "['메뉴', '이름', '맥', '크리스', '피', '스리', '라차', '마', '요', '버거', '카테고리', '는', '버거', '이며', '신', '메뉴', '이다', '이', '메뉴', '는', '빠삭', '한', '통닭', '다리', '살', '케이준', '패티', '에', '스리', '라차', '마', '요', '소스', '를', '더해', '매콤', '고소한', '맛', '이다', '식', '재료', '는', '난류', '우유', '대', '두', '밀', '토마토', '닭고기', '쇠고기', '가', '들어간다', '중량', '은', '289', 'g', '이다', '열량', '은', '663', 'kcal', '이다', '단', '품', '가격', '은', '8600원', '세트', '가격', '은', '10500원', '이다']\n"
     ]
    },
    {
     "data": {
      "text/plain": [
       "50"
      ]
     },
     "execution_count": 49,
     "metadata": {},
     "output_type": "execute_result"
    }
   ],
   "source": [
    "# okt를 사용하여 토큰화, 2번째로 빠름(0.2초)\n",
    "okt_tokenized_docs = []\n",
    "for doc in split_docs:\n",
    "    tokens = okt.morphs(doc.page_content)\n",
    "    okt_tokenized_docs.append(tokens)\n",
    "\n",
    "\n",
    "print(\"\\n첫 번째 분할 문서의 토큰화 결과:\")\n",
    "print(okt_tokenized_docs[0])  # 첫 분할 문서 토큰화 결과\n",
    "len(tokens)"
   ]
  },
  {
   "cell_type": "code",
   "execution_count": 50,
   "id": "cf4eeffe",
   "metadata": {},
   "outputs": [],
   "source": [
    "def kkma_tokenize(text):\n",
    "    return [token for token in kkma.morphs(text)]\n",
    "def okt_tokenize(text):\n",
    "    return [token for token in okt.morphs(text)]\n",
    "def kiwi_tokenize(text):\n",
    "    return [token.form for token in kiwi.tokenize(text)]"
   ]
  },
  {
   "cell_type": "code",
   "execution_count": 51,
   "id": "4e8fded9",
   "metadata": {},
   "outputs": [],
   "source": [
    "from langchain.storage import LocalFileStore\n",
    "from langchain.embeddings import CacheBackedEmbeddings\n",
    "\n",
    "embedding = OpenAIEmbeddings(model=\"text-embedding-3-large\")  # OpenAI 임베딩을 사용합니다.\n",
    "store = LocalFileStore(\"./.cache2\")\n",
    "cached_embedder = CacheBackedEmbeddings.from_bytes_store(\n",
    "    underlying_embeddings=embedding,\n",
    "    document_embedding_cache=store,\n",
    "    namespace=embedding.model,  # 기본 임베딩과 저장소를 사용하여 캐시 지원 임베딩을 생성\n",
    ")\n",
    "\n",
    "faiss_vectorstore = FAISS.from_documents(\n",
    "    split_docs,\n",
    "    cached_embedder,\n",
    ")\n",
    "faiss = faiss_vectorstore.as_retriever(search_kwargs={\"k\": 1})"
   ]
  },
  {
   "cell_type": "code",
   "execution_count": 52,
   "id": "f56ea0cb",
   "metadata": {},
   "outputs": [],
   "source": [
    "kiwi_bm25 = BM25Retriever.from_documents(split_docs, preprocess_func=kiwi_tokenize)\n",
    "kkma_bm25 = BM25Retriever.from_documents(split_docs, preprocess_func=kkma_tokenize)\n",
    "okt_bm25 = BM25Retriever.from_documents(split_docs, preprocess_func=okt_tokenize)"
   ]
  },
  {
   "cell_type": "code",
   "execution_count": 53,
   "id": "ca485725",
   "metadata": {},
   "outputs": [],
   "source": [
    "kiwibm25_faiss_73 = EnsembleRetriever(\n",
    "    retrievers=[kiwi_bm25, faiss],  # 사용할 검색 모델의 리스트\n",
    "    weights=[0.7, 0.3],  # 각 검색 모델의 결과에 적용할 가중치\n",
    "    search_type=\"mmr\",  # 검색 결과의 다양성을 증진시키는 MMR 방식을 사용\n",
    ")\n",
    "kiwibm25_faiss_37 = EnsembleRetriever(\n",
    "    retrievers=[kiwi_bm25, faiss],  # 사용할 검색 모델의 리스트\n",
    "    weights=[0.3, 0.7],  # 각 검색 모델의 결과에 적용할 가중치\n",
    "    search_type=\"mmr\",  # 검색 결과의 다양성을 증진시키는 MMR 방식을 사용\n",
    ")\n",
    "kkma_bm25_faiss_73 = EnsembleRetriever(\n",
    "    retrievers=[kkma_bm25, faiss],  # 사용할 검색 모델의 리스트\n",
    "    weights=[0.7, 0.3],  # 각 검색 모델의 결과에 적용할 가중치\n",
    "    search_type=\"mmr\",  # 검색 결과의 다양성을 증진시키는 MMR 방식을 사용\n",
    ")\n",
    "kkma_bm25_faiss_37 = EnsembleRetriever(\n",
    "    retrievers=[kkma_bm25, faiss],  # 사용할 검색 모델의 리스트\n",
    "    weights=[0.3, 0.7],  # 각 검색 모델의 결과에 적용할 가중치\n",
    "    search_type=\"mmr\",  # 검색 결과의 다양성을 증진시키는 MMR 방식을 사용\n",
    ")\n",
    "okt_bm25_faiss_73 = EnsembleRetriever(\n",
    "    retrievers=[okt_bm25, faiss],  # 사용할 검색 모델의 리스트\n",
    "    weights=[0.7, 0.3],  # 각 검색 모델의 결과에 적용할 가중치\n",
    "    search_type=\"mmr\",  # 검색 결과의 다양성을 증진시키는 MMR 방식을 사용\n",
    ")\n",
    "okt_bm25_faiss_37 = EnsembleRetriever(\n",
    "    retrievers=[okt_bm25, faiss],  # 사용할 검색 모델의 리스트\n",
    "    weights=[0.3, 0.7],  # 각 검색 모델의 결과에 적용할 가중치\n",
    "    search_type=\"mmr\",  # 검색 결과의 다양성을 증진시키는 MMR 방식을 사용\n",
    ")"
   ]
  },
  {
   "cell_type": "code",
   "execution_count": 54,
   "id": "10d37462",
   "metadata": {},
   "outputs": [],
   "source": [
    "retrievers = {\n",
    "    \"kiwi_bm25\": kiwi_bm25,\n",
    "    \"kiwi_bm25_faiss_73\": kiwibm25_faiss_73,\n",
    "    \"kiwi_bm25_faiss_37\": kiwibm25_faiss_37,\n",
    "    \"kkma_bm25\": kkma_bm25,\n",
    "    \"kkma_bm25_faiss_73\": kkma_bm25_faiss_73,\n",
    "    \"kkma_bm25_faiss_37\": kkma_bm25_faiss_37,\n",
    "    \"okt_bm25\": okt_bm25,\n",
    "    \"okt_bm25_faiss_73\": okt_bm25_faiss_73,\n",
    "    \"okt_bm25_faiss_37\": okt_bm25_faiss_37,\n",
    "}"
   ]
  },
  {
   "cell_type": "code",
   "execution_count": 55,
   "id": "1be0027d",
   "metadata": {},
   "outputs": [],
   "source": [
    "def print_search_results(retrievers, query):\n",
    "    print(f\"Query: {query}\")\n",
    "    for name, retriever in retrievers.items():\n",
    "        print(f\"{name}    \\t: {retriever.invoke(query)[0].page_content}\")\n",
    "    print(\"===\" * 20)"
   ]
  },
  {
   "cell_type": "code",
   "execution_count": 56,
   "id": "f248200c",
   "metadata": {},
   "outputs": [
    {
     "name": "stdout",
     "output_type": "stream",
     "text": [
      "Query: 닭고기\n",
      "kiwi_bm25    \t: 메뉴이름  맥크리스피 클래식 버거 카테고리는 버거 이며 신메뉴이다 이 메뉴는  통닭다리살 겉바속촉 케이준 치킨 패티 치킨 버거 본연의 맛에 충실한 클래식 버거  이다 식재료는 난류우유대두밀토마토닭고기쇠고기가 들어간다 중량은 210g이다 열량은 603kcal이다 단품가격은 6700원 세트가격은 8700원이다\n",
      "kiwi_bm25_faiss_73    \t: 메뉴이름  맥크리스피 디럭스 버거 카테고리는 버거 이며 신메뉴이다 이 메뉴는  통닭다리살 겉바속촉 케이준 치킨 패티 촉촉한 포테이토 브리오쉬 번 스페셜 스모키 소스가 선사하는 놀랍도록 새로운 맛의 치킨 버거  이다 식재료는 난류우유대두밀토마토닭고기쇠고기가 들어간다 중량은 276g이다 열량은 614kcal이다 단품가격은 7600원 세트가격은 9200원이다\n",
      "kiwi_bm25_faiss_37    \t: 메뉴이름  맥크리스피 디럭스 버거 카테고리는 버거 이며 신메뉴이다 이 메뉴는  통닭다리살 겉바속촉 케이준 치킨 패티 촉촉한 포테이토 브리오쉬 번 스페셜 스모키 소스가 선사하는 놀랍도록 새로운 맛의 치킨 버거  이다 식재료는 난류우유대두밀토마토닭고기쇠고기가 들어간다 중량은 276g이다 열량은 614kcal이다 단품가격은 7600원 세트가격은 9200원이다\n",
      "kkma_bm25    \t: 메뉴이름  맥치킨 버거 카테고리는 버거 이며 신메뉴가 아니다 이 메뉴는 바삭한 치킨 패티 고소한 화이트 마요 소스와 아삭한 양상추가 함께 더 업그레이드된 맛으로 돌아온 맥치킨   이다 식재료는 난류대두밀닭고기가 들어간다 중량은 206g이다 열량은 523kcal이다 단품가격은 4300원 세트가격은 6700원이다\n",
      "kkma_bm25_faiss_73    \t: 메뉴이름  맥크리스피 디럭스 버거 카테고리는 버거 이며 신메뉴이다 이 메뉴는  통닭다리살 겉바속촉 케이준 치킨 패티 촉촉한 포테이토 브리오쉬 번 스페셜 스모키 소스가 선사하는 놀랍도록 새로운 맛의 치킨 버거  이다 식재료는 난류우유대두밀토마토닭고기쇠고기가 들어간다 중량은 276g이다 열량은 614kcal이다 단품가격은 7600원 세트가격은 9200원이다\n",
      "kkma_bm25_faiss_37    \t: 메뉴이름  맥크리스피 디럭스 버거 카테고리는 버거 이며 신메뉴이다 이 메뉴는  통닭다리살 겉바속촉 케이준 치킨 패티 촉촉한 포테이토 브리오쉬 번 스페셜 스모키 소스가 선사하는 놀랍도록 새로운 맛의 치킨 버거  이다 식재료는 난류우유대두밀토마토닭고기쇠고기가 들어간다 중량은 276g이다 열량은 614kcal이다 단품가격은 7600원 세트가격은 9200원이다\n",
      "okt_bm25    \t: 메뉴이름  맥크리스피 클래식 버거 카테고리는 버거 이며 신메뉴이다 이 메뉴는  통닭다리살 겉바속촉 케이준 치킨 패티 치킨 버거 본연의 맛에 충실한 클래식 버거  이다 식재료는 난류우유대두밀토마토닭고기쇠고기가 들어간다 중량은 210g이다 열량은 603kcal이다 단품가격은 6700원 세트가격은 8700원이다\n",
      "okt_bm25_faiss_73    \t: 메뉴이름  맥크리스피 클래식 버거 카테고리는 버거 이며 신메뉴이다 이 메뉴는  통닭다리살 겉바속촉 케이준 치킨 패티 치킨 버거 본연의 맛에 충실한 클래식 버거  이다 식재료는 난류우유대두밀토마토닭고기쇠고기가 들어간다 중량은 210g이다 열량은 603kcal이다 단품가격은 6700원 세트가격은 8700원이다\n",
      "okt_bm25_faiss_37    \t: 메뉴이름  맥크리스피 디럭스 버거 카테고리는 버거 이며 신메뉴이다 이 메뉴는  통닭다리살 겉바속촉 케이준 치킨 패티 촉촉한 포테이토 브리오쉬 번 스페셜 스모키 소스가 선사하는 놀랍도록 새로운 맛의 치킨 버거  이다 식재료는 난류우유대두밀토마토닭고기쇠고기가 들어간다 중량은 276g이다 열량은 614kcal이다 단품가격은 7600원 세트가격은 9200원이다\n",
      "============================================================\n",
      "Query: 굴\n",
      "kiwi_bm25    \t: 메뉴이름  후렌치후라이 라지 카테고리는 사이드이며 신메뉴가 아니다 이 메뉴는 통으로 썰어낸 감자를 맥도날드만의 노하우로 튀겨낸 남다른 맛과 바삭함 맥도날드의 역사가 담긴 월드 클래스 후렌치 후라이  이다 단품가격은 4000원이다\n",
      "kiwi_bm25_faiss_73    \t: 메뉴이름  후렌치후라이 라지 카테고리는 사이드이며 신메뉴가 아니다 이 메뉴는 통으로 썰어낸 감자를 맥도날드만의 노하우로 튀겨낸 남다른 맛과 바삭함 맥도날드의 역사가 담긴 월드 클래스 후렌치 후라이  이다 단품가격은 4000원이다\n",
      "kiwi_bm25_faiss_37    \t: 메뉴이름  에그 불고기 버거 카테고리는 버거 이며 신메뉴가 아니다 이 메뉴는 불고기 버거에 국내산 등급 계란을 더해 맛의 정점을 찍다  이다 식재료는 난류대두밀돼지고기조개굴가 들어간다 중량은 222g이다 열량은 491kcal이다 단품가격은 5100원 세트가격은 7300원이다\n",
      "kkma_bm25    \t: 메뉴이름  슈슈 버거 카테고리는 버거 이며 신메뉴가 아니다 이 메뉴는 탱글한 통새우살 가득 슈슈 버거 이다 식재료는 난류우유대두밀토마토새우쇠고기굴가 들어간다 중량은 224g이다 열량은 409kcal이다 단품가격은 5500원 세트가격은 7300원이다\n",
      "kkma_bm25_faiss_73    \t: 메뉴이름  슈슈 버거 카테고리는 버거 이며 신메뉴가 아니다 이 메뉴는 탱글한 통새우살 가득 슈슈 버거 이다 식재료는 난류우유대두밀토마토새우쇠고기굴가 들어간다 중량은 224g이다 열량은 409kcal이다 단품가격은 5500원 세트가격은 7300원이다\n",
      "kkma_bm25_faiss_37    \t: 메뉴이름  에그 불고기 버거 카테고리는 버거 이며 신메뉴가 아니다 이 메뉴는 불고기 버거에 국내산 등급 계란을 더해 맛의 정점을 찍다  이다 식재료는 난류대두밀돼지고기조개굴가 들어간다 중량은 222g이다 열량은 491kcal이다 단품가격은 5100원 세트가격은 7300원이다\n",
      "okt_bm25    \t: 메뉴이름  슈슈 버거 카테고리는 버거 이며 신메뉴가 아니다 이 메뉴는 탱글한 통새우살 가득 슈슈 버거 이다 식재료는 난류우유대두밀토마토새우쇠고기굴가 들어간다 중량은 224g이다 열량은 409kcal이다 단품가격은 5500원 세트가격은 7300원이다\n",
      "okt_bm25_faiss_73    \t: 메뉴이름  에그 불고기 버거 카테고리는 버거 이며 신메뉴가 아니다 이 메뉴는 불고기 버거에 국내산 등급 계란을 더해 맛의 정점을 찍다  이다 식재료는 난류대두밀돼지고기조개굴가 들어간다 중량은 222g이다 열량은 491kcal이다 단품가격은 5100원 세트가격은 7300원이다\n",
      "okt_bm25_faiss_37    \t: 메뉴이름  에그 불고기 버거 카테고리는 버거 이며 신메뉴가 아니다 이 메뉴는 불고기 버거에 국내산 등급 계란을 더해 맛의 정점을 찍다  이다 식재료는 난류대두밀돼지고기조개굴가 들어간다 중량은 222g이다 열량은 491kcal이다 단품가격은 5100원 세트가격은 7300원이다\n",
      "============================================================\n",
      "Query: 음료\n",
      "kiwi_bm25    \t: 메뉴이름  탄산 라지 카테고리는 음료 이며 신메뉴가 아니다 이 메뉴는 갈증해소 뿐만이 아니라 기분까지 상쾌하게 코카콜라 이다 단품가격은 3100원이다\n",
      "kiwi_bm25_faiss_73    \t: 메뉴이름  탄산 라지 카테고리는 음료 이며 신메뉴가 아니다 이 메뉴는 갈증해소 뿐만이 아니라 기분까지 상쾌하게 코카콜라 이다 단품가격은 3100원이다\n",
      "kiwi_bm25_faiss_37    \t: 메뉴이름  탄산 라지 카테고리는 음료 이며 신메뉴가 아니다 이 메뉴는 갈증해소 뿐만이 아니라 기분까지 상쾌하게 코카콜라 이다 단품가격은 3100원이다\n",
      "kkma_bm25    \t: 메뉴이름  탄산 라지 카테고리는 음료 이며 신메뉴가 아니다 이 메뉴는 갈증해소 뿐만이 아니라 기분까지 상쾌하게 코카콜라 이다 단품가격은 3100원이다\n",
      "kkma_bm25_faiss_73    \t: 메뉴이름  탄산 라지 카테고리는 음료 이며 신메뉴가 아니다 이 메뉴는 갈증해소 뿐만이 아니라 기분까지 상쾌하게 코카콜라 이다 단품가격은 3100원이다\n",
      "kkma_bm25_faiss_37    \t: 메뉴이름  탄산 라지 카테고리는 음료 이며 신메뉴가 아니다 이 메뉴는 갈증해소 뿐만이 아니라 기분까지 상쾌하게 코카콜라 이다 단품가격은 3100원이다\n",
      "okt_bm25    \t: 메뉴이름  탄산 라지 카테고리는 음료 이며 신메뉴가 아니다 이 메뉴는 갈증해소 뿐만이 아니라 기분까지 상쾌하게 코카콜라 이다 단품가격은 3100원이다\n",
      "okt_bm25_faiss_73    \t: 메뉴이름  탄산 라지 카테고리는 음료 이며 신메뉴가 아니다 이 메뉴는 갈증해소 뿐만이 아니라 기분까지 상쾌하게 코카콜라 이다 단품가격은 3100원이다\n",
      "okt_bm25_faiss_37    \t: 메뉴이름  탄산 라지 카테고리는 음료 이며 신메뉴가 아니다 이 메뉴는 갈증해소 뿐만이 아니라 기분까지 상쾌하게 코카콜라 이다 단품가격은 3100원이다\n",
      "============================================================\n",
      "Query: 신메뉴\n",
      "kiwi_bm25    \t: 메뉴이름  탄산 라지 카테고리는 음료 이며 신메뉴가 아니다 이 메뉴는 갈증해소 뿐만이 아니라 기분까지 상쾌하게 코카콜라 이다 단품가격은 3100원이다\n",
      "kiwi_bm25_faiss_73    \t: 메뉴이름  탄산 미디움 카테고리는 음료 이며 신메뉴가 아니다 이 메뉴는 갈증해소 뿐만이 아니라 기분까지 상쾌하게 코카콜라 이다 단품가격은 2600원이다\n",
      "kiwi_bm25_faiss_37    \t: 메뉴이름  탄산 미디움 카테고리는 음료 이며 신메뉴가 아니다 이 메뉴는 갈증해소 뿐만이 아니라 기분까지 상쾌하게 코카콜라 이다 단품가격은 2600원이다\n",
      "kkma_bm25    \t: 메뉴이름  탄산 라지 카테고리는 음료 이며 신메뉴가 아니다 이 메뉴는 갈증해소 뿐만이 아니라 기분까지 상쾌하게 코카콜라 이다 단품가격은 3100원이다\n",
      "kkma_bm25_faiss_73    \t: 메뉴이름  탄산 미디움 카테고리는 음료 이며 신메뉴가 아니다 이 메뉴는 갈증해소 뿐만이 아니라 기분까지 상쾌하게 코카콜라 이다 단품가격은 2600원이다\n",
      "kkma_bm25_faiss_37    \t: 메뉴이름  탄산 미디움 카테고리는 음료 이며 신메뉴가 아니다 이 메뉴는 갈증해소 뿐만이 아니라 기분까지 상쾌하게 코카콜라 이다 단품가격은 2600원이다\n",
      "okt_bm25    \t: 메뉴이름  탄산 라지 카테고리는 음료 이며 신메뉴가 아니다 이 메뉴는 갈증해소 뿐만이 아니라 기분까지 상쾌하게 코카콜라 이다 단품가격은 3100원이다\n",
      "okt_bm25_faiss_73    \t: 메뉴이름  탄산 미디움 카테고리는 음료 이며 신메뉴가 아니다 이 메뉴는 갈증해소 뿐만이 아니라 기분까지 상쾌하게 코카콜라 이다 단품가격은 2600원이다\n",
      "okt_bm25_faiss_37    \t: 메뉴이름  탄산 미디움 카테고리는 음료 이며 신메뉴가 아니다 이 메뉴는 갈증해소 뿐만이 아니라 기분까지 상쾌하게 코카콜라 이다 단품가격은 2600원이다\n",
      "============================================================\n",
      "Query: 버거\n",
      "kiwi_bm25    \t: 메뉴이름  맥크리스피 클래식 버거 카테고리는 버거 이며 신메뉴이다 이 메뉴는  통닭다리살 겉바속촉 케이준 치킨 패티 치킨 버거 본연의 맛에 충실한 클래식 버거  이다 식재료는 난류우유대두밀토마토닭고기쇠고기가 들어간다 중량은 210g이다 열량은 603kcal이다 단품가격은 6700원 세트가격은 8700원이다\n",
      "kiwi_bm25_faiss_73    \t: 메뉴이름  맥크리스피 클래식 버거 카테고리는 버거 이며 신메뉴이다 이 메뉴는  통닭다리살 겉바속촉 케이준 치킨 패티 치킨 버거 본연의 맛에 충실한 클래식 버거  이다 식재료는 난류우유대두밀토마토닭고기쇠고기가 들어간다 중량은 210g이다 열량은 603kcal이다 단품가격은 6700원 세트가격은 8700원이다\n",
      "kiwi_bm25_faiss_37    \t: 메뉴이름  더블 불고기 버거 카테고리는 버거 이며 신메뉴가 아니다 이 메뉴는 진한 불고기 소스의 패티가 두 장 여기에 고소한 치즈와 마요네즈 신선한 양상추를 곁들인 깊고 풍부한 맛   이다 식재료는 난류우유대두밀돼지고기조개굴가 들어간다 중량은 237g이다 열량은 635kcal이다 단품가격은 5300원 세트가격은 7500원이다\n",
      "kkma_bm25    \t: 메뉴이름  맥크리스피 클래식 버거 카테고리는 버거 이며 신메뉴이다 이 메뉴는  통닭다리살 겉바속촉 케이준 치킨 패티 치킨 버거 본연의 맛에 충실한 클래식 버거  이다 식재료는 난류우유대두밀토마토닭고기쇠고기가 들어간다 중량은 210g이다 열량은 603kcal이다 단품가격은 6700원 세트가격은 8700원이다\n",
      "kkma_bm25_faiss_73    \t: 메뉴이름  맥크리스피 클래식 버거 카테고리는 버거 이며 신메뉴이다 이 메뉴는  통닭다리살 겉바속촉 케이준 치킨 패티 치킨 버거 본연의 맛에 충실한 클래식 버거  이다 식재료는 난류우유대두밀토마토닭고기쇠고기가 들어간다 중량은 210g이다 열량은 603kcal이다 단품가격은 6700원 세트가격은 8700원이다\n",
      "kkma_bm25_faiss_37    \t: 메뉴이름  더블 불고기 버거 카테고리는 버거 이며 신메뉴가 아니다 이 메뉴는 진한 불고기 소스의 패티가 두 장 여기에 고소한 치즈와 마요네즈 신선한 양상추를 곁들인 깊고 풍부한 맛   이다 식재료는 난류우유대두밀돼지고기조개굴가 들어간다 중량은 237g이다 열량은 635kcal이다 단품가격은 5300원 세트가격은 7500원이다\n",
      "okt_bm25    \t: 메뉴이름  맥크리스피 클래식 버거 카테고리는 버거 이며 신메뉴이다 이 메뉴는  통닭다리살 겉바속촉 케이준 치킨 패티 치킨 버거 본연의 맛에 충실한 클래식 버거  이다 식재료는 난류우유대두밀토마토닭고기쇠고기가 들어간다 중량은 210g이다 열량은 603kcal이다 단품가격은 6700원 세트가격은 8700원이다\n",
      "okt_bm25_faiss_73    \t: 메뉴이름  맥크리스피 클래식 버거 카테고리는 버거 이며 신메뉴이다 이 메뉴는  통닭다리살 겉바속촉 케이준 치킨 패티 치킨 버거 본연의 맛에 충실한 클래식 버거  이다 식재료는 난류우유대두밀토마토닭고기쇠고기가 들어간다 중량은 210g이다 열량은 603kcal이다 단품가격은 6700원 세트가격은 8700원이다\n",
      "okt_bm25_faiss_37    \t: 메뉴이름  더블 불고기 버거 카테고리는 버거 이며 신메뉴가 아니다 이 메뉴는 진한 불고기 소스의 패티가 두 장 여기에 고소한 치즈와 마요네즈 신선한 양상추를 곁들인 깊고 풍부한 맛   이다 식재료는 난류우유대두밀돼지고기조개굴가 들어간다 중량은 237g이다 열량은 635kcal이다 단품가격은 5300원 세트가격은 7500원이다\n",
      "============================================================\n",
      "Query: 매운맛\n",
      "kiwi_bm25    \t: 메뉴이름  1955 버거 카테고리는 버거 이며 신메뉴가 아니다 이 메뉴는 g 두툼한 순 쇠고기 패티 특별한  소스에 깊은 풍미의 그릴드 어니언까지 맥도날드가 처음 생긴 년의 맛을 담은 영원한 오리지널  버거    이다 식재료는 난류우유대두밀돼지고기토마토쇠고기가 들어간다 중량은 264g이다 열량은 572kcal이다 단품가격은 7200원 세트가격은 9100원이다\n",
      "kiwi_bm25_faiss_73    \t: 메뉴이름  1955 버거 카테고리는 버거 이며 신메뉴가 아니다 이 메뉴는 g 두툼한 순 쇠고기 패티 특별한  소스에 깊은 풍미의 그릴드 어니언까지 맥도날드가 처음 생긴 년의 맛을 담은 영원한 오리지널  버거    이다 식재료는 난류우유대두밀돼지고기토마토쇠고기가 들어간다 중량은 264g이다 열량은 572kcal이다 단품가격은 7200원 세트가격은 9100원이다\n",
      "kiwi_bm25_faiss_37    \t: 메뉴이름  맥크리스피 스리라차 마요 버거 카테고리는 버거 이며 신메뉴이다 이 메뉴는 빠삭한  통닭다리살 케이준 패티에 스리라차 마요 소스를 더해 매콤 고소한 맛  이다 식재료는 난류우유대두밀토마토닭고기쇠고기가 들어간다 중량은 289g이다 열량은 663kcal이다 단품가격은 8600원 세트가격은 10500원이다\n",
      "kkma_bm25    \t: 메뉴이름  후렌치후라이 라지 카테고리는 사이드이며 신메뉴가 아니다 이 메뉴는 통으로 썰어낸 감자를 맥도날드만의 노하우로 튀겨낸 남다른 맛과 바삭함 맥도날드의 역사가 담긴 월드 클래스 후렌치 후라이  이다 단품가격은 4000원이다\n",
      "kkma_bm25_faiss_73    \t: 메뉴이름  후렌치후라이 라지 카테고리는 사이드이며 신메뉴가 아니다 이 메뉴는 통으로 썰어낸 감자를 맥도날드만의 노하우로 튀겨낸 남다른 맛과 바삭함 맥도날드의 역사가 담긴 월드 클래스 후렌치 후라이  이다 단품가격은 4000원이다\n",
      "kkma_bm25_faiss_37    \t: 메뉴이름  맥크리스피 스리라차 마요 버거 카테고리는 버거 이며 신메뉴이다 이 메뉴는 빠삭한  통닭다리살 케이준 패티에 스리라차 마요 소스를 더해 매콤 고소한 맛  이다 식재료는 난류우유대두밀토마토닭고기쇠고기가 들어간다 중량은 289g이다 열량은 663kcal이다 단품가격은 8600원 세트가격은 10500원이다\n",
      "okt_bm25    \t: 메뉴이름  더블 쿼터파운더 치즈 버거 카테고리는 버거 이며 신메뉴가 아니다 이 메뉴는 좋아하는건 더 많이 즐기시라고 두 배 이상 커진  파운드 비프 패티가 두 장 그램육즙이 풍부한 고기 맛을 그대로 살린  순 쇠고기 패티 두 장과 치즈 두 장이 입안 가득 완벽하게 조화되는 놀라운 맛 이다 식재료는 우유대두밀토마토쇠고기가 들어간다 중량은 275g이다 열량은 770kcal이다 단품가격은 8200원 세트가격은 10400원이다\n",
      "okt_bm25_faiss_73    \t: 메뉴이름  더블 쿼터파운더 치즈 버거 카테고리는 버거 이며 신메뉴가 아니다 이 메뉴는 좋아하는건 더 많이 즐기시라고 두 배 이상 커진  파운드 비프 패티가 두 장 그램육즙이 풍부한 고기 맛을 그대로 살린  순 쇠고기 패티 두 장과 치즈 두 장이 입안 가득 완벽하게 조화되는 놀라운 맛 이다 식재료는 우유대두밀토마토쇠고기가 들어간다 중량은 275g이다 열량은 770kcal이다 단품가격은 8200원 세트가격은 10400원이다\n",
      "okt_bm25_faiss_37    \t: 메뉴이름  맥크리스피 스리라차 마요 버거 카테고리는 버거 이며 신메뉴이다 이 메뉴는 빠삭한  통닭다리살 케이준 패티에 스리라차 마요 소스를 더해 매콤 고소한 맛  이다 식재료는 난류우유대두밀토마토닭고기쇠고기가 들어간다 중량은 289g이다 열량은 663kcal이다 단품가격은 8600원 세트가격은 10500원이다\n",
      "============================================================\n"
     ]
    }
   ],
   "source": [
    "print_search_results(retrievers, \"닭고기\")\n",
    "print_search_results(retrievers, \"굴\")\n",
    "print_search_results(retrievers, \"음료\")\n",
    "print_search_results(retrievers, \"신메뉴\")\n",
    "print_search_results(retrievers, \"버거\")\n",
    "print_search_results(retrievers, \"매운맛\")"
   ]
  },
  {
   "cell_type": "markdown",
   "id": "835eb07f",
   "metadata": {},
   "source": [
    "`ensemble_retriever` 객체의 `get_relevant_documents()` 메서드를 호출하여 관련성 높은 문서를 검색합니다.\n"
   ]
  },
  {
   "cell_type": "code",
   "execution_count": 61,
   "id": "c619ec56",
   "metadata": {},
   "outputs": [],
   "source": [
    "def results(query):\n",
    "    print(f\"kiwibm25_faiss_73:{kiwibm25_faiss_73.invoke(query)[0].page_content}\")\n",
    "    print(\"=================================================\")\n",
    "    print(f\"kiwibm25_faiss_37:{kiwibm25_faiss_37.invoke(query)[0].page_content}\")\n",
    "    print(\"=================================================\")\n",
    "    print(f\"kkma_bm25_faiss_73:{kkma_bm25_faiss_73.invoke(query)[0].page_content}\")\n",
    "    print(\"=================================================\")\n",
    "    print(f\"kkma_bm25_faiss_37:{kkma_bm25_faiss_37.invoke(query)[0].page_content}\")\n",
    "    print(\"=================================================\")\n",
    "    print(f\"okt_bm25_faiss_73:{okt_bm25_faiss_73.invoke(query)[0].page_content}\")\n",
    "    print(\"=================================================\")\n",
    "    print(f\"okt_bm25_faiss_37:{okt_bm25_faiss_37.invoke(query)[0].page_content}\")"
   ]
  },
  {
   "cell_type": "code",
   "execution_count": 62,
   "id": "cfacdd8d",
   "metadata": {},
   "outputs": [
    {
     "name": "stdout",
     "output_type": "stream",
     "text": [
      "kiwibm25_faiss_73:메뉴이름  맥스파이시 상하이 버거 카테고리는 버거 이며 신메뉴가 아니다 이 메뉴는 쌀가루가 더해져 더 바삭해진  닭가슴살 패티에 아삭아삭한 양상추와 신선한 토마토까지 더 바삭하고 맛있어진 NEW 맥스파이시 상하이 버거로 입맛도 기분도 화끈하게 이다 식재료는 난류대두밀토마토닭고기가 들어간다 중량은 246g이다 열량은 501kcal이다 단품가격은 6300원 세트가격은 8400원이다\n",
      "=================================================\n",
      "kiwibm25_faiss_37:메뉴이름  더블 불고기 버거 카테고리는 버거 이며 신메뉴가 아니다 이 메뉴는 진한 불고기 소스의 패티가 두 장 여기에 고소한 치즈와 마요네즈 신선한 양상추를 곁들인 깊고 풍부한 맛   이다 식재료는 난류우유대두밀돼지고기조개굴가 들어간다 중량은 237g이다 열량은 635kcal이다 단품가격은 5300원 세트가격은 7500원이다\n",
      "=================================================\n",
      "kkma_bm25_faiss_73:메뉴이름  맥크리스피 스리라차 마요 버거 카테고리는 버거 이며 신메뉴이다 이 메뉴는 빠삭한  통닭다리살 케이준 패티에 스리라차 마요 소스를 더해 매콤 고소한 맛  이다 식재료는 난류우유대두밀토마토닭고기쇠고기가 들어간다 중량은 289g이다 열량은 663kcal이다 단품가격은 8600원 세트가격은 10500원이다\n",
      "=================================================\n",
      "kkma_bm25_faiss_37:메뉴이름  더블 불고기 버거 카테고리는 버거 이며 신메뉴가 아니다 이 메뉴는 진한 불고기 소스의 패티가 두 장 여기에 고소한 치즈와 마요네즈 신선한 양상추를 곁들인 깊고 풍부한 맛   이다 식재료는 난류우유대두밀돼지고기조개굴가 들어간다 중량은 237g이다 열량은 635kcal이다 단품가격은 5300원 세트가격은 7500원이다\n",
      "=================================================\n",
      "okt_bm25_faiss_73:메뉴이름  맥치킨 모짜렐라 버거 카테고리는 버거 이며 신메뉴가 아니다 이 메뉴는 든든한 맥치킨에 골든 모짜렐라 치즈 스틱 개와 매콤한 아라비아따 소스를 더해 강렬하게 재탄생한 맥치킨 모짜렐라   이다 식재료는 난류우유대두밀토마토닭고기가 들어간다 중량은 293g이다 열량은 743kcal이다 단품가격은 5800원 세트가격은 8600원이다\n",
      "=================================================\n",
      "okt_bm25_faiss_37:메뉴이름  더블 불고기 버거 카테고리는 버거 이며 신메뉴가 아니다 이 메뉴는 진한 불고기 소스의 패티가 두 장 여기에 고소한 치즈와 마요네즈 신선한 양상추를 곁들인 깊고 풍부한 맛   이다 식재료는 난류우유대두밀돼지고기조개굴가 들어간다 중량은 237g이다 열량은 635kcal이다 단품가격은 5300원 세트가격은 7500원이다\n"
     ]
    }
   ],
   "source": [
    "# 검색 결과 문서를 가져옵니다.\n",
    "query = \"닭고기가 들어간 버거를 추천해줘\"\n",
    "results(query)"
   ]
  },
  {
   "cell_type": "code",
   "execution_count": 30,
   "id": "bb9fccdb",
   "metadata": {},
   "outputs": [
    {
     "name": "stdout",
     "output_type": "stream",
     "text": [
      "kiwibm25_faiss_73:메뉴이름  맥스파이시 상하이 버거 카테고리는 버거 이며 신메뉴가 아니다 이 메뉴는 쌀가루가 더해져 더 바삭해진  닭가슴살 패티에 아삭아삭한 양상추와 신선한 토마토까지 더 바삭하고 맛있어진 NEW 맥스파이시 상하이 버거로 입맛도 기분도 화끈하게 이다 식재료는 난류대두밀토마토닭고기가 들어간다 중량은 2460g이다 열량은 5010kcal이다 단품가격은 6300원 세트가격은 8400원이다\n",
      "=================================================\n",
      "kiwibm25_faiss_37:메뉴이름  불고기 버거 카테고리는 버거 이며 신메뉴가 아니다 이 메뉴는 한국인의 입맛에 딱 맞는 불고기 소스에 잘 재운 패티와 고소한 마요네즈 신선한 양상추의 맛있는 조합   이다 식재료는 난류대두밀돼지고기조개굴가 들어간다 중량은 1670g이다 열량은 4090kcal이다 단품가격은 4200원 세트가격은 6600원이다\n",
      "=================================================\n",
      "kkma_bm25_faiss_73:메뉴이름  맥스파이시 상하이 버거 카테고리는 버거 이며 신메뉴가 아니다 이 메뉴는 쌀가루가 더해져 더 바삭해진  닭가슴살 패티에 아삭아삭한 양상추와 신선한 토마토까지 더 바삭하고 맛있어진 NEW 맥스파이시 상하이 버거로 입맛도 기분도 화끈하게 이다 식재료는 난류대두밀토마토닭고기가 들어간다 중량은 2460g이다 열량은 5010kcal이다 단품가격은 6300원 세트가격은 8400원이다\n",
      "=================================================\n",
      "kkma_bm25_faiss_37:메뉴이름  불고기 버거 카테고리는 버거 이며 신메뉴가 아니다 이 메뉴는 한국인의 입맛에 딱 맞는 불고기 소스에 잘 재운 패티와 고소한 마요네즈 신선한 양상추의 맛있는 조합   이다 식재료는 난류대두밀돼지고기조개굴가 들어간다 중량은 1670g이다 열량은 4090kcal이다 단품가격은 4200원 세트가격은 6600원이다\n",
      "=================================================\n",
      "okt_bm25_faiss_73:메뉴이름  맥치킨 모짜렐라 버거 카테고리는 버거 이며 신메뉴가 아니다 이 메뉴는 든든한 맥치킨에 골든 모짜렐라 치즈 스틱 개와 매콤한 아라비아따 소스를 더해 강렬하게 재탄생한 맥치킨 모짜렐라   이다 식재료는 난류우유대두밀토마토닭고기가 들어간다 중량은 2930g이다 열량은 7430kcal이다 단품가격은 5800원 세트가격은 8600원이다\n",
      "=================================================\n",
      "okt_bm25_faiss_37:메뉴이름  불고기 버거 카테고리는 버거 이며 신메뉴가 아니다 이 메뉴는 한국인의 입맛에 딱 맞는 불고기 소스에 잘 재운 패티와 고소한 마요네즈 신선한 양상추의 맛있는 조합   이다 식재료는 난류대두밀돼지고기조개굴가 들어간다 중량은 1670g이다 열량은 4090kcal이다 단품가격은 4200원 세트가격은 6600원이다\n"
     ]
    }
   ],
   "source": [
    "query = \"닭고기가 들어가지 않은 버거를 추천해줘\"\n",
    "results(query)"
   ]
  },
  {
   "cell_type": "code",
   "execution_count": 64,
   "id": "6b3c0d4f",
   "metadata": {},
   "outputs": [
    {
     "name": "stdout",
     "output_type": "stream",
     "text": [
      "kiwibm25_faiss_73:메뉴이름  쿼터파운더 치즈 버거 카테고리는 버거 이며 신메뉴가 아니다 이 메뉴는 쿼터파운더라는 이름에서 알 수 있듯이 두 배 이상 커진 파운드그램 비프와 부드러운 치즈 두 장의 환상궁합두툼한 순 쇠고기 패티와 신선한 치즈의 풍부한 맛으로 세계적으로 사랑받고 있는 맥도날드의 대표적인 프리미엄 버거 이다 식재료는 우유대두밀토마토쇠고기가 들어간다 중량은 198g이다 열량은 536kcal이다 단품가격은 6300원 세트가격은 8900원이다\n",
      "=================================================\n",
      "kiwibm25_faiss_37:메뉴이름  탄산 미디움 카테고리는 음료 이며 신메뉴가 아니다 이 메뉴는 갈증해소 뿐만이 아니라 기분까지 상쾌하게 코카콜라 이다 단품가격은 2600원이다\n",
      "=================================================\n",
      "kkma_bm25_faiss_73:메뉴이름  쿼터파운더 치즈 버거 카테고리는 버거 이며 신메뉴가 아니다 이 메뉴는 쿼터파운더라는 이름에서 알 수 있듯이 두 배 이상 커진 파운드그램 비프와 부드러운 치즈 두 장의 환상궁합두툼한 순 쇠고기 패티와 신선한 치즈의 풍부한 맛으로 세계적으로 사랑받고 있는 맥도날드의 대표적인 프리미엄 버거 이다 식재료는 우유대두밀토마토쇠고기가 들어간다 중량은 198g이다 열량은 536kcal이다 단품가격은 6300원 세트가격은 8900원이다\n",
      "=================================================\n",
      "kkma_bm25_faiss_37:메뉴이름  탄산 미디움 카테고리는 음료 이며 신메뉴가 아니다 이 메뉴는 갈증해소 뿐만이 아니라 기분까지 상쾌하게 코카콜라 이다 단품가격은 2600원이다\n",
      "=================================================\n",
      "okt_bm25_faiss_73:메뉴이름  탄산 미디움 카테고리는 음료 이며 신메뉴가 아니다 이 메뉴는 갈증해소 뿐만이 아니라 기분까지 상쾌하게 코카콜라 이다 단품가격은 2600원이다\n",
      "=================================================\n",
      "okt_bm25_faiss_37:메뉴이름  탄산 미디움 카테고리는 음료 이며 신메뉴가 아니다 이 메뉴는 갈증해소 뿐만이 아니라 기분까지 상쾌하게 코카콜라 이다 단품가격은 2600원이다\n"
     ]
    }
   ],
   "source": [
    "query = \"신메뉴는 뭐가있어?\"\n",
    "results(query)"
   ]
  },
  {
   "cell_type": "code",
   "execution_count": 65,
   "id": "44b02ae4",
   "metadata": {},
   "outputs": [
    {
     "name": "stdout",
     "output_type": "stream",
     "text": [
      "kiwibm25_faiss_73:메뉴이름  맥크리스피 스리라차 마요 버거 카테고리는 버거 이며 신메뉴이다 이 메뉴는 빠삭한  통닭다리살 케이준 패티에 스리라차 마요 소스를 더해 매콤 고소한 맛  이다 식재료는 난류우유대두밀토마토닭고기쇠고기가 들어간다 중량은 289g이다 열량은 663kcal이다 단품가격은 8600원 세트가격은 10500원이다\n",
      "=================================================\n",
      "kiwibm25_faiss_37:메뉴이름  맥크리스피 스리라차 마요 버거 카테고리는 버거 이며 신메뉴이다 이 메뉴는 빠삭한  통닭다리살 케이준 패티에 스리라차 마요 소스를 더해 매콤 고소한 맛  이다 식재료는 난류우유대두밀토마토닭고기쇠고기가 들어간다 중량은 289g이다 열량은 663kcal이다 단품가격은 8600원 세트가격은 10500원이다\n",
      "=================================================\n",
      "kkma_bm25_faiss_73:메뉴이름  쿼터파운더 치즈 버거 카테고리는 버거 이며 신메뉴가 아니다 이 메뉴는 쿼터파운더라는 이름에서 알 수 있듯이 두 배 이상 커진 파운드그램 비프와 부드러운 치즈 두 장의 환상궁합두툼한 순 쇠고기 패티와 신선한 치즈의 풍부한 맛으로 세계적으로 사랑받고 있는 맥도날드의 대표적인 프리미엄 버거 이다 식재료는 우유대두밀토마토쇠고기가 들어간다 중량은 198g이다 열량은 536kcal이다 단품가격은 6300원 세트가격은 8900원이다\n",
      "=================================================\n",
      "kkma_bm25_faiss_37:메뉴이름  맥크리스피 스리라차 마요 버거 카테고리는 버거 이며 신메뉴이다 이 메뉴는 빠삭한  통닭다리살 케이준 패티에 스리라차 마요 소스를 더해 매콤 고소한 맛  이다 식재료는 난류우유대두밀토마토닭고기쇠고기가 들어간다 중량은 289g이다 열량은 663kcal이다 단품가격은 8600원 세트가격은 10500원이다\n",
      "=================================================\n",
      "okt_bm25_faiss_73:메뉴이름  맥크리스피 스리라차 마요 버거 카테고리는 버거 이며 신메뉴이다 이 메뉴는 빠삭한  통닭다리살 케이준 패티에 스리라차 마요 소스를 더해 매콤 고소한 맛  이다 식재료는 난류우유대두밀토마토닭고기쇠고기가 들어간다 중량은 289g이다 열량은 663kcal이다 단품가격은 8600원 세트가격은 10500원이다\n",
      "=================================================\n",
      "okt_bm25_faiss_37:메뉴이름  맥크리스피 스리라차 마요 버거 카테고리는 버거 이며 신메뉴이다 이 메뉴는 빠삭한  통닭다리살 케이준 패티에 스리라차 마요 소스를 더해 매콤 고소한 맛  이다 식재료는 난류우유대두밀토마토닭고기쇠고기가 들어간다 중량은 289g이다 열량은 663kcal이다 단품가격은 8600원 세트가격은 10500원이다\n"
     ]
    }
   ],
   "source": [
    "query = \"매콤한 메뉴는 뭐가있어?\"\n",
    "results(query)"
   ]
  },
  {
   "cell_type": "code",
   "execution_count": 67,
   "id": "9fb58c7d",
   "metadata": {},
   "outputs": [
    {
     "name": "stdout",
     "output_type": "stream",
     "text": [
      "kiwibm25_faiss_73:메뉴이름  맥스파이시 상하이 버거 카테고리는 버거 이며 신메뉴가 아니다 이 메뉴는 쌀가루가 더해져 더 바삭해진  닭가슴살 패티에 아삭아삭한 양상추와 신선한 토마토까지 더 바삭하고 맛있어진 NEW 맥스파이시 상하이 버거로 입맛도 기분도 화끈하게 이다 식재료는 난류대두밀토마토닭고기가 들어간다 중량은 246g이다 열량은 501kcal이다 단품가격은 6300원 세트가격은 8400원이다\n",
      "=================================================\n",
      "kiwibm25_faiss_37:메뉴이름  맥크리스피 스리라차 마요 버거 카테고리는 버거 이며 신메뉴이다 이 메뉴는 빠삭한  통닭다리살 케이준 패티에 스리라차 마요 소스를 더해 매콤 고소한 맛  이다 식재료는 난류우유대두밀토마토닭고기쇠고기가 들어간다 중량은 289g이다 열량은 663kcal이다 단품가격은 8600원 세트가격은 10500원이다\n",
      "=================================================\n",
      "kkma_bm25_faiss_73:메뉴이름  맥스파이시 상하이 버거 카테고리는 버거 이며 신메뉴가 아니다 이 메뉴는 쌀가루가 더해져 더 바삭해진  닭가슴살 패티에 아삭아삭한 양상추와 신선한 토마토까지 더 바삭하고 맛있어진 NEW 맥스파이시 상하이 버거로 입맛도 기분도 화끈하게 이다 식재료는 난류대두밀토마토닭고기가 들어간다 중량은 246g이다 열량은 501kcal이다 단품가격은 6300원 세트가격은 8400원이다\n",
      "=================================================\n",
      "kkma_bm25_faiss_37:메뉴이름  맥크리스피 스리라차 마요 버거 카테고리는 버거 이며 신메뉴이다 이 메뉴는 빠삭한  통닭다리살 케이준 패티에 스리라차 마요 소스를 더해 매콤 고소한 맛  이다 식재료는 난류우유대두밀토마토닭고기쇠고기가 들어간다 중량은 289g이다 열량은 663kcal이다 단품가격은 8600원 세트가격은 10500원이다\n",
      "=================================================\n",
      "okt_bm25_faiss_73:메뉴이름  맥크리스피 스리라차 마요 버거 카테고리는 버거 이며 신메뉴이다 이 메뉴는 빠삭한  통닭다리살 케이준 패티에 스리라차 마요 소스를 더해 매콤 고소한 맛  이다 식재료는 난류우유대두밀토마토닭고기쇠고기가 들어간다 중량은 289g이다 열량은 663kcal이다 단품가격은 8600원 세트가격은 10500원이다\n",
      "=================================================\n",
      "okt_bm25_faiss_37:메뉴이름  맥크리스피 스리라차 마요 버거 카테고리는 버거 이며 신메뉴이다 이 메뉴는 빠삭한  통닭다리살 케이준 패티에 스리라차 마요 소스를 더해 매콤 고소한 맛  이다 식재료는 난류우유대두밀토마토닭고기쇠고기가 들어간다 중량은 289g이다 열량은 663kcal이다 단품가격은 8600원 세트가격은 10500원이다\n"
     ]
    }
   ],
   "source": [
    "query = \"매콤하지 않은 메뉴는 뭐가있어?\"\n",
    "results(query)"
   ]
  },
  {
   "cell_type": "code",
   "execution_count": 68,
   "id": "3e1f83f0",
   "metadata": {},
   "outputs": [
    {
     "name": "stdout",
     "output_type": "stream",
     "text": [
      "kiwibm25_faiss_73:메뉴이름  쿼터파운더 치즈 버거 카테고리는 버거 이며 신메뉴가 아니다 이 메뉴는 쿼터파운더라는 이름에서 알 수 있듯이 두 배 이상 커진 파운드그램 비프와 부드러운 치즈 두 장의 환상궁합두툼한 순 쇠고기 패티와 신선한 치즈의 풍부한 맛으로 세계적으로 사랑받고 있는 맥도날드의 대표적인 프리미엄 버거 이다 식재료는 우유대두밀토마토쇠고기가 들어간다 중량은 198g이다 열량은 536kcal이다 단품가격은 6300원 세트가격은 8900원이다\n",
      "=================================================\n",
      "kiwibm25_faiss_37:메뉴이름  불고기 버거 카테고리는 버거 이며 신메뉴가 아니다 이 메뉴는 한국인의 입맛에 딱 맞는 불고기 소스에 잘 재운 패티와 고소한 마요네즈 신선한 양상추의 맛있는 조합   이다 식재료는 난류대두밀돼지고기조개굴가 들어간다 중량은 167g이다 열량은 409kcal이다 단품가격은 4200원 세트가격은 6600원이다\n",
      "=================================================\n",
      "kkma_bm25_faiss_73:메뉴이름  쿼터파운더 치즈 버거 카테고리는 버거 이며 신메뉴가 아니다 이 메뉴는 쿼터파운더라는 이름에서 알 수 있듯이 두 배 이상 커진 파운드그램 비프와 부드러운 치즈 두 장의 환상궁합두툼한 순 쇠고기 패티와 신선한 치즈의 풍부한 맛으로 세계적으로 사랑받고 있는 맥도날드의 대표적인 프리미엄 버거 이다 식재료는 우유대두밀토마토쇠고기가 들어간다 중량은 198g이다 열량은 536kcal이다 단품가격은 6300원 세트가격은 8900원이다\n",
      "=================================================\n",
      "kkma_bm25_faiss_37:메뉴이름  불고기 버거 카테고리는 버거 이며 신메뉴가 아니다 이 메뉴는 한국인의 입맛에 딱 맞는 불고기 소스에 잘 재운 패티와 고소한 마요네즈 신선한 양상추의 맛있는 조합   이다 식재료는 난류대두밀돼지고기조개굴가 들어간다 중량은 167g이다 열량은 409kcal이다 단품가격은 4200원 세트가격은 6600원이다\n",
      "=================================================\n",
      "okt_bm25_faiss_73:메뉴이름  더블 치즈버거 카테고리는 버거 이며 신메뉴가 아니다 이 메뉴는 고소하고 부드러운 치즈와  순 쇠고기 패티가 두개 맥도날드만의 더블 치즈버거   이다 식재료는 우유대두밀토마토쇠고기가 들어간다 중량은 167g이다 열량은 479kcal이다 단품가격은 5600원 세트가격은 7300원이다\n",
      "=================================================\n",
      "okt_bm25_faiss_37:메뉴이름  불고기 버거 카테고리는 버거 이며 신메뉴가 아니다 이 메뉴는 한국인의 입맛에 딱 맞는 불고기 소스에 잘 재운 패티와 고소한 마요네즈 신선한 양상추의 맛있는 조합   이다 식재료는 난류대두밀돼지고기조개굴가 들어간다 중량은 167g이다 열량은 409kcal이다 단품가격은 4200원 세트가격은 6600원이다\n"
     ]
    }
   ],
   "source": [
    "query = \"가장 열량이 낮은 메뉴는 뭐가있어?\"\n",
    "results(query)"
   ]
  },
  {
   "cell_type": "code",
   "execution_count": 69,
   "id": "3f5af2a9",
   "metadata": {},
   "outputs": [
    {
     "name": "stdout",
     "output_type": "stream",
     "text": [
      "kiwibm25_faiss_73:메뉴이름  쿼터파운더 치즈 버거 카테고리는 버거 이며 신메뉴가 아니다 이 메뉴는 쿼터파운더라는 이름에서 알 수 있듯이 두 배 이상 커진 파운드그램 비프와 부드러운 치즈 두 장의 환상궁합두툼한 순 쇠고기 패티와 신선한 치즈의 풍부한 맛으로 세계적으로 사랑받고 있는 맥도날드의 대표적인 프리미엄 버거 이다 식재료는 우유대두밀토마토쇠고기가 들어간다 중량은 198g이다 열량은 536kcal이다 단품가격은 6300원 세트가격은 8900원이다\n",
      "=================================================\n",
      "kiwibm25_faiss_37:메뉴이름  1955 버거 카테고리는 버거 이며 신메뉴가 아니다 이 메뉴는 g 두툼한 순 쇠고기 패티 특별한  소스에 깊은 풍미의 그릴드 어니언까지 맥도날드가 처음 생긴 년의 맛을 담은 영원한 오리지널  버거    이다 식재료는 난류우유대두밀돼지고기토마토쇠고기가 들어간다 중량은 264g이다 열량은 572kcal이다 단품가격은 7200원 세트가격은 9100원이다\n",
      "=================================================\n",
      "kkma_bm25_faiss_73:메뉴이름  슈슈 버거 카테고리는 버거 이며 신메뉴가 아니다 이 메뉴는 탱글한 통새우살 가득 슈슈 버거 이다 식재료는 난류우유대두밀토마토새우쇠고기굴가 들어간다 중량은 224g이다 열량은 409kcal이다 단품가격은 5500원 세트가격은 7300원이다\n",
      "=================================================\n",
      "kkma_bm25_faiss_37:메뉴이름  1955 버거 카테고리는 버거 이며 신메뉴가 아니다 이 메뉴는 g 두툼한 순 쇠고기 패티 특별한  소스에 깊은 풍미의 그릴드 어니언까지 맥도날드가 처음 생긴 년의 맛을 담은 영원한 오리지널  버거    이다 식재료는 난류우유대두밀돼지고기토마토쇠고기가 들어간다 중량은 264g이다 열량은 572kcal이다 단품가격은 7200원 세트가격은 9100원이다\n",
      "=================================================\n",
      "okt_bm25_faiss_73:메뉴이름  슈슈 버거 카테고리는 버거 이며 신메뉴가 아니다 이 메뉴는 탱글한 통새우살 가득 슈슈 버거 이다 식재료는 난류우유대두밀토마토새우쇠고기굴가 들어간다 중량은 224g이다 열량은 409kcal이다 단품가격은 5500원 세트가격은 7300원이다\n",
      "=================================================\n",
      "okt_bm25_faiss_37:메뉴이름  1955 버거 카테고리는 버거 이며 신메뉴가 아니다 이 메뉴는 g 두툼한 순 쇠고기 패티 특별한  소스에 깊은 풍미의 그릴드 어니언까지 맥도날드가 처음 생긴 년의 맛을 담은 영원한 오리지널  버거    이다 식재료는 난류우유대두밀돼지고기토마토쇠고기가 들어간다 중량은 264g이다 열량은 572kcal이다 단품가격은 7200원 세트가격은 9100원이다\n"
     ]
    }
   ],
   "source": [
    "query = \"가장 양이 적은 버거는 뭐야?\"\n",
    "results(query)"
   ]
  },
  {
   "cell_type": "code",
   "execution_count": 70,
   "id": "2007c861",
   "metadata": {},
   "outputs": [
    {
     "name": "stdout",
     "output_type": "stream",
     "text": [
      "kiwibm25_faiss_73:메뉴이름  쿼터파운더 치즈 버거 카테고리는 버거 이며 신메뉴가 아니다 이 메뉴는 쿼터파운더라는 이름에서 알 수 있듯이 두 배 이상 커진 파운드그램 비프와 부드러운 치즈 두 장의 환상궁합두툼한 순 쇠고기 패티와 신선한 치즈의 풍부한 맛으로 세계적으로 사랑받고 있는 맥도날드의 대표적인 프리미엄 버거 이다 식재료는 우유대두밀토마토쇠고기가 들어간다 중량은 198g이다 열량은 536kcal이다 단품가격은 6300원 세트가격은 8900원이다\n",
      "=================================================\n",
      "kiwibm25_faiss_37:메뉴이름  에그 불고기 버거 카테고리는 버거 이며 신메뉴가 아니다 이 메뉴는 불고기 버거에 국내산 등급 계란을 더해 맛의 정점을 찍다  이다 식재료는 난류대두밀돼지고기조개굴가 들어간다 중량은 222g이다 열량은 491kcal이다 단품가격은 5100원 세트가격은 7300원이다\n",
      "=================================================\n",
      "kkma_bm25_faiss_73:메뉴이름  쿼터파운더 치즈 버거 카테고리는 버거 이며 신메뉴가 아니다 이 메뉴는 쿼터파운더라는 이름에서 알 수 있듯이 두 배 이상 커진 파운드그램 비프와 부드러운 치즈 두 장의 환상궁합두툼한 순 쇠고기 패티와 신선한 치즈의 풍부한 맛으로 세계적으로 사랑받고 있는 맥도날드의 대표적인 프리미엄 버거 이다 식재료는 우유대두밀토마토쇠고기가 들어간다 중량은 198g이다 열량은 536kcal이다 단품가격은 6300원 세트가격은 8900원이다\n",
      "=================================================\n",
      "kkma_bm25_faiss_37:메뉴이름  에그 불고기 버거 카테고리는 버거 이며 신메뉴가 아니다 이 메뉴는 불고기 버거에 국내산 등급 계란을 더해 맛의 정점을 찍다  이다 식재료는 난류대두밀돼지고기조개굴가 들어간다 중량은 222g이다 열량은 491kcal이다 단품가격은 5100원 세트가격은 7300원이다\n",
      "=================================================\n",
      "okt_bm25_faiss_73:메뉴이름  에그 불고기 버거 카테고리는 버거 이며 신메뉴가 아니다 이 메뉴는 불고기 버거에 국내산 등급 계란을 더해 맛의 정점을 찍다  이다 식재료는 난류대두밀돼지고기조개굴가 들어간다 중량은 222g이다 열량은 491kcal이다 단품가격은 5100원 세트가격은 7300원이다\n",
      "=================================================\n",
      "okt_bm25_faiss_37:메뉴이름  에그 불고기 버거 카테고리는 버거 이며 신메뉴가 아니다 이 메뉴는 불고기 버거에 국내산 등급 계란을 더해 맛의 정점을 찍다  이다 식재료는 난류대두밀돼지고기조개굴가 들어간다 중량은 222g이다 열량은 491kcal이다 단품가격은 5100원 세트가격은 7300원이다\n"
     ]
    }
   ],
   "source": [
    "query = \"해산물이 들어간 버거는 뭐가있어?\"\n",
    "results(query)"
   ]
  },
  {
   "cell_type": "code",
   "execution_count": null,
   "id": "da45e29e",
   "metadata": {},
   "outputs": [
    {
     "name": "stdout",
     "output_type": "stream",
     "text": [
      "kiwibm25_faiss_73:메뉴이름  쿼터파운더 치즈 버거 카테고리는 버거 이며 신메뉴가 아니다 이 메뉴는 쿼터파운더라는 이름에서 알 수 있듯이 두 배 이상 커진 파운드그램 비프와 부드러운 치즈 두 장의 환상궁합두툼한 순 쇠고기 패티와 신선한 치즈의 풍부한 맛으로 세계적으로 사랑받고 있는 맥도날드의 대표적인 프리미엄 버거 이다 식재료는 우유대두밀토마토쇠고기가 들어간다 중량은 198g이다 열량은 536kcal이다 단품가격은 6300원 세트가격은 8900원이다\n",
      "=================================================\n",
      "kiwibm25_faiss_37:메뉴이름  에그 불고기 버거 카테고리는 버거 이며 신메뉴가 아니다 이 메뉴는 불고기 버거에 국내산 등급 계란을 더해 맛의 정점을 찍다  이다 식재료는 난류대두밀돼지고기조개굴가 들어간다 중량은 222g이다 열량은 491kcal이다 단품가격은 5100원 세트가격은 7300원이다\n",
      "=================================================\n",
      "kkma_bm25_faiss_73:메뉴이름  쿼터파운더 치즈 버거 카테고리는 버거 이며 신메뉴가 아니다 이 메뉴는 쿼터파운더라는 이름에서 알 수 있듯이 두 배 이상 커진 파운드그램 비프와 부드러운 치즈 두 장의 환상궁합두툼한 순 쇠고기 패티와 신선한 치즈의 풍부한 맛으로 세계적으로 사랑받고 있는 맥도날드의 대표적인 프리미엄 버거 이다 식재료는 우유대두밀토마토쇠고기가 들어간다 중량은 198g이다 열량은 536kcal이다 단품가격은 6300원 세트가격은 8900원이다\n",
      "=================================================\n",
      "kkma_bm25_faiss_37:메뉴이름  에그 불고기 버거 카테고리는 버거 이며 신메뉴가 아니다 이 메뉴는 불고기 버거에 국내산 등급 계란을 더해 맛의 정점을 찍다  이다 식재료는 난류대두밀돼지고기조개굴가 들어간다 중량은 222g이다 열량은 491kcal이다 단품가격은 5100원 세트가격은 7300원이다\n",
      "=================================================\n",
      "okt_bm25_faiss_73:메뉴이름  에그 불고기 버거 카테고리는 버거 이며 신메뉴가 아니다 이 메뉴는 불고기 버거에 국내산 등급 계란을 더해 맛의 정점을 찍다  이다 식재료는 난류대두밀돼지고기조개굴가 들어간다 중량은 222g이다 열량은 491kcal이다 단품가격은 5100원 세트가격은 7300원이다\n",
      "=================================================\n",
      "okt_bm25_faiss_37:메뉴이름  에그 불고기 버거 카테고리는 버거 이며 신메뉴가 아니다 이 메뉴는 불고기 버거에 국내산 등급 계란을 더해 맛의 정점을 찍다  이다 식재료는 난류대두밀돼지고기조개굴가 들어간다 중량은 222g이다 열량은 491kcal이다 단품가격은 5100원 세트가격은 7300원이다\n"
     ]
    }
   ],
   "source": [
    "query = \"해산물이 들어간 버거는 뭐가있어?\"\n",
    "results(query)"
   ]
  },
  {
   "cell_type": "code",
   "execution_count": 76,
   "id": "0684187c",
   "metadata": {},
   "outputs": [
    {
     "name": "stdout",
     "output_type": "stream",
     "text": [
      "kiwibm25_faiss_73:메뉴이름  불고기 버거 카테고리는 버거 이며 신메뉴가 아니다 이 메뉴는 한국인의 입맛에 딱 맞는 불고기 소스에 잘 재운 패티와 고소한 마요네즈 신선한 양상추의 맛있는 조합   이다 식재료는 난류대두밀돼지고기조개굴가 들어간다 중량은 167g이다 열량은 409kcal이다 단품가격은 4200원 세트가격은 6600원이다\n",
      "=================================================\n",
      "kiwibm25_faiss_37:메뉴이름  맥크리스피 스리라차 마요 버거 카테고리는 버거 이며 신메뉴이다 이 메뉴는 빠삭한  통닭다리살 케이준 패티에 스리라차 마요 소스를 더해 매콤 고소한 맛  이다 식재료는 난류우유대두밀토마토닭고기쇠고기가 들어간다 중량은 289g이다 열량은 663kcal이다 단품가격은 8600원 세트가격은 10500원이다\n",
      "=================================================\n",
      "kkma_bm25_faiss_73:메뉴이름  후렌치후라이 라지 카테고리는 사이드이며 신메뉴가 아니다 이 메뉴는 통으로 썰어낸 감자를 맥도날드만의 노하우로 튀겨낸 남다른 맛과 바삭함 맥도날드의 역사가 담긴 월드 클래스 후렌치 후라이  이다 단품가격은 4000원이다\n",
      "=================================================\n",
      "kkma_bm25_faiss_37:메뉴이름  맥크리스피 스리라차 마요 버거 카테고리는 버거 이며 신메뉴이다 이 메뉴는 빠삭한  통닭다리살 케이준 패티에 스리라차 마요 소스를 더해 매콤 고소한 맛  이다 식재료는 난류우유대두밀토마토닭고기쇠고기가 들어간다 중량은 289g이다 열량은 663kcal이다 단품가격은 8600원 세트가격은 10500원이다\n",
      "=================================================\n",
      "okt_bm25_faiss_73:메뉴이름  탄산 라지 카테고리는 음료 이며 신메뉴가 아니다 이 메뉴는 갈증해소 뿐만이 아니라 기분까지 상쾌하게 코카콜라 이다 단품가격은 3100원이다\n",
      "=================================================\n",
      "okt_bm25_faiss_37:메뉴이름  맥크리스피 스리라차 마요 버거 카테고리는 버거 이며 신메뉴이다 이 메뉴는 빠삭한  통닭다리살 케이준 패티에 스리라차 마요 소스를 더해 매콤 고소한 맛  이다 식재료는 난류우유대두밀토마토닭고기쇠고기가 들어간다 중량은 289g이다 열량은 663kcal이다 단품가격은 8600원 세트가격은 10500원이다\n"
     ]
    }
   ],
   "source": [
    "query = \"제일 싼 메뉴는 뭐야?\"\n",
    "results(query)"
   ]
  },
  {
   "cell_type": "code",
   "execution_count": 79,
   "id": "fa9036a0",
   "metadata": {},
   "outputs": [
    {
     "name": "stdout",
     "output_type": "stream",
     "text": [
      "kiwibm25_faiss_73:메뉴이름  불고기 버거 카테고리는 버거 이며 신메뉴가 아니다 이 메뉴는 한국인의 입맛에 딱 맞는 불고기 소스에 잘 재운 패티와 고소한 마요네즈 신선한 양상추의 맛있는 조합   이다 식재료는 난류대두밀돼지고기조개굴가 들어간다 중량은 167g이다 열량은 409kcal이다 단품가격은 4200원 세트가격은 6600원이다\n",
      "=================================================\n",
      "kiwibm25_faiss_37:메뉴이름  1955 버거 카테고리는 버거 이며 신메뉴가 아니다 이 메뉴는 g 두툼한 순 쇠고기 패티 특별한  소스에 깊은 풍미의 그릴드 어니언까지 맥도날드가 처음 생긴 년의 맛을 담은 영원한 오리지널  버거    이다 식재료는 난류우유대두밀돼지고기토마토쇠고기가 들어간다 중량은 264g이다 열량은 572kcal이다 단품가격은 7200원 세트가격은 9100원이다\n",
      "=================================================\n",
      "kkma_bm25_faiss_73:메뉴이름  1955 버거 카테고리는 버거 이며 신메뉴가 아니다 이 메뉴는 g 두툼한 순 쇠고기 패티 특별한  소스에 깊은 풍미의 그릴드 어니언까지 맥도날드가 처음 생긴 년의 맛을 담은 영원한 오리지널  버거    이다 식재료는 난류우유대두밀돼지고기토마토쇠고기가 들어간다 중량은 264g이다 열량은 572kcal이다 단품가격은 7200원 세트가격은 9100원이다\n",
      "=================================================\n",
      "kkma_bm25_faiss_37:메뉴이름  1955 버거 카테고리는 버거 이며 신메뉴가 아니다 이 메뉴는 g 두툼한 순 쇠고기 패티 특별한  소스에 깊은 풍미의 그릴드 어니언까지 맥도날드가 처음 생긴 년의 맛을 담은 영원한 오리지널  버거    이다 식재료는 난류우유대두밀돼지고기토마토쇠고기가 들어간다 중량은 264g이다 열량은 572kcal이다 단품가격은 7200원 세트가격은 9100원이다\n",
      "=================================================\n",
      "okt_bm25_faiss_73:메뉴이름  맥크리스피 클래식 버거 카테고리는 버거 이며 신메뉴이다 이 메뉴는  통닭다리살 겉바속촉 케이준 치킨 패티 치킨 버거 본연의 맛에 충실한 클래식 버거  이다 식재료는 난류우유대두밀토마토닭고기쇠고기가 들어간다 중량은 210g이다 열량은 603kcal이다 단품가격은 6700원 세트가격은 8700원이다\n",
      "=================================================\n",
      "okt_bm25_faiss_37:메뉴이름  1955 버거 카테고리는 버거 이며 신메뉴가 아니다 이 메뉴는 g 두툼한 순 쇠고기 패티 특별한  소스에 깊은 풍미의 그릴드 어니언까지 맥도날드가 처음 생긴 년의 맛을 담은 영원한 오리지널  버거    이다 식재료는 난류우유대두밀돼지고기토마토쇠고기가 들어간다 중량은 264g이다 열량은 572kcal이다 단품가격은 7200원 세트가격은 9100원이다\n"
     ]
    }
   ],
   "source": [
    "query = \"제일 싼 버거는 뭐야?\"\n",
    "results(query)"
   ]
  },
  {
   "cell_type": "code",
   "execution_count": 78,
   "id": "fa643f9f",
   "metadata": {},
   "outputs": [
    {
     "name": "stdout",
     "output_type": "stream",
     "text": [
      "kiwibm25_faiss_73:메뉴이름  불고기 버거 카테고리는 버거 이며 신메뉴가 아니다 이 메뉴는 한국인의 입맛에 딱 맞는 불고기 소스에 잘 재운 패티와 고소한 마요네즈 신선한 양상추의 맛있는 조합   이다 식재료는 난류대두밀돼지고기조개굴가 들어간다 중량은 167g이다 열량은 409kcal이다 단품가격은 4200원 세트가격은 6600원이다\n",
      "=================================================\n",
      "kiwibm25_faiss_37:메뉴이름  불고기 버거 카테고리는 버거 이며 신메뉴가 아니다 이 메뉴는 한국인의 입맛에 딱 맞는 불고기 소스에 잘 재운 패티와 고소한 마요네즈 신선한 양상추의 맛있는 조합   이다 식재료는 난류대두밀돼지고기조개굴가 들어간다 중량은 167g이다 열량은 409kcal이다 단품가격은 4200원 세트가격은 6600원이다\n",
      "=================================================\n",
      "kkma_bm25_faiss_73:메뉴이름  불고기 버거 카테고리는 버거 이며 신메뉴가 아니다 이 메뉴는 한국인의 입맛에 딱 맞는 불고기 소스에 잘 재운 패티와 고소한 마요네즈 신선한 양상추의 맛있는 조합   이다 식재료는 난류대두밀돼지고기조개굴가 들어간다 중량은 167g이다 열량은 409kcal이다 단품가격은 4200원 세트가격은 6600원이다\n",
      "=================================================\n",
      "kkma_bm25_faiss_37:메뉴이름  불고기 버거 카테고리는 버거 이며 신메뉴가 아니다 이 메뉴는 한국인의 입맛에 딱 맞는 불고기 소스에 잘 재운 패티와 고소한 마요네즈 신선한 양상추의 맛있는 조합   이다 식재료는 난류대두밀돼지고기조개굴가 들어간다 중량은 167g이다 열량은 409kcal이다 단품가격은 4200원 세트가격은 6600원이다\n",
      "=================================================\n",
      "okt_bm25_faiss_73:메뉴이름  슈슈 버거 카테고리는 버거 이며 신메뉴가 아니다 이 메뉴는 탱글한 통새우살 가득 슈슈 버거 이다 식재료는 난류우유대두밀토마토새우쇠고기굴가 들어간다 중량은 224g이다 열량은 409kcal이다 단품가격은 5500원 세트가격은 7300원이다\n",
      "=================================================\n",
      "okt_bm25_faiss_37:메뉴이름  불고기 버거 카테고리는 버거 이며 신메뉴가 아니다 이 메뉴는 한국인의 입맛에 딱 맞는 불고기 소스에 잘 재운 패티와 고소한 마요네즈 신선한 양상추의 맛있는 조합   이다 식재료는 난류대두밀돼지고기조개굴가 들어간다 중량은 167g이다 열량은 409kcal이다 단품가격은 4200원 세트가격은 6600원이다\n"
     ]
    }
   ],
   "source": [
    "query = \"세트가격이 제일 싼 버거는 뭐야?\"\n",
    "results(query)"
   ]
  }
 ],
 "metadata": {
  "kernelspec": {
   "display_name": "py-test",
   "language": "python",
   "name": "python3"
  },
  "language_info": {
   "codemirror_mode": {
    "name": "ipython",
    "version": 3
   },
   "file_extension": ".py",
   "mimetype": "text/x-python",
   "name": "python",
   "nbconvert_exporter": "python",
   "pygments_lexer": "ipython3",
   "version": "3.10.12"
  }
 },
 "nbformat": 4,
 "nbformat_minor": 5
}
